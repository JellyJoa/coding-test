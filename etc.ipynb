{
 "cells": [
  {
   "cell_type": "code",
   "execution_count": 1,
   "outputs": [
    {
     "data": {
      "text/plain": "''"
     },
     "execution_count": 1,
     "metadata": {},
     "output_type": "execute_result"
    }
   ],
   "source": [
    "def solution(survey, choices):\n",
    "    answer = ''\n",
    "    score = [3, 2, 1, 0, 1, 2, 3]\n",
    "    result = {}\n",
    "    for i in range(len(survey)):\n",
    "        if choices[i] < 4:\n",
    "            survey[i] = survey[i][0]\n",
    "            result[survey[i]] = score[choices[i]-1]\n",
    "        elif 4 < choices[i] <=7:\n",
    "            survey[i] = survey[i][1]\n",
    "            result[survey[i]] = score[choices[i]-1]\n",
    "        else:\n",
    "            survey[i].sort()\n",
    "            print(survey[i])\n",
    "            survey[i] = survey[i][0]\n",
    "            result[survey[i]] = 0\n",
    "    if R == T in result:\n",
    "\n",
    "    return answer\n",
    "\n",
    "survey = ['AN', 'CF', 'MJ', 'RT', 'NA']\n",
    "choices = [5, 3, 1, 7, 5]\n",
    "solution(survey, choices)"
   ],
   "metadata": {
    "collapsed": false,
    "pycharm": {
     "name": "#%%\n"
    }
   }
  },
  {
   "cell_type": "code",
   "execution_count": 23,
   "outputs": [
    {
     "name": "stdout",
     "output_type": "stream",
     "text": [
      "[[1, 2, 3], [4, 5, 6], [7, 8, 9]]\n",
      "[[1, 2, 3], [1, 2, 3], [1, 2, 3]]\n",
      "[[1, 2, 3], [1, 2, 3], [1, 2, 3]]\n"
     ]
    },
    {
     "data": {
      "text/plain": "[[1, 2, 3], [1, 2, 3], [1, 2, 3]]"
     },
     "execution_count": 23,
     "metadata": {},
     "output_type": "execute_result"
    }
   ],
   "source": [
    "def solution(rc, operations):\n",
    "    answer = rc\n",
    "    print(answer)\n",
    "    for i in operations:\n",
    "        if i == 'Roate':\n",
    "            Rotate(rc, answer)\n",
    "            rc = answer\n",
    "        else:\n",
    "            ShiftRow(rc, answer)\n",
    "            rc = answer\n",
    "    return answer\n",
    "\n",
    "\n",
    "def ShiftRow(rc, answer):\n",
    "    for i in range(len(rc)):\n",
    "        if i == len(rc)-1:\n",
    "            answer[0] = rc[-1]\n",
    "            print(answer)\n",
    "        else:\n",
    "            answer[i+1] = rc[i]\n",
    "    return answer\n",
    "\n",
    "def Rotate(rc, answer):\n",
    "    keep1 = 0\n",
    "    keep2 = 0\n",
    "    for i in range(len(rc)):\n",
    "        for j in range(len(rc[0])):\n",
    "            if i == 0:\n",
    "                keep1 += rc[i][-1]\n",
    "                answer[i][j] = rc[i][j-1]\n",
    "                print(answer)\n",
    "            elif i == len(rc)-1:\n",
    "                keep2 += rc[i][0]\n",
    "                answer[i][j] = rc[i][j+1]\n",
    "                print(answer)\n",
    "            else:\n",
    "                if j == 0:\n",
    "                    answer[i][j] = rc[i+1][j]\n",
    "                    answer[-1][j] = keep2\n",
    "                    print(answer)\n",
    "                elif j == len(rc[0])-1:\n",
    "                    answer[i][j] = rc[i][j-1]\n",
    "                    answer[0][j] = keep1\n",
    "                    print(answer)\n",
    "    return answer\n",
    "\n",
    "    # for i, j in zip(range(len(rc[0])), range(len(rc))):\n",
    "    #     if j == 0 and i != len(rc[0]):\n",
    "    #         keep1 += rc[0][-1]\n",
    "    #         answer[0][i+1] = rc[0][i]\n",
    "    #     elif j == len(rc) and i != 0:\n",
    "    #         keep2 += rc[-1][0]\n",
    "    #         answer[-1][i-1] = rc[-1][i]\n",
    "    #     elif j != 0 and j != len(rc):\n",
    "    #         answer[j-1][0] = rc[j][0]\n",
    "    #         answer[-1][0] = keep2\n",
    "    #         answer[j+1][-1] = rc[j][-1]\n",
    "    #         answer[j][-1] = keep1\n",
    "    # return rc\n",
    "\n",
    "\n",
    "rc = [[1,2,3],[4,5,6],[7,8,9]]\n",
    "operations=[\"Rotate\", 'ShiftRow']\n",
    "solution(rc, operations)"
   ],
   "metadata": {
    "collapsed": false,
    "pycharm": {
     "name": "#%%\n"
    }
   }
  },
  {
   "cell_type": "code",
   "execution_count": 26,
   "outputs": [
    {
     "data": {
      "text/plain": "[4, 5, -1, 2, 1]"
     },
     "execution_count": 26,
     "metadata": {},
     "output_type": "execute_result"
    }
   ],
   "source": [
    "def solution(n, a):\n",
    "    b = [0] * n\n",
    "    if n == 1:\n",
    "        b = a\n",
    "    else:\n",
    "        for i in range(n):\n",
    "            if i == 0:\n",
    "                b[i] = 0 + a[i] + a[i+1]\n",
    "            elif i == n-1:\n",
    "                b[i] = a[i-1] + a[i] + 0\n",
    "            else:\n",
    "                b[i] = a[i-1] + a[i] + a[i+1]\n",
    "    return b\n",
    "\n",
    "n = 5\n",
    "a = [4, 0, 1, -2, 3]\n",
    "solution(n, a)"
   ],
   "metadata": {
    "collapsed": false,
    "pycharm": {
     "name": "#%%\n"
    }
   }
  },
  {
   "cell_type": "code",
   "execution_count": 37,
   "outputs": [
    {
     "name": "stdout",
     "output_type": "stream",
     "text": [
      "[0, 0, 1, 0, 0, 0, 0, 0, 0, 0]\n",
      "[0, 0, 1, 0, 0, 1, 0, 0, 0, 0]\n",
      "[0, 0, 2, 0, 0, 1, 0, 0, 0, 0]\n",
      "[0, 0, 2, 1, 0, 1, 0, 0, 0, 0]\n",
      "[0, 0, 2, 1, 0, 2, 0, 0, 0, 0]\n",
      "[0, 0, 2, 1, 0, 2, 0, 1, 0, 0]\n",
      "[0, 0, 2, 2, 0, 2, 0, 1, 0, 0]\n",
      "[0, 0, 2, 2, 0, 2, 0, 1, 1, 0]\n",
      "[0, 0, 2, 2, 1, 2, 0, 1, 1, 0]\n",
      "[0, 1, 2, 2, 1, 2, 0, 1, 1, 0]\n",
      "2\n"
     ]
    },
    {
     "data": {
      "text/plain": "[2, 3, 5]"
     },
     "execution_count": 37,
     "metadata": {},
     "output_type": "execute_result"
    }
   ],
   "source": [
    "def solution(a):\n",
    "    # a = str(a)\n",
    "    cnt = [0] * 10\n",
    "    result = []\n",
    "    for i in a:\n",
    "        if len(str(i)) == 1:\n",
    "            # i = int(i)\n",
    "            cnt[i] += 1\n",
    "            print(cnt)\n",
    "        else:\n",
    "            for j in str(i):\n",
    "                cnt[int(j)] += 1\n",
    "                print(cnt)\n",
    "    max_cnt = max(cnt)\n",
    "    print(max_cnt)\n",
    "    for i in range(10):\n",
    "        if cnt[i] == max_cnt:\n",
    "            result.append(i)\n",
    "    return result\n",
    "\n",
    "a = [25, 2, 3, 57, 38, 41]\n",
    "solution(a)"
   ],
   "metadata": {
    "collapsed": false,
    "pycharm": {
     "name": "#%%\n"
    }
   }
  },
  {
   "cell_type": "code",
   "execution_count": null,
   "outputs": [],
   "source": [
    "def solution(arr):\n",
    "    result = ''\n",
    "    len = []\n",
    "    for i in arr:\n",
    "        len.append(len(i))\n",
    "    for j in range(max(len)):\n",
    "        for\n",
    "    return result\n",
    "\n",
    "arr = ['Daisy', 'Rose', 'Hyacinth', 'Poppy']"
   ],
   "metadata": {
    "collapsed": false,
    "pycharm": {
     "name": "#%%\n"
    }
   }
  },
  {
   "cell_type": "code",
   "execution_count": 47,
   "outputs": [
    {
     "name": "stdout",
     "output_type": "stream",
     "text": [
      "[2, 3, 3, 0]\n"
     ]
    },
    {
     "data": {
      "text/plain": "8"
     },
     "execution_count": 47,
     "metadata": {},
     "output_type": "execute_result"
    }
   ],
   "source": [
    "def solution(a):\n",
    "    numbers = [2**i for i in range(len(a))]\n",
    "    cnt = [0] * (len(a))\n",
    "    cnt_lst = []\n",
    "\n",
    "    for i in range(len(a)):\n",
    "       for j in range(len(a)):\n",
    "           num = a[i] + a[j]\n",
    "           if num in numbers:\n",
    "               index = numbers.index(num)\n",
    "               cnt_lst.append([i, j])\n",
    "               cnt[index] += 1\n",
    "           if [i, j] and [j, i] in cnt_lst:\n",
    "               cnt_lst.remove([j, i])\n",
    "    result = 0\n",
    "    print(cnt)\n",
    "    for i in cnt:\n",
    "        result += i\n",
    "    return result\n",
    "\n",
    "a = [1, -1, 2, 3]\n",
    "solution(a)"
   ],
   "metadata": {
    "collapsed": false,
    "pycharm": {
     "name": "#%%\n"
    }
   }
  }
 ],
 "metadata": {
  "kernelspec": {
   "display_name": "Python 3",
   "language": "python",
   "name": "python3"
  },
  "language_info": {
   "codemirror_mode": {
    "name": "ipython",
    "version": 2
   },
   "file_extension": ".py",
   "mimetype": "text/x-python",
   "name": "python",
   "nbconvert_exporter": "python",
   "pygments_lexer": "ipython2",
   "version": "2.7.6"
  }
 },
 "nbformat": 4,
 "nbformat_minor": 0
}