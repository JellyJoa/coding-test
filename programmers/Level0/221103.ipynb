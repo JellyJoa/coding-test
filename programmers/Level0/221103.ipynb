{
 "cells": [
  {
   "cell_type": "markdown",
   "id": "93a27277-9dff-4a09-83ed-e1062bd10fbe",
   "metadata": {},
   "source": [
    "# 숨어있는 숫자의 덧셈 (2)\n",
    "\n",
    "문자열 my_string이 매개변수로 주어집니다. my_string은 소문자, 대문자, 자연수로만 구성되어있습니다. my_string안의 자연수들의 합을 return하도록 solution 함수를 완성해주세요."
   ]
  },
  {
   "cell_type": "code",
   "execution_count": 8,
   "id": "679b9e9c-3865-409a-b852-d15d15bb62d3",
   "metadata": {},
   "outputs": [],
   "source": [
    "# my\n",
    "def solution(my_string):\n",
    "    answer = 0\n",
    "    num = list(range(1, 1000+1, 1))\n",
    "    for i in num[::-1]:\n",
    "        if str(i) in my_string:\n",
    "            cnt = my_string.count(str(i))\n",
    "            answer += i*cnt\n",
    "            my_string = my_string.replace(str(i), '')\n",
    "    return answer"
   ]
  },
  {
   "cell_type": "code",
   "execution_count": 15,
   "id": "1b9787ff-7d13-421b-bcb8-8e5d22b312f4",
   "metadata": {},
   "outputs": [
    {
     "data": {
      "text/plain": [
       "242"
      ]
     },
     "execution_count": 15,
     "metadata": {},
     "output_type": "execute_result"
    }
   ],
   "source": [
    "my_string = \"aA121bcCoddwqr121p\"\n",
    "solution(my_string)"
   ]
  },
  {
   "cell_type": "code",
   "execution_count": 10,
   "id": "f5abc477-ec4a-4f7e-8755-5da450420c9c",
   "metadata": {},
   "outputs": [],
   "source": [
    "# others\n",
    "\n",
    "import re     # 정수와 실수 모두 찾는 정규표현식.\n",
    "              # 앞에 플러스 마이너스 부호가 있을수도 있고 소수점이 포함될수도 있음\n",
    "              # ^ : 행의 첫부분\n",
    "              # [+-]? : 앞에 플러스 또는 마이너스 기호가 없거나 1개 있음\n",
    "              # \\d+ : 아라비아 숫자가 0 이상의 개수로 있다는 조건. 즉, 숫자가 없거나 여러개 있음\n",
    "              #        0.123이 .123으로 표현될 경우를 고려. 단, 이때는 숫자가 아닌 마침표(.)하나도 숫자로 간주\n",
    "              # (\\.?\\d+) : 소수부 처리 부분. \\.?는 소수점이 없거나 1개 있음\n",
    "              #            \\d*는 0개 이상의 아라비아 숫자 있음(소수점인 마침표를 정규시의 '임의의 문자 1개'를\n",
    "              #            의미하는 마침표와 구분하기 위해 앞에 \\를 붙임\n",
    "              #            또한, 소괄호로 둘러싸서 소수부 처리 부분을 한 묶음으로 표현\n",
    "def solution(my_string):\n",
    "    numbers = list(map(int, re.findall(r'\\d+', my_string)))      # r'' : raw string\n",
    "    return sum(numbers)"
   ]
  },
  {
   "cell_type": "code",
   "execution_count": 12,
   "id": "df7f2088-ddc5-47b7-8baa-3128cef376dc",
   "metadata": {},
   "outputs": [],
   "source": [
    "def solution(my_string):\n",
    "    return sum([int(i) for i in re.findall(r'[0-9]+', my_string)])"
   ]
  },
  {
   "cell_type": "code",
   "execution_count": 14,
   "id": "acbda380-2d75-4ea6-b940-b8df9a8b6447",
   "metadata": {},
   "outputs": [],
   "source": [
    "def solution(my_string):\n",
    "    s = ''.join(i if i.isdigit() else ' ' for i in my_string)\n",
    "    return sum(int(i) for i in s.split())"
   ]
  },
  {
   "cell_type": "code",
   "execution_count": null,
   "id": "d3a4b7c3-53e4-4934-9b0f-a1be5eb21c64",
   "metadata": {},
   "outputs": [],
   "source": []
  },
  {
   "cell_type": "code",
   "execution_count": null,
   "id": "86e5d3dc-7f8c-4c26-a013-1be8714ec8ca",
   "metadata": {},
   "outputs": [],
   "source": []
  },
  {
   "cell_type": "code",
   "execution_count": null,
   "id": "a50e6189-962d-4242-8f47-f8a8e66d9728",
   "metadata": {},
   "outputs": [],
   "source": []
  }
 ],
 "metadata": {
  "kernelspec": {
   "display_name": "Python 3 (ipykernel)",
   "language": "python",
   "name": "python3"
  },
  "language_info": {
   "codemirror_mode": {
    "name": "ipython",
    "version": 3
   },
   "file_extension": ".py",
   "mimetype": "text/x-python",
   "name": "python",
   "nbconvert_exporter": "python",
   "pygments_lexer": "ipython3",
   "version": "3.9.12"
  }
 },
 "nbformat": 4,
 "nbformat_minor": 5
}
