{
 "cells": [
  {
   "cell_type": "markdown",
   "id": "ea057bf6-bc33-4798-a8a6-3d8fa977f5e6",
   "metadata": {},
   "source": [
    "# 이진수 더하기\n",
    "\n",
    "이진수를 의미하는 두 개의 문자열 bin1과 bin2가 매개변수로 주어질 때, 두 이진수의 합을 return하도록 solution 함수를 완성해주세요.\n",
    "\n"
   ]
  },
  {
   "cell_type": "code",
   "execution_count": 4,
   "id": "b8ce9e0a-c460-4236-b492-c8930425b5f8",
   "metadata": {},
   "outputs": [],
   "source": [
    "def solution(bin1, bin2):\n",
    "    result = int(bin1) + int(bin2)\n",
    "    numbers = list(str(result))\n",
    "    \n",
    "    while True:\n",
    "        for i, v in enumerate(numbers):\n",
    "            num = int(v)\n",
    "            if num >= 2:\n",
    "                numbers[i] = str(num-2)\n",
    "                if i == 0:\n",
    "                    numbers.insert(i, '1')\n",
    "                else:\n",
    "                    numbers[i-1] = str(int(numbers[i-1])+1)\n",
    "                    \n",
    "        if not '2' in numbers:\n",
    "            return ''.join(i for i in numbers)"
   ]
  },
  {
   "cell_type": "code",
   "execution_count": 7,
   "id": "508b7f07-16b1-4f00-bf19-b865146e1d8f",
   "metadata": {},
   "outputs": [
    {
     "data": {
      "text/plain": [
       "'101'"
      ]
     },
     "execution_count": 7,
     "metadata": {},
     "output_type": "execute_result"
    }
   ],
   "source": [
    "bin1 = '10'\n",
    "bin2 = '11'\n",
    "solution(bin1, bin2)"
   ]
  },
  {
   "cell_type": "code",
   "execution_count": 6,
   "id": "77a2b208-e545-4c50-96ad-336743f28bee",
   "metadata": {},
   "outputs": [],
   "source": [
    "# others\n",
    "\n",
    "def solution(bin1, bin2):\n",
    "    answer = bin(int(bin1,2) + int(bin2,2))[2:]\n",
    "    return answer"
   ]
  },
  {
   "cell_type": "code",
   "execution_count": 15,
   "id": "fe3c649f-aeef-4bdf-b251-a27117802341",
   "metadata": {},
   "outputs": [
    {
     "ename": "ValueError",
     "evalue": "invalid literal for int() with base 2: '20111011'",
     "output_type": "error",
     "traceback": [
      "\u001b[1;31m---------------------------------------------------------------------------\u001b[0m",
      "\u001b[1;31mValueError\u001b[0m                                Traceback (most recent call last)",
      "Cell \u001b[1;32mIn [15], line 1\u001b[0m\n\u001b[1;32m----> 1\u001b[0m a \u001b[38;5;241m=\u001b[39m \u001b[38;5;28mbin\u001b[39m(\u001b[38;5;28;43mint\u001b[39;49m\u001b[43m(\u001b[49m\u001b[38;5;124;43m'\u001b[39;49m\u001b[38;5;124;43m20111011\u001b[39;49m\u001b[38;5;124;43m'\u001b[39;49m\u001b[43m,\u001b[49m\u001b[38;5;241;43m2\u001b[39;49m\u001b[43m)\u001b[49m)\n\u001b[0;32m      2\u001b[0m \u001b[38;5;28mprint\u001b[39m(a)\n",
      "\u001b[1;31mValueError\u001b[0m: invalid literal for int() with base 2: '20111011'"
     ]
    }
   ],
   "source": [
    "a = bin(int('20111011',2))\n",
    "print(a)"
   ]
  },
  {
   "cell_type": "markdown",
   "id": "3403ca14-865b-47a3-8f73-a27bd962f4a8",
   "metadata": {},
   "source": [
    "# 옹알이(1)\n",
    "\n",
    "머쓱이는 태어난 지 6개월 된 조카를 돌보고 있습니다. 조카는 아직 \"aya\", \"ye\", \"woo\", \"ma\" 네 가지 발음을 최대 한 번씩 사용해 조합한(이어 붙인) 발음밖에 하지 못합니다. 문자열 배열 babbling이 매개변수로 주어질 때, 머쓱이의 조카가 발음할 수 있는 단어의 개수를 return하도록 solution 함수를 완성해주세요."
   ]
  },
  {
   "cell_type": "code",
   "execution_count": 18,
   "id": "8eca6f07-6e38-4dc1-9670-177d4e8a046c",
   "metadata": {},
   "outputs": [],
   "source": [
    "def solution(babbling):\n",
    "    answer = 0\n",
    "    bab = ['aya', 'ye', 'woo', 'ma']\n",
    "    \n",
    "    for i in babbling:\n",
    "        c = 0\n",
    "        for b in bab:\n",
    "            if b in i:\n",
    "                i = i.replace(b, ' ')\n",
    "                c += 1\n",
    "        if len(i) == c:\n",
    "            answer += 1\n",
    "            \n",
    "    return answer"
   ]
  },
  {
   "cell_type": "code",
   "execution_count": 19,
   "id": "17bb0907-3861-427d-b243-2cb8cd4873aa",
   "metadata": {},
   "outputs": [
    {
     "data": {
      "text/plain": [
       "1"
      ]
     },
     "execution_count": 19,
     "metadata": {},
     "output_type": "execute_result"
    }
   ],
   "source": [
    "babbling = [\"aya\", \"yee\", \"u\", \"maa\", \"wyeoo\"]\n",
    "solution(babbling)"
   ]
  }
 ],
 "metadata": {
  "kernelspec": {
   "display_name": "Python 3 (ipykernel)",
   "language": "python",
   "name": "python3"
  },
  "language_info": {
   "codemirror_mode": {
    "name": "ipython",
    "version": 3
   },
   "file_extension": ".py",
   "mimetype": "text/x-python",
   "name": "python",
   "nbconvert_exporter": "python",
   "pygments_lexer": "ipython3",
   "version": "3.9.12"
  }
 },
 "nbformat": 4,
 "nbformat_minor": 5
}
