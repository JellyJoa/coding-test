{
 "cells": [
  {
   "cell_type": "markdown",
   "id": "390961ac-6d16-4fde-a11d-fedd65e4c162",
   "metadata": {},
   "source": [
    "# 소인수분해\n",
    "\n",
    "소인수분해란 어떤 수를 소수들의 곱으로 표현하는 것입니다. 예를 들어 12를 소인수 분해하면 2 * 2 * 3 으로 나타낼 수 있습니다. 따라서 12의 소인수는 2와 3입니다. 자연수 n이 매개변수로 주어질 때 n의 소인수를 오름차순으로 담은 배열을 return하도록 solution 함수를 완성해주세요."
   ]
  },
  {
   "cell_type": "code",
   "execution_count": 1,
   "id": "5d08850f-bbc1-44a4-a0ad-2bf29b0a8c73",
   "metadata": {},
   "outputs": [],
   "source": [
    "# others\n",
    "\n",
    "def solution(n):\n",
    "    re = []\n",
    "    for i in range(2, n+1):\n",
    "        if n % i == 0:\n",
    "            re.append(i)\n",
    "            \n",
    "    for j in re:\n",
    "        for k in range(2, n):\n",
    "            if j * k in re:\n",
    "                re.remove(j*k)\n",
    "    return re"
   ]
  },
  {
   "cell_type": "code",
   "execution_count": 4,
   "id": "ef05e9e8-d01b-48dd-a182-ac21210c0509",
   "metadata": {},
   "outputs": [
    {
     "data": {
      "text/plain": [
       "[2, 3]"
      ]
     },
     "execution_count": 4,
     "metadata": {},
     "output_type": "execute_result"
    }
   ],
   "source": [
    "n = 12\n",
    "solution(n)"
   ]
  },
  {
   "cell_type": "code",
   "execution_count": 3,
   "id": "e5d88ade-84ac-4cd1-acf5-ea854e81134c",
   "metadata": {},
   "outputs": [],
   "source": [
    "# others\n",
    "\n",
    "def solution(n):\n",
    "    answer = []\n",
    "    d = 2\n",
    "    while d <= n:\n",
    "        if n % d == 0:\n",
    "            n /= d\n",
    "            if d not in answer:\n",
    "                answer.append(d)\n",
    "        else:\n",
    "            d += 1\n",
    "    return answer"
   ]
  },
  {
   "cell_type": "markdown",
   "id": "64ab896b-c15c-4b13-85e8-1a96aa810e3e",
   "metadata": {},
   "source": [
    "# 컨트롤 제트 (미해결)\n",
    "\n",
    "숫자들이 공백으로 구분된 문자열이 주어집니다. 문자열에 있는 숫자를 차례대로 더하려고 합니다. 이 때 “\bZ”가 나오면 바로 전에 더했던 숫자를 뺀다는 뜻입니다. 숫자와 “Z”로 이루어진 문자열 s가 주어질 때, 머쓱이가 구한 값을 return 하도록 solution 함수를 완성해보세요.\n",
    "\n"
   ]
  },
  {
   "cell_type": "code",
   "execution_count": 14,
   "id": "5c5c1ee8-af66-4246-88cb-ea972946f51f",
   "metadata": {},
   "outputs": [],
   "source": [
    "def solution(s):\n",
    "    answer = 0\n",
    "    num = s.split()\n",
    "    for i in range(len(num)):\n",
    "        if num[i] == 'Z':\n",
    "            if i > 0 and num[i-1] != 'Z':\n",
    "                answer -= int(num[i-1])\n",
    "            elif i>=2 and num[i-1] == 'Z':\n",
    "                answer -= int(num[i-2])\n",
    "        else:\n",
    "            answer += int(num[i])\n",
    "    return answer"
   ]
  },
  {
   "cell_type": "code",
   "execution_count": 15,
   "id": "c821427a-2d96-4678-bcc2-ec2c63717f5e",
   "metadata": {},
   "outputs": [
    {
     "data": {
      "text/plain": [
       "4"
      ]
     },
     "execution_count": 15,
     "metadata": {},
     "output_type": "execute_result"
    }
   ],
   "source": [
    "s = 'Z Z 9 Z 4 5 Z'\n",
    "solution(s)"
   ]
  },
  {
   "cell_type": "code",
   "execution_count": 11,
   "id": "20080db4-979e-4fb6-92cc-fb27a6f864a8",
   "metadata": {},
   "outputs": [],
   "source": [
    "def solution(s):\n",
    "    answer = 0\n",
    "    s = s.split() \n",
    "    r = []  \n",
    "    for i in s:\n",
    "        print(r)\n",
    "        if i.isdigit():\n",
    "            r.append(int(i))\n",
    "        else:\n",
    "            if len(r) == 0:\n",
    "                continue\n",
    "            else: r.pop()\n",
    "\n",
    "    return sum(r)"
   ]
  }
 ],
 "metadata": {
  "kernelspec": {
   "display_name": "Python 3 (ipykernel)",
   "language": "python",
   "name": "python3"
  },
  "language_info": {
   "codemirror_mode": {
    "name": "ipython",
    "version": 3
   },
   "file_extension": ".py",
   "mimetype": "text/x-python",
   "name": "python",
   "nbconvert_exporter": "python",
   "pygments_lexer": "ipython3",
   "version": "3.9.12"
  }
 },
 "nbformat": 4,
 "nbformat_minor": 5
}
