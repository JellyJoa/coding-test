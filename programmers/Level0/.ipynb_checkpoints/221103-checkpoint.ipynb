{
 "cells": [
  {
   "cell_type": "markdown",
   "id": "93a27277-9dff-4a09-83ed-e1062bd10fbe",
   "metadata": {},
   "source": [
    "# 숨어있는 숫자의 덧셈 (2)\n",
    "\n",
    "문자열 my_string이 매개변수로 주어집니다. my_string은 소문자, 대문자, 자연수로만 구성되어있습니다. my_string안의 자연수들의 합을 return하도록 solution 함수를 완성해주세요."
   ]
  },
  {
   "cell_type": "code",
   "execution_count": 8,
   "id": "679b9e9c-3865-409a-b852-d15d15bb62d3",
   "metadata": {},
   "outputs": [],
   "source": [
    "# my\n",
    "def solution(my_string):\n",
    "    answer = 0\n",
    "    num = list(range(1, 1000+1, 1))\n",
    "    for i in num[::-1]:\n",
    "        if str(i) in my_string:\n",
    "            cnt = my_string.count(str(i))\n",
    "            answer += i*cnt\n",
    "            my_string = my_string.replace(str(i), '')\n",
    "    return answer"
   ]
  },
  {
   "cell_type": "code",
   "execution_count": 15,
   "id": "1b9787ff-7d13-421b-bcb8-8e5d22b312f4",
   "metadata": {},
   "outputs": [
    {
     "data": {
      "text/plain": [
       "242"
      ]
     },
     "execution_count": 15,
     "metadata": {},
     "output_type": "execute_result"
    }
   ],
   "source": [
    "my_string = \"aA121bcCoddwqr121p\"\n",
    "solution(my_string)"
   ]
  },
  {
   "cell_type": "code",
   "execution_count": 10,
   "id": "f5abc477-ec4a-4f7e-8755-5da450420c9c",
   "metadata": {},
   "outputs": [],
   "source": [
    "# others\n",
    "\n",
    "import re     # 정수와 실수 모두 찾는 정규표현식.\n",
    "              # 앞에 플러스 마이너스 부호가 있을수도 있고 소수점이 포함될수도 있음\n",
    "              # ^ : 행의 첫부분\n",
    "              # [+-]? : 앞에 플러스 또는 마이너스 기호가 없거나 1개 있음\n",
    "              # \\d+ : 아라비아 숫자가 0 이상의 개수로 있다는 조건. 즉, 숫자가 없거나 여러개 있음\n",
    "              #        0.123이 .123으로 표현될 경우를 고려. 단, 이때는 숫자가 아닌 마침표(.)하나도 숫자로 간주\n",
    "              # (\\.?\\d+) : 소수부 처리 부분. \\.?는 소수점이 없거나 1개 있음\n",
    "              #            \\d*는 0개 이상의 아라비아 숫자 있음(소수점인 마침표를 정규시의 '임의의 문자 1개'를\n",
    "              #            의미하는 마침표와 구분하기 위해 앞에 \\를 붙임\n",
    "              #            또한, 소괄호로 둘러싸서 소수부 처리 부분을 한 묶음으로 표현\n",
    "def solution(my_string):\n",
    "    numbers = list(map(int, re.findall(r'\\d+', my_string)))      # r'' : raw string\n",
    "    return sum(numbers)"
   ]
  },
  {
   "cell_type": "code",
   "execution_count": 12,
   "id": "df7f2088-ddc5-47b7-8baa-3128cef376dc",
   "metadata": {},
   "outputs": [],
   "source": [
    "def solution(my_string):\n",
    "    return sum([int(i) for i in re.findall(r'[0-9]+', my_string)])"
   ]
  },
  {
   "cell_type": "code",
   "execution_count": 14,
   "id": "acbda380-2d75-4ea6-b940-b8df9a8b6447",
   "metadata": {},
   "outputs": [],
   "source": [
    "def solution(my_string):\n",
    "    s = ''.join(i if i.isdigit() else ' ' for i in my_string)\n",
    "    return sum(int(i) for i in s.split())"
   ]
  },
  {
   "cell_type": "markdown",
   "id": "a878ddd9-12e0-4013-96c9-ff2d233e6a64",
   "metadata": {},
   "source": [
    "# 캐릭터의 좌표\n",
    "\n",
    "머쓱이는 RPG게임을 하고 있습니다. 게임에는 up, down, left, right 방향키가 있으며 각 키를 누르면 위, 아래, 왼쪽, 오른쪽으로 한 칸씩 이동합니다. 예를 들어 [0,0]에서 up을 누른다면 캐릭터의 좌표는 [0, 1], down을 누른다면 [0, -1], left를 누른다면 [-1, 0], right를 누른다면 [1, 0]입니다. 머쓱이가 입력한 방향키의 배열 keyinput와 맵의 크기 board이 매개변수로 주어집니다. 캐릭터는 항상 [0,0]에서 시작할 때 키 입력이 모두 끝난 뒤에 캐릭터의 좌표 [x, y]를 return하도록 solution 함수를 완성해주세요."
   ]
  },
  {
   "cell_type": "code",
   "execution_count": 16,
   "id": "86e5d3dc-7f8c-4c26-a013-1be8714ec8ca",
   "metadata": {},
   "outputs": [],
   "source": [
    "# my\n",
    "def solution(keyinput, board):\n",
    "    answer = []\n",
    "    x = 0\n",
    "    y = 0\n",
    "    for key in keyinput:\n",
    "        if key == 'left':\n",
    "            x -= 1\n",
    "        elif key == 'right':\n",
    "            x += 1\n",
    "        elif key == 'up':\n",
    "            y += 1\n",
    "        else:\n",
    "            y -= 1\n",
    "        \n",
    "        \n",
    "        if abs(x) > board[0]//2:\n",
    "            if x > 0:\n",
    "                x = board[0] // 2\n",
    "            else:\n",
    "                x = -(board[0]//2)\n",
    "        if abs(y) > board[1]//2:\n",
    "            if y > 0:\n",
    "                y = board[1] // 2\n",
    "            else:\n",
    "                y = -(board[1]//2)\n",
    "            \n",
    "\n",
    "    answer.append(x)\n",
    "    answer.append(y)\n",
    "    return answer"
   ]
  },
  {
   "cell_type": "code",
   "execution_count": 19,
   "id": "a50e6189-962d-4242-8f47-f8a8e66d9728",
   "metadata": {},
   "outputs": [
    {
     "data": {
      "text/plain": [
       "[2, 1]"
      ]
     },
     "execution_count": 19,
     "metadata": {},
     "output_type": "execute_result"
    }
   ],
   "source": [
    "keyinput = [\"left\", \"right\", \"up\", \"right\", \"right\"]\n",
    "board = [11,11]\n",
    "solution(keyinput, board)"
   ]
  },
  {
   "cell_type": "code",
   "execution_count": 18,
   "id": "28fd9af4-43fe-437a-8d83-999e2b762fe1",
   "metadata": {},
   "outputs": [],
   "source": [
    "# others\n",
    "\n",
    "def solution(keyinput, board):\n",
    "    x_lim, y_lim = board[0]//2, board[1]//2\n",
    "    move = {'left':(-1,0), 'right':(1,0), 'up':(0,1), 'down':(0,-1)}\n",
    "    x, y = 0,0\n",
    "    for k in keyinput:\n",
    "        dx, dy = move[k]\n",
    "        if abs(x+dx) > x_lim or abs(y+dy) > y_lim:\n",
    "            continue\n",
    "        else:\n",
    "            x, y = x+dx, y+dy\n",
    "    return [x, y]"
   ]
  },
  {
   "cell_type": "markdown",
   "id": "48d8ef16-d83f-400b-a026-abd73e65eec9",
   "metadata": {},
   "source": [
    "# 다항식 더하기 (실패)\n",
    "\n",
    "한 개 이상의 항의 합으로 이루어진 식을 다항식이라고 합니다. 다항식을 계산할 때는 동류항끼리 계산해 정리합니다. 덧셈으로 이루어진 다항식 polynomial이 매개변수로 주어질 때, 동류항끼리 더한 결괏값을 문자열로 return 하도록 solution 함수를 완성해보세요. 같은 식이라면 가장 짧은 수식을 return 합니다."
   ]
  },
  {
   "cell_type": "code",
   "execution_count": 27,
   "id": "0639ee2a-b9b3-42cf-81fa-d5d349d060b5",
   "metadata": {},
   "outputs": [],
   "source": [
    "def solution(polynomial):\n",
    "    answer = ''\n",
    "    x = []\n",
    "    num = 0\n",
    "    x_num = 0\n",
    "    for poly in polynomial.split():\n",
    "        if 'x' in poly:\n",
    "            x.append(poly)\n",
    "        elif poly == '+':\n",
    "            pass\n",
    "        else:\n",
    "            num += int(poly)\n",
    "    for n in x:\n",
    "        if len(n) == 1:\n",
    "            x_num += 1\n",
    "        else:\n",
    "            x_num += int(n[0])\n",
    "    if num == 0:\n",
    "        if x_num == 0:\n",
    "            answer = 0\n",
    "        elif x_num == 1:\n",
    "            answer = x\n",
    "        else:\n",
    "            answer = f'{x_num}x'\n",
    "    else:\n",
    "        if x_num == 0:\n",
    "            answer = f'{num}'\n",
    "        elif x_num == 1:\n",
    "            answer = f'x + {num}'\n",
    "        else:\n",
    "            answer = f'{x_num}x + {num}'\n",
    "    return answer"
   ]
  },
  {
   "cell_type": "code",
   "execution_count": 28,
   "id": "58175a72-101e-4467-9413-fe86facf9d05",
   "metadata": {},
   "outputs": [
    {
     "data": {
      "text/plain": [
       "'4x + 7'"
      ]
     },
     "execution_count": 28,
     "metadata": {},
     "output_type": "execute_result"
    }
   ],
   "source": [
    "polynomial = \"3x + 7 + x\"\n",
    "solution(polynomial)"
   ]
  },
  {
   "cell_type": "code",
   "execution_count": null,
   "id": "1a9abeb7-a071-4bce-9be2-645003d1f0a9",
   "metadata": {},
   "outputs": [],
   "source": []
  },
  {
   "cell_type": "code",
   "execution_count": null,
   "id": "3f58bf42-4790-4676-9a46-4f1bc45796b1",
   "metadata": {},
   "outputs": [],
   "source": []
  },
  {
   "cell_type": "markdown",
   "id": "a8e46259-6ea7-4afc-a7a5-69896e73d583",
   "metadata": {},
   "source": [
    "# 구슬을 나누는 경우의 수\n",
    "\n",
    "머쓱이는 구슬을 친구들에게 나누어주려고 합니다. 구슬은 모두 다르게 생겼습니다. 머쓱이가 갖고 있는 구슬의 개수 balls와 친구들에게 나누어 줄 구슬 개수 share이 매개변수로 주어질 때, balls개의 구슬 중 share개의 구슬을 고르는 가능한 모든 경우의 수를 return 하는 solution 함수를 완성해주세요."
   ]
  },
  {
   "cell_type": "code",
   "execution_count": 29,
   "id": "b2a4636e-01e5-41ed-a71d-a15a3ed1781d",
   "metadata": {},
   "outputs": [],
   "source": [
    "# my\n",
    "def solution(balls, share):\n",
    "    up = 1\n",
    "    down = 1\n",
    "    for i in range(1, balls+1):\n",
    "        up *= i\n",
    "    for j in range(1, balls-share+1):\n",
    "        down *= j\n",
    "    for m in range(1, share+1):\n",
    "        down *= m\n",
    "    return up//down"
   ]
  },
  {
   "cell_type": "code",
   "execution_count": 37,
   "id": "877083db-34bb-4726-afc5-7a79e7f922d4",
   "metadata": {},
   "outputs": [
    {
     "data": {
      "text/plain": [
       "3.0"
      ]
     },
     "execution_count": 37,
     "metadata": {},
     "output_type": "execute_result"
    }
   ],
   "source": [
    "balls = 3\n",
    "share = 2\n",
    "solution(balls, share)"
   ]
  },
  {
   "cell_type": "code",
   "execution_count": 31,
   "id": "329baae2-7359-4de9-9bb2-174c7d362912",
   "metadata": {},
   "outputs": [],
   "source": [
    "# others\n",
    "\n",
    "import math\n",
    "def solution(balls, share):\n",
    "    return math.comb(balls, share)    # 조합"
   ]
  },
  {
   "cell_type": "code",
   "execution_count": 36,
   "id": "9f1dc948-84a2-45d5-ab09-d8cde2daafb3",
   "metadata": {},
   "outputs": [],
   "source": [
    "import math\n",
    "def solution(balls, share):\n",
    "    return math.factorial(balls)/(math.factorial(balls-share)*math.factorial(share))"
   ]
  }
 ],
 "metadata": {
  "kernelspec": {
   "display_name": "Python 3 (ipykernel)",
   "language": "python",
   "name": "python3"
  },
  "language_info": {
   "codemirror_mode": {
    "name": "ipython",
    "version": 3
   },
   "file_extension": ".py",
   "mimetype": "text/x-python",
   "name": "python",
   "nbconvert_exporter": "python",
   "pygments_lexer": "ipython3",
   "version": "3.9.12"
  }
 },
 "nbformat": 4,
 "nbformat_minor": 5
}
