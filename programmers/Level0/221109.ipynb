{
 "cells": [
  {
   "cell_type": "markdown",
   "id": "88b3c89e-f5f8-49e8-ad2a-d47ca0f10e92",
   "metadata": {},
   "source": [
    "# 로그인 성공?\n",
    "\n",
    "머쓱이는 프로그래머스에 로그인하려고 합니다. 머쓱이가 입력한 아이디와 패스워드가 담긴 배열 id_pw와 회원들의 정보가 담긴 2차원 배열 db가 주어질 때, 다음과 같이 로그인 성공, 실패에 따른 메시지를 return하도록 solution 함수를 완성해주세요."
   ]
  },
  {
   "cell_type": "code",
   "execution_count": 1,
   "id": "3830aec7-6c83-45d4-8521-5cb44109be3e",
   "metadata": {},
   "outputs": [],
   "source": [
    "def solution(id_pw, db):\n",
    "    answer = 'fail'\n",
    "    \n",
    "    for i in db:\n",
    "        if i[0] == id_pw[0]:\n",
    "            if i[1] == id_pw[1]:\n",
    "                return 'login'\n",
    "            else:\n",
    "                return 'wrong pw'                \n",
    "    return answer"
   ]
  },
  {
   "cell_type": "code",
   "execution_count": 2,
   "id": "12005ffd-4c39-4ff1-ab16-d1cdc10201c1",
   "metadata": {},
   "outputs": [
    {
     "data": {
      "text/plain": [
       "'login'"
      ]
     },
     "execution_count": 2,
     "metadata": {},
     "output_type": "execute_result"
    }
   ],
   "source": [
    "id_pw = [\"meosseugi\", \"1234\"]\n",
    "db = [[\"rardss\", \"123\"], [\"yyoom\", \"1234\"], [\"meosseugi\", \"1234\"]]\n",
    "solution(id_pw, db)"
   ]
  },
  {
   "cell_type": "code",
   "execution_count": 6,
   "id": "b87fb792-ca69-4f08-afbc-1993aa574fe5",
   "metadata": {},
   "outputs": [],
   "source": [
    "# others\n",
    "\n",
    "def solution(id_pw, db):\n",
    "    if db_pw := dict(db).get(id_pw[0]):\n",
    "        return 'login' if db_pw == id_pw[1] else 'wrong pw'\n",
    "    return 'fail'"
   ]
  },
  {
   "cell_type": "code",
   "execution_count": null,
   "id": "ace5b089-7ff1-4e42-9e49-ca740043f9b4",
   "metadata": {},
   "outputs": [],
   "source": []
  },
  {
   "cell_type": "code",
   "execution_count": null,
   "id": "c1ced7d4-5981-488f-a1e9-4967d59018b7",
   "metadata": {},
   "outputs": [],
   "source": []
  },
  {
   "cell_type": "code",
   "execution_count": null,
   "id": "885055cc-e5fe-4e87-936d-e216f7c6970d",
   "metadata": {},
   "outputs": [],
   "source": []
  },
  {
   "cell_type": "code",
   "execution_count": null,
   "id": "86344fb0-47aa-4f5a-b224-bfaf531b7157",
   "metadata": {},
   "outputs": [],
   "source": []
  }
 ],
 "metadata": {
  "kernelspec": {
   "display_name": "Python 3 (ipykernel)",
   "language": "python",
   "name": "python3"
  },
  "language_info": {
   "codemirror_mode": {
    "name": "ipython",
    "version": 3
   },
   "file_extension": ".py",
   "mimetype": "text/x-python",
   "name": "python",
   "nbconvert_exporter": "python",
   "pygments_lexer": "ipython3",
   "version": "3.9.12"
  }
 },
 "nbformat": 4,
 "nbformat_minor": 5
}
