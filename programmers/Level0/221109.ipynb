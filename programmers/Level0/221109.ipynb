{
 "cells": [
  {
   "cell_type": "markdown",
   "id": "88b3c89e-f5f8-49e8-ad2a-d47ca0f10e92",
   "metadata": {},
   "source": [
    "# 로그인 성공?\n",
    "\n",
    "머쓱이는 프로그래머스에 로그인하려고 합니다. 머쓱이가 입력한 아이디와 패스워드가 담긴 배열 id_pw와 회원들의 정보가 담긴 2차원 배열 db가 주어질 때, 다음과 같이 로그인 성공, 실패에 따른 메시지를 return하도록 solution 함수를 완성해주세요."
   ]
  },
  {
   "cell_type": "code",
   "execution_count": 1,
   "id": "3830aec7-6c83-45d4-8521-5cb44109be3e",
   "metadata": {},
   "outputs": [],
   "source": [
    "def solution(id_pw, db):\n",
    "    answer = 'fail'\n",
    "    \n",
    "    for i in db:\n",
    "        if i[0] == id_pw[0]:\n",
    "            if i[1] == id_pw[1]:\n",
    "                return 'login'\n",
    "            else:\n",
    "                return 'wrong pw'                \n",
    "    return answer"
   ]
  },
  {
   "cell_type": "code",
   "execution_count": 2,
   "id": "12005ffd-4c39-4ff1-ab16-d1cdc10201c1",
   "metadata": {},
   "outputs": [
    {
     "data": {
      "text/plain": [
       "'login'"
      ]
     },
     "execution_count": 2,
     "metadata": {},
     "output_type": "execute_result"
    }
   ],
   "source": [
    "id_pw = [\"meosseugi\", \"1234\"]\n",
    "db = [[\"rardss\", \"123\"], [\"yyoom\", \"1234\"], [\"meosseugi\", \"1234\"]]\n",
    "solution(id_pw, db)"
   ]
  },
  {
   "cell_type": "code",
   "execution_count": 6,
   "id": "b87fb792-ca69-4f08-afbc-1993aa574fe5",
   "metadata": {},
   "outputs": [],
   "source": [
    "# others\n",
    "\n",
    "def solution(id_pw, db):\n",
    "    if db_pw := dict(db).get(id_pw[0]):\n",
    "        return 'login' if db_pw == id_pw[1] else 'wrong pw'\n",
    "    return 'fail'\n",
    "\n",
    "# dict(db)에서 key에서 id가 같다면 db_pw로 value로 get\n",
    "# db_pw와 pw가 같다면 로그인"
   ]
  },
  {
   "cell_type": "markdown",
   "id": "494c71db-9b47-4150-96c5-9f2079c68097",
   "metadata": {},
   "source": [
    "# 최빈값 구하기\n",
    "\n",
    "최빈값은 주어진 값 중에서 가장 자주 나오는 값을 의미합니다. 정수 배열 array가 매개변수로 주어질 때, 최빈값을 return 하도록 solution 함수를 완성해보세요. 최빈값이 여러 개면 -1을 return 합니다."
   ]
  },
  {
   "cell_type": "code",
   "execution_count": 7,
   "id": "885055cc-e5fe-4e87-936d-e216f7c6970d",
   "metadata": {},
   "outputs": [],
   "source": [
    "def solution(array):\n",
    "    ar = list(set(array))\n",
    "    numcnt = [0]*len(ar)\n",
    "    \n",
    "    for i in ar:\n",
    "        index = ar.index(i)\n",
    "        for j in array:\n",
    "            if i == j:\n",
    "                numcnt[index] += 1\n",
    "    \n",
    "    maxi = max(numcnt)\n",
    "    cnt = 0\n",
    "    \n",
    "    for m in numcnt:\n",
    "        if m == maxi:\n",
    "            cnt+=1\n",
    "    \n",
    "    if cnt > 1:\n",
    "        return -1\n",
    "    else:\n",
    "        index = numcnt.index(maxi)\n",
    "        return ar[index]"
   ]
  },
  {
   "cell_type": "code",
   "execution_count": 12,
   "id": "86344fb0-47aa-4f5a-b224-bfaf531b7157",
   "metadata": {},
   "outputs": [
    {
     "name": "stdout",
     "output_type": "stream",
     "text": [
      "[2, 3, 3, 3, 4]\n",
      "[3, 3, 3, 4]\n",
      "[3, 3, 4]\n",
      "[3, 3]\n",
      "[3]\n"
     ]
    },
    {
     "data": {
      "text/plain": [
       "3"
      ]
     },
     "execution_count": 12,
     "metadata": {},
     "output_type": "execute_result"
    }
   ],
   "source": [
    "array = [1, 2, 3, 3, 3, 4]\n",
    "solution(array)"
   ]
  },
  {
   "cell_type": "code",
   "execution_count": 11,
   "id": "a378ae77-e911-4437-a21c-2d654fd82df9",
   "metadata": {},
   "outputs": [],
   "source": [
    "def solution(array):\n",
    "    while len(array)!=0:\n",
    "        for i, v in enumerate(set(array)):      # array를 계속 set으로 value를 한개씩만 남기고 다 지움\n",
    "            array.remove(v)                     # 1) 2,3,4 지움 2) 3,4 지움 3) 3 지움\n",
    "        if i == 0:\n",
    "            print(array\n",
    "            return v\n",
    "    return -1"
   ]
  },
  {
   "cell_type": "code",
   "execution_count": null,
   "id": "32f808ba-9796-474e-9fcd-690a3bbd8fc6",
   "metadata": {},
   "outputs": [],
   "source": []
  },
  {
   "cell_type": "code",
   "execution_count": null,
   "id": "0dbd5940-34f4-40e3-8685-f1b51dac64f4",
   "metadata": {},
   "outputs": [],
   "source": []
  },
  {
   "cell_type": "code",
   "execution_count": null,
   "id": "3b18efa1-c437-40c3-bc14-8392f7b640a8",
   "metadata": {},
   "outputs": [],
   "source": []
  },
  {
   "cell_type": "code",
   "execution_count": null,
   "id": "c2a6672a-0700-448f-855c-11ca1164e601",
   "metadata": {},
   "outputs": [],
   "source": []
  }
 ],
 "metadata": {
  "kernelspec": {
   "display_name": "Python 3 (ipykernel)",
   "language": "python",
   "name": "python3"
  },
  "language_info": {
   "codemirror_mode": {
    "name": "ipython",
    "version": 3
   },
   "file_extension": ".py",
   "mimetype": "text/x-python",
   "name": "python",
   "nbconvert_exporter": "python",
   "pygments_lexer": "ipython3",
   "version": "3.9.12"
  }
 },
 "nbformat": 4,
 "nbformat_minor": 5
}
