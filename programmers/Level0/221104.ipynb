{
 "cells": [
  {
   "cell_type": "markdown",
   "id": "0aa7ec9c-3abf-47de-aa53-92d50e651a58",
   "metadata": {},
   "source": [
    "# OX퀴즈\n",
    "\n",
    "덧셈, 뺄셈 수식들이 'X [연산자] Y = Z' 형태로 들어있는 문자열 배열 quiz가 매개변수로 주어집니다. 수식이 옳다면 \"O\"를 틀리다면 \"X\"를 순서대로 담은 배열을 return하도록 solution 함수를 완성해주세요."
   ]
  },
  {
   "cell_type": "code",
   "execution_count": 3,
   "id": "8d581779-100f-4d4a-9238-f176ccaceaea",
   "metadata": {},
   "outputs": [],
   "source": [
    "def solution(quiz):\n",
    "    answer = []\n",
    "    for i in quiz:\n",
    "        ex = i.split('=')\n",
    "        n = eval(ex[0])\n",
    "        if n == int(ex[1]):\n",
    "            answer.append('O')\n",
    "        else:\n",
    "            answer.append('X')\n",
    "    return answer"
   ]
  },
  {
   "cell_type": "code",
   "execution_count": 5,
   "id": "4b8d47ea-54b6-4d33-8dea-500d02913dee",
   "metadata": {},
   "outputs": [
    {
     "data": {
      "text/plain": [
       "['X', 'O']"
      ]
     },
     "execution_count": 5,
     "metadata": {},
     "output_type": "execute_result"
    }
   ],
   "source": [
    "quiz = [\"3 - 4 = -3\", \"5 + 6 = 11\"]\n",
    "solution(quiz)"
   ]
  },
  {
   "cell_type": "code",
   "execution_count": 6,
   "id": "74fc8c31-094f-4b38-988e-d0add4b34614",
   "metadata": {},
   "outputs": [
    {
     "name": "stdout",
     "output_type": "stream",
     "text": [
      "False\n"
     ]
    }
   ],
   "source": [
    "def valid(equation):\n",
    "    equation = equation.replace('=', '==')\n",
    "    return eval(equation)\n",
    "\n",
    "def solution(equations):\n",
    "    return ['O' if valid(equation) else 'X' for equation in equations]"
   ]
  },
  {
   "cell_type": "code",
   "execution_count": null,
   "id": "272b3e5f-91ba-412c-822d-68f1298684e5",
   "metadata": {},
   "outputs": [],
   "source": []
  },
  {
   "cell_type": "code",
   "execution_count": null,
   "id": "87590397-eede-4fd8-ad68-8ba22bbde992",
   "metadata": {},
   "outputs": [],
   "source": []
  }
 ],
 "metadata": {
  "kernelspec": {
   "display_name": "Python 3 (ipykernel)",
   "language": "python",
   "name": "python3"
  },
  "language_info": {
   "codemirror_mode": {
    "name": "ipython",
    "version": 3
   },
   "file_extension": ".py",
   "mimetype": "text/x-python",
   "name": "python",
   "nbconvert_exporter": "python",
   "pygments_lexer": "ipython3",
   "version": "3.9.12"
  }
 },
 "nbformat": 4,
 "nbformat_minor": 5
}
