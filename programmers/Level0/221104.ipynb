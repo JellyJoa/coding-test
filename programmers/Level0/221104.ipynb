{
 "cells": [
  {
   "cell_type": "markdown",
   "id": "0aa7ec9c-3abf-47de-aa53-92d50e651a58",
   "metadata": {},
   "source": [
    "# OX퀴즈\n",
    "\n",
    "덧셈, 뺄셈 수식들이 'X [연산자] Y = Z' 형태로 들어있는 문자열 배열 quiz가 매개변수로 주어집니다. 수식이 옳다면 \"O\"를 틀리다면 \"X\"를 순서대로 담은 배열을 return하도록 solution 함수를 완성해주세요."
   ]
  },
  {
   "cell_type": "code",
   "execution_count": 3,
   "id": "8d581779-100f-4d4a-9238-f176ccaceaea",
   "metadata": {},
   "outputs": [],
   "source": [
    "def solution(quiz):\n",
    "    answer = []\n",
    "    for i in quiz:\n",
    "        ex = i.split('=')\n",
    "        n = eval(ex[0])\n",
    "        if n == int(ex[1]):\n",
    "            answer.append('O')\n",
    "        else:\n",
    "            answer.append('X')\n",
    "    return answer"
   ]
  },
  {
   "cell_type": "code",
   "execution_count": 5,
   "id": "4b8d47ea-54b6-4d33-8dea-500d02913dee",
   "metadata": {},
   "outputs": [
    {
     "data": {
      "text/plain": [
       "['X', 'O']"
      ]
     },
     "execution_count": 5,
     "metadata": {},
     "output_type": "execute_result"
    }
   ],
   "source": [
    "quiz = [\"3 - 4 = -3\", \"5 + 6 = 11\"]\n",
    "solution(quiz)"
   ]
  },
  {
   "cell_type": "code",
   "execution_count": 6,
   "id": "74fc8c31-094f-4b38-988e-d0add4b34614",
   "metadata": {},
   "outputs": [
    {
     "name": "stdout",
     "output_type": "stream",
     "text": [
      "False\n"
     ]
    }
   ],
   "source": [
    "def valid(equation):\n",
    "    equation = equation.replace('=', '==')\n",
    "    return eval(equation)\n",
    "\n",
    "def solution(equations):\n",
    "    return ['O' if valid(equation) else 'X' for equation in equations]"
   ]
  },
  {
   "cell_type": "markdown",
   "id": "113e5938-93fb-42e9-bed7-4940ea45e194",
   "metadata": {},
   "source": [
    "# 저주의 숫자 3\n",
    "\n",
    "3x 마을 사람들은 3을 저주의 숫자라고 생각하기 때문에 3의 배수와 숫자 3을 사용하지 않습니다. 3x 마을 사람들의 숫자는 다음과 같습니다. 정수 n이 매개변수로 주어질 때, n을 3x 마을에서 사용하는 숫자로 바꿔 return하도록 solution 함수를 완성해주세요."
   ]
  },
  {
   "cell_type": "code",
   "execution_count": 25,
   "id": "87590397-eede-4fd8-ad68-8ba22bbde992",
   "metadata": {},
   "outputs": [],
   "source": [
    "def solution(n):\n",
    "    answer = 0\n",
    "    i = 1\n",
    "    while True:\n",
    "        if not '3' in str(i) and not i % 3 == 0:\n",
    "            answer += 1\n",
    "            if answer == n:\n",
    "                return i\n",
    "        i += 1"
   ]
  },
  {
   "cell_type": "code",
   "execution_count": 29,
   "id": "e9e482fb-c8b3-4a9a-b7d1-f225090319e9",
   "metadata": {},
   "outputs": [
    {
     "data": {
      "text/plain": [
       "76"
      ]
     },
     "execution_count": 29,
     "metadata": {},
     "output_type": "execute_result"
    }
   ],
   "source": [
    "n = 40\n",
    "solution(n)"
   ]
  },
  {
   "cell_type": "code",
   "execution_count": 28,
   "id": "8a9cd636-e99b-4066-98f8-b414cae715e4",
   "metadata": {},
   "outputs": [],
   "source": [
    "# others\n",
    "\n",
    "def solution(n):\n",
    "    return [i for i in range(200) if i % 3 != 0 and '3' not in str(i)][n-1]"
   ]
  },
  {
   "cell_type": "markdown",
   "id": "df1a3c21-f16f-41e6-8b3b-8e3bf9bbb8fe",
   "metadata": {},
   "source": [
    "# 진료순서 정하기\n",
    "\n",
    "외과의사 머쓱이는 응급실에 온 환자의 응급도를 기준으로 진료 순서를 정하려고 합니다. 정수 배열 emergency가 매개변수로 주어질 때 응급도가 높은 순서대로 진료 순서를 정한 배열을 return하도록 solution 함수를 완성해주세요."
   ]
  },
  {
   "cell_type": "code",
   "execution_count": 34,
   "id": "b2639991-0821-4aee-8fdd-a90b2317e14a",
   "metadata": {},
   "outputs": [],
   "source": [
    "def solution(emergency):\n",
    "    answer = [0]*len(emergency)\n",
    "    dec = sorted(emergency, reverse=True)\n",
    "    for i in emergency:\n",
    "        index = emergency.index(i)\n",
    "        rank = dec.index(i)+1\n",
    "        answer[index] = rank\n",
    "    return answer\n"
   ]
  },
  {
   "cell_type": "code",
   "execution_count": 58,
   "id": "104e77d7-87d1-439a-9297-c4a42185db4d",
   "metadata": {},
   "outputs": [
    {
     "data": {
      "text/plain": [
       "[3, 1, 2]"
      ]
     },
     "execution_count": 58,
     "metadata": {},
     "output_type": "execute_result"
    }
   ],
   "source": [
    "emergency = [3, 76, 24]\n",
    "solution(emergency)"
   ]
  },
  {
   "cell_type": "code",
   "execution_count": 57,
   "id": "68e46bff-12ef-498a-ac89-c847d6088505",
   "metadata": {},
   "outputs": [],
   "source": [
    "# others\n",
    "def solution(emergency):\n",
    "    return [sorted(emergency, reverse=True).index(e)+1 for e in emergency]"
   ]
  },
  {
   "cell_type": "markdown",
   "id": "eb8a4263-8e29-453b-b594-a15d6e493642",
   "metadata": {
    "tags": []
   },
   "source": [
    "# 등수 매기기\n",
    "\n",
    "영어 점수와 수학 점수의 평균 점수를 기준으로 학생들의 등수를 매기려고 합니다. 영어 점수와 수학 점수를 담은 2차원 정수 배열 score가 주어질 때, 영어 점수와 수학 점수의 평균을 기준으로 매긴 등수를 담은 배열을 return하도록 solution 함수를 완성해주세요."
   ]
  },
  {
   "cell_type": "code",
   "execution_count": 61,
   "id": "cf4a1547-a2e1-47cc-85a8-17a690e5084c",
   "metadata": {},
   "outputs": [],
   "source": [
    "def solution(score):\n",
    "    avg = []\n",
    "    for s in score:\n",
    "        e, m = s[0], s[1]\n",
    "        avg.append((e+m)/2)\n",
    "    return [sorted(avg, reverse=True).index(i)+1 for i in avg]"
   ]
  },
  {
   "cell_type": "code",
   "execution_count": 68,
   "id": "51a79652-84f1-4f7e-a517-ce5a38bf0688",
   "metadata": {},
   "outputs": [
    {
     "data": {
      "text/plain": [
       "[4, 4, 6, 2, 2, 1, 7]"
      ]
     },
     "execution_count": 68,
     "metadata": {},
     "output_type": "execute_result"
    }
   ],
   "source": [
    "score = [[80, 70], [70, 80], [30, 50], [90, 100], [100, 90], [100, 100], [10, 30]]\n",
    "solution(score)"
   ]
  },
  {
   "cell_type": "code",
   "execution_count": 67,
   "id": "db23917c-5514-4e9a-896e-a1dbbc1bd569",
   "metadata": {},
   "outputs": [],
   "source": [
    "# others\n",
    "\n",
    "def solution(score):\n",
    "    rank = sorted([sum(s)/2 for s in score], reverse=True)\n",
    "    rankDict = {}\n",
    "    for i, r in enumerate(rank):\n",
    "        if r not in rankDict.keys():\n",
    "            rankDict[r] = i+1\n",
    "    return [rankDict[sum(s) / 2 ] for s in score]      # dictionary라서 평균값 넣으면 index+1 나옴"
   ]
  },
  {
   "cell_type": "markdown",
   "id": "24ab528f-36f2-41a3-85e4-9d5c34a8e82c",
   "metadata": {},
   "source": [
    "# 다음에 올 숫자\n",
    "\n",
    "등차수열 혹은 등비수열 common이 매개변수로 주어질 때, 마지막 원소 다음으로 올 숫자를 return 하도록 solution 함수를 완성해보세요."
   ]
  },
  {
   "cell_type": "code",
   "execution_count": 1,
   "id": "b7279b6b-711f-49f6-b55e-d71c7dad66ac",
   "metadata": {},
   "outputs": [],
   "source": [
    "def solution(common):\n",
    "    if common[1] - common[0] == common[2] - common[1]:\n",
    "        gap = common[1] - common[0]\n",
    "        sign = '+'\n",
    "    elif common[1] / common[0] == common[2] / common[1]:\n",
    "        gap = common[1] / common[0]\n",
    "        sign = '*'\n",
    "    \n",
    "    if sign == '+':\n",
    "        return common[-1] + gap\n",
    "    else:\n",
    "        return common[-1] * gap\n",
    "    \n",
    "    \n",
    "    # if common[1] - common[0] == common[2] - common[1]:\n",
    "    #     gap = common[1] - common[0]\n",
    "    #     return common[-1] + gap\n",
    "    # elif common[1] / common[0] == common[2] / common[1]:\n",
    "    #     gap = common[1] / common[0]\n",
    "    #     return common[-1] * gap\n",
    "    # if를 두번 쓸 필요가 없음"
   ]
  },
  {
   "cell_type": "code",
   "execution_count": 2,
   "id": "99f1873e-3d28-4639-a9b1-62bc07180472",
   "metadata": {},
   "outputs": [
    {
     "data": {
      "text/plain": [
       "16.0"
      ]
     },
     "execution_count": 2,
     "metadata": {},
     "output_type": "execute_result"
    }
   ],
   "source": [
    "common = [2, 4, 8]\n",
    "solution(common)"
   ]
  },
  {
   "cell_type": "code",
   "execution_count": null,
   "id": "e2ba4423-a770-4341-b249-d3c14df5e7ee",
   "metadata": {},
   "outputs": [],
   "source": []
  },
  {
   "cell_type": "code",
   "execution_count": null,
   "id": "bed91273-943e-47de-9c42-31e12a42591e",
   "metadata": {},
   "outputs": [],
   "source": []
  },
  {
   "cell_type": "code",
   "execution_count": null,
   "id": "22534fd9-7ef8-4198-b33b-cb56d225002c",
   "metadata": {},
   "outputs": [],
   "source": []
  }
 ],
 "metadata": {
  "kernelspec": {
   "display_name": "Python 3 (ipykernel)",
   "language": "python",
   "name": "python3"
  },
  "language_info": {
   "codemirror_mode": {
    "name": "ipython",
    "version": 3
   },
   "file_extension": ".py",
   "mimetype": "text/x-python",
   "name": "python",
   "nbconvert_exporter": "python",
   "pygments_lexer": "ipython3",
   "version": "3.9.12"
  }
 },
 "nbformat": 4,
 "nbformat_minor": 5
}
