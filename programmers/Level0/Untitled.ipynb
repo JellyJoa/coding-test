{
 "cells": [
  {
   "cell_type": "markdown",
   "id": "66cb9ada-899f-43bb-9f72-2165186eba01",
   "metadata": {},
   "source": [
    "### 문자열 밀기\n",
    "문자열 \"hello\"에서 각 문자를 오른쪽으로 한 칸씩 밀고 마지막 문자는 맨 앞으로 이동시키면 \"ohell\"이 됩니다. 이것을 문자열을 민다고 정의한다면 문자열 A와 B가 매개변수로 주어질 때, A를 밀어서 B가 될 수 있다면 몇 번 밀어야 하는지 횟수를 return하고 밀어서 B가 될 수 없으면 -1을 return 하도록 solution 함수를 완성해보세요."
   ]
  },
  {
   "cell_type": "code",
   "execution_count": 38,
   "id": "0754c570-2f8e-47dd-8d54-0e0a17b6747b",
   "metadata": {},
   "outputs": [],
   "source": [
    "# my\n",
    "from collections import deque\n",
    "def solution(A, B):\n",
    "    answer = 0\n",
    "    if A == B:\n",
    "        return 0\n",
    "    A = deque(A)\n",
    "    deq_b = deque(B)\n",
    "    for i in range(len(A)):\n",
    "        A.appendleft(A[-1])\n",
    "        A.pop()\n",
    "        if A == deq_b:\n",
    "            answer += i+1\n",
    "            return i+1\n",
    "    if answer == 0:\n",
    "        return -1"
   ]
  },
  {
   "cell_type": "code",
   "execution_count": 39,
   "id": "67e6344d-4d7d-49d8-9ec0-ddcfa23b8f8b",
   "metadata": {},
   "outputs": [
    {
     "data": {
      "text/plain": [
       "3"
      ]
     },
     "execution_count": 39,
     "metadata": {},
     "output_type": "execute_result"
    }
   ],
   "source": [
    "# A = 'happy'\n",
    "# B = 'happy'\n",
    "A = 'hello'\n",
    "B = 'llohe'\n",
    "solution(A,B)"
   ]
  },
  {
   "cell_type": "code",
   "execution_count": 40,
   "id": "4af1a88e-baee-4904-a959-35695ef6627d",
   "metadata": {},
   "outputs": [],
   "source": [
    "# others\n",
    "solution=lambda a,b:(b*2).find(a)"
   ]
  },
  {
   "cell_type": "code",
   "execution_count": 42,
   "id": "ccf18bf9-9aaf-4724-b403-b70f3bbed429",
   "metadata": {},
   "outputs": [
    {
     "data": {
      "text/plain": [
       "0"
      ]
     },
     "execution_count": 42,
     "metadata": {},
     "output_type": "execute_result"
    }
   ],
   "source": [
    "A = 'happy'\n",
    "B = 'happy'\n",
    "# A = 'hello'\n",
    "# B = 'llohe'\n",
    "solution(A,B)"
   ]
  },
  {
   "cell_type": "markdown",
   "id": "60843b2a-9d56-42df-a7bd-598660cdc8e3",
   "metadata": {},
   "source": [
    "### 삼각형의 완성조건(1)\n",
    "\n",
    "선분 세 개로 삼각형을 만들기 위해서는 다음과 같은 조건을 만족해야 합니다.\n",
    "\n",
    "가장 긴 변의 길이는 다른 두 변의 길이의 합보다 작아야 합니다.\n",
    "삼각형의 세 변의 길이가 담긴 배열 sides이 매개변수로 주어집니다. 세 변으로 삼각형을 만들 수 있다면 1, 만들 수 없다면 2를 return하도록 solution 함수를 완성해주세요."
   ]
  },
  {
   "cell_type": "code",
   "execution_count": 43,
   "id": "2466cf86-191a-40ea-bfb7-6d07e1e2f620",
   "metadata": {},
   "outputs": [],
   "source": [
    "# my\n",
    "def solution(sides):\n",
    "    max_len = max(sides)\n",
    "    sum = -max_len\n",
    "    for i in sides:\n",
    "        sum += i\n",
    "    if max_len >= sum:\n",
    "        return 2\n",
    "    else:\n",
    "        return 1"
   ]
  },
  {
   "cell_type": "code",
   "execution_count": 46,
   "id": "61bf0f1f-10d5-4665-a41e-41d6daabe48a",
   "metadata": {},
   "outputs": [
    {
     "data": {
      "text/plain": [
       "2"
      ]
     },
     "execution_count": 46,
     "metadata": {},
     "output_type": "execute_result"
    }
   ],
   "source": [
    "# sides = [1,2,3]\n",
    "sides = [3,6,2]\n",
    "solution(sides)"
   ]
  },
  {
   "cell_type": "code",
   "execution_count": 45,
   "id": "a9704c5a-323f-4d73-95e2-ab386188d683",
   "metadata": {},
   "outputs": [],
   "source": [
    "# others\n",
    "def solutions(sides):\n",
    "    return 1 if max(sides) < (sum(sides)-max(sides)) else 2"
   ]
  },
  {
   "cell_type": "markdown",
   "id": "c1b3c468-d80e-41b3-a6b6-da6cc5498f4c",
   "metadata": {},
   "source": [
    "### 주사위의 개수\n",
    "\n",
    "머쓱이는 직육면체 모양의 상자를 하나 가지고 있는데 이 상자에 정육면체 모양의 주사위를 최대한 많이 채우고 싶습니다. 상자의 가로, 세로, 높이가 저장되어있는 배열 box와 주사위 모서리의 길이 정수 n이 매개변수로 주어졌을 때, 상자에 들어갈 수 있는 주사위의 최대 개수를 return 하도록 solution 함수를 완성해주세요."
   ]
  },
  {
   "cell_type": "code",
   "execution_count": 47,
   "id": "28d2a877-0fb0-478c-bd7f-1b5498731355",
   "metadata": {},
   "outputs": [],
   "source": [
    "# my\n",
    "def solution(box, n):\n",
    "    return (box[0] // n) * (box[1]//n) * (box[2]//n)"
   ]
  },
  {
   "cell_type": "code",
   "execution_count": 48,
   "id": "9789f802-6a97-46c8-9b08-cc366e535273",
   "metadata": {},
   "outputs": [
    {
     "data": {
      "text/plain": [
       "1"
      ]
     },
     "execution_count": 48,
     "metadata": {},
     "output_type": "execute_result"
    }
   ],
   "source": [
    "box = [1,1,1]\n",
    "n=1\n",
    "solution(box,n)"
   ]
  },
  {
   "cell_type": "markdown",
   "id": "f20c8d01-5b14-4f28-8138-60d0eb97ed5f",
   "metadata": {},
   "source": [
    "### 합성수 찾기\n",
    "\n",
    "약수의 개수가 세 개 이상인 수를 합성수라고 합니다. 자연수 n이 매개변수로 주어질 때 n이하의 합성수의 개수를 return하도록 solution 함수를 완성해주세요.ㅡ"
   ]
  },
  {
   "cell_type": "code",
   "execution_count": 51,
   "id": "5d89d85a-3668-4412-8dbe-e3295c4cf110",
   "metadata": {},
   "outputs": [],
   "source": [
    "# my\n",
    "def solution(n):\n",
    "    answer = 0\n",
    "    for i in range(1, n+1):\n",
    "        cnt = 0\n",
    "        for j in range(1, i+1):\n",
    "            if i % j == 0:\n",
    "                cnt += 1\n",
    "        if cnt >= 3:\n",
    "            answer += 1\n",
    "    return answer"
   ]
  },
  {
   "cell_type": "code",
   "execution_count": 52,
   "id": "52f31bfa-5456-4da8-a5c1-66d3baa3a0ce",
   "metadata": {},
   "outputs": [
    {
     "data": {
      "text/plain": [
       "5"
      ]
     },
     "execution_count": 52,
     "metadata": {},
     "output_type": "execute_result"
    }
   ],
   "source": [
    "n = 10\n",
    "solution(n)"
   ]
  },
  {
   "cell_type": "markdown",
   "id": "d22ecfb5-cd87-4e9c-9499-bcb2a81d45b6",
   "metadata": {},
   "source": [
    "### 직사각형 넓이 구하기\n",
    "\n",
    "2차원 좌표 평면에 변이 축과 평행한 직사각형이 있습니다. 직사각형 네 꼭짓점의 좌표 [[x1, y1], [x2, y2], [x3, y3], [x4, y4]]가 담겨있는 배열 dots가 매개변수로 주어질 때, 직사각형의 넓이를 return 하도록 solution 함수를 완성해보세요."
   ]
  },
  {
   "cell_type": "code",
   "execution_count": 55,
   "id": "cf1667b4-ca40-44a9-8b57-5dcefba5b3aa",
   "metadata": {},
   "outputs": [],
   "source": [
    "# my\n",
    "def solution(dots):\n",
    "    x = set([dots[0][0], dots[1][0], dots[2][0], dots[3][0]])\n",
    "    y = set([dots[0][1], dots[1][1], dots[2][1], dots[3][1]])\n",
    "    x_len = max(x) - min(x)\n",
    "    y_len = max(y) - min(y)\n",
    "    return x_len * y_len"
   ]
  },
  {
   "cell_type": "code",
   "execution_count": 57,
   "id": "dea199d1-54f4-40aa-8176-7ebd61e1f562",
   "metadata": {},
   "outputs": [
    {
     "data": {
      "text/plain": [
       "1"
      ]
     },
     "execution_count": 57,
     "metadata": {},
     "output_type": "execute_result"
    }
   ],
   "source": [
    "dots = [[1, 1], [2, 1], [2, 2], [1, 2]]\n",
    "solution(dots)"
   ]
  },
  {
   "cell_type": "code",
   "execution_count": 56,
   "id": "47e5b5c7-f8fe-435b-a708-b7338b0e5616",
   "metadata": {},
   "outputs": [],
   "source": [
    "# others\n",
    "def solution(dots):\n",
    "    return (max(dots)[0]-min(dots)[0])*(max(dots)[1] - min(dots)[1])"
   ]
  },
  {
   "cell_type": "markdown",
   "id": "fd509b55-8bda-4987-a4b2-080dc9307414",
   "metadata": {},
   "source": [
    "### 연속된 수의 합  (미해결)\n",
    "\n",
    "연속된 세 개의 정수를 더해 12가 되는 경우는 3, 4, 5입니다. 두 정수 num과 total이 주어집니다. 연속된 수 num개를 더한 값이 total이 될 때, 정수 배열을 오름차순으로 담아 return하도록 solution함수를 완성해보세요."
   ]
  },
  {
   "cell_type": "code",
   "execution_count": 75,
   "id": "6f968789-0ef7-4460-a8a4-f6589401b2cf",
   "metadata": {},
   "outputs": [],
   "source": [
    "def solution(num, total):\n",
    "    answer = []\n",
    "    for i in range(-total, total):\n",
    "        if sum(range(i, i+num)) == total:\n",
    "            for j in range(i, i+num):\n",
    "                answer.append(j)\n",
    "            return answer"
   ]
  },
  {
   "cell_type": "code",
   "execution_count": 76,
   "id": "e1988465-021c-4979-b859-94086692aed4",
   "metadata": {},
   "outputs": [
    {
     "name": "stdout",
     "output_type": "stream",
     "text": [
      "[3]\n",
      "[3, 4]\n",
      "[3, 4, 5]\n"
     ]
    }
   ],
   "source": [
    "num = 3\n",
    "total = 12\n",
    "solution(num, total)"
   ]
  },
  {
   "cell_type": "markdown",
   "id": "c13f766d-48db-4d35-9f48-e2f47e7ec7c5",
   "metadata": {},
   "source": [
    "### 겹치는 선분의 길이 (미해결)\n",
    "\n",
    "빨간색, 초록색, 파란색 선분이 x축 위에 있습니다. 세 선분의 x좌표 시작과 끝이 [[start, end], [start, end], [start, end]] 형태로 들어있는 2차원 배열 lines가 매개변수로 주어질 때, 두 개 이상의 선분이 겹치는 부분의 길이를return 하도록 solution 함수를 완성해보세요.\n",
    "\n",
    "lines가 [[0, 2], [-3, -1], [-2, 1]]일 때 그림으로 나타내면 다음과 같습니다."
   ]
  },
  {
   "cell_type": "code",
   "execution_count": null,
   "id": "74074a0b-3905-44a4-974a-b7adb96aeeae",
   "metadata": {},
   "outputs": [],
   "source": [
    "def solution(lines):\n",
    "    answer = 0\n",
    "    \n",
    "    for i, v in enumerate(lines):\n",
    "        'line'+i = v\n",
    "    \n",
    "    # return answer"
   ]
  },
  {
   "cell_type": "code",
   "execution_count": 94,
   "id": "1910dc0b-80d2-494b-b82b-4a7a3de690d7",
   "metadata": {},
   "outputs": [
    {
     "data": {
      "text/plain": [
       "3"
      ]
     },
     "execution_count": 94,
     "metadata": {},
     "output_type": "execute_result"
    }
   ],
   "source": [
    "lines = [[0, 1], [2, 5], [3, 9]]\n",
    "mini = min(lines)[0]\n",
    "maxi = max(lines)[0]\n",
    "maxi"
   ]
  },
  {
   "cell_type": "markdown",
   "id": "f100e9e3-2684-42c1-a901-69bdab758408",
   "metadata": {},
   "source": [
    "### 영어가 싫어요\n",
    "\n",
    "영어가 싫은 머쓱이는 영어로 표기되어있는 숫자를 수로 바꾸려고 합니다. 문자열 numbers가 매개변수로 주어질 때, numbers를 정수로 바꿔 return 하도록 solution 함수를 완성해 주세요."
   ]
  },
  {
   "cell_type": "code",
   "execution_count": 98,
   "id": "8f33e513-89ef-465c-bbff-1eb332497321",
   "metadata": {},
   "outputs": [],
   "source": [
    "def solution(numbers):\n",
    "    answer = 0\n",
    "    number = {'zero':0, 'one':1, 'two':2, 'three':3, 'four':4,\n",
    "             'five':5, 'six':6, 'seven':7, 'eight':8, 'nine':9}\n",
    "    for key in number.keys():\n",
    "        if key in numbers:\n",
    "            numbers = numbers.replace(key, str(number[key]))\n",
    "    return int(numbers)"
   ]
  },
  {
   "cell_type": "code",
   "execution_count": 100,
   "id": "1f018609-4246-42df-ac53-f8190283bf77",
   "metadata": {},
   "outputs": [
    {
     "data": {
      "text/plain": [
       "'123456789'"
      ]
     },
     "execution_count": 100,
     "metadata": {},
     "output_type": "execute_result"
    }
   ],
   "source": [
    "numbers = \"onetwothreefourfivesixseveneightnine\"\n",
    "solution(numbers)"
   ]
  },
  {
   "cell_type": "code",
   "execution_count": null,
   "id": "23cc38b7-40f1-426c-a4af-9c57f7c06c98",
   "metadata": {},
   "outputs": [],
   "source": []
  }
 ],
 "metadata": {
  "kernelspec": {
   "display_name": "Python 3 (ipykernel)",
   "language": "python",
   "name": "python3"
  },
  "language_info": {
   "codemirror_mode": {
    "name": "ipython",
    "version": 3
   },
   "file_extension": ".py",
   "mimetype": "text/x-python",
   "name": "python",
   "nbconvert_exporter": "python",
   "pygments_lexer": "ipython3",
   "version": "3.9.12"
  }
 },
 "nbformat": 4,
 "nbformat_minor": 5
}
