{
 "cells": [
  {
   "cell_type": "code",
   "execution_count": 38,
   "id": "0754c570-2f8e-47dd-8d54-0e0a17b6747b",
   "metadata": {},
   "outputs": [],
   "source": [
    "# my\n",
    "from collections import deque\n",
    "def solution(A, B):\n",
    "    answer = 0\n",
    "    if A == B:\n",
    "        return 0\n",
    "    A = deque(A)\n",
    "    deq_b = deque(B)\n",
    "    for i in range(len(A)):\n",
    "        A.appendleft(A[-1])\n",
    "        A.pop()\n",
    "        if A == deq_b:\n",
    "            answer += i+1\n",
    "            return i+1\n",
    "    if answer == 0:\n",
    "        return -1"
   ]
  },
  {
   "cell_type": "code",
   "execution_count": 39,
   "id": "67e6344d-4d7d-49d8-9ec0-ddcfa23b8f8b",
   "metadata": {},
   "outputs": [
    {
     "data": {
      "text/plain": [
       "3"
      ]
     },
     "execution_count": 39,
     "metadata": {},
     "output_type": "execute_result"
    }
   ],
   "source": [
    "# A = 'happy'\n",
    "# B = 'happy'\n",
    "A = 'hello'\n",
    "B = 'llohe'\n",
    "solution(A,B)"
   ]
  },
  {
   "cell_type": "code",
   "execution_count": 40,
   "id": "4af1a88e-baee-4904-a959-35695ef6627d",
   "metadata": {},
   "outputs": [],
   "source": [
    "# others\n",
    "solution=lambda a,b:(b*2).find(a)"
   ]
  },
  {
   "cell_type": "code",
   "execution_count": 42,
   "id": "ccf18bf9-9aaf-4724-b403-b70f3bbed429",
   "metadata": {},
   "outputs": [
    {
     "data": {
      "text/plain": [
       "0"
      ]
     },
     "execution_count": 42,
     "metadata": {},
     "output_type": "execute_result"
    }
   ],
   "source": [
    "A = 'happy'\n",
    "B = 'happy'\n",
    "# A = 'hello'\n",
    "# B = 'llohe'\n",
    "solution(A,B)"
   ]
  }
 ],
 "metadata": {
  "kernelspec": {
   "display_name": "Python 3 (ipykernel)",
   "language": "python",
   "name": "python3"
  },
  "language_info": {
   "codemirror_mode": {
    "name": "ipython",
    "version": 3
   },
   "file_extension": ".py",
   "mimetype": "text/x-python",
   "name": "python",
   "nbconvert_exporter": "python",
   "pygments_lexer": "ipython3",
   "version": "3.9.12"
  }
 },
 "nbformat": 4,
 "nbformat_minor": 5
}
