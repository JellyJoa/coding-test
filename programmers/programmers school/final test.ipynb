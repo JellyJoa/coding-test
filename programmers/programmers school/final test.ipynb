{
 "cells": [
  {
   "cell_type": "code",
   "execution_count": null,
   "metadata": {
    "collapsed": true
   },
   "outputs": [],
   "source": [
    "def solution(rows, columns, max_virus, queries):\n",
    "    answer = [[]]\n",
    "    return answer\n"
   ]
  },
  {
   "cell_type": "code",
   "execution_count": 2,
   "outputs": [
    {
     "data": {
      "text/plain": "['B', 'F']"
     },
     "execution_count": 2,
     "metadata": {},
     "output_type": "execute_result"
    }
   ],
   "source": [
    "def solution(s1, s2, k):\n",
    "    answer = []\n",
    "    answer.append(k)\n",
    "    index = s2.index(k)\n",
    "    while True:\n",
    "        if not s1[index] in s2:\n",
    "            break\n",
    "        else:\n",
    "            answer.append(s1[index])\n",
    "            index = s2.index(s1[index])\n",
    "    return answer\n",
    "\n",
    "s1 = [\"A\", \"E\", \"B\", \"D\", \"B\", \"H\", \"F\", \"H\", \"C\"]\n",
    "s2 = [\"G\", \"C\", \"G\", \"F\", \"J\", \"E\", \"B\", \"F\", \"B\"]\n",
    "k = 'B'\n",
    "solution(s1, s2, k)"
   ],
   "metadata": {
    "collapsed": false,
    "pycharm": {
     "name": "#%%\n"
    }
   }
  },
  {
   "cell_type": "code",
   "execution_count": null,
   "outputs": [],
   "source": [
    "def solution(tickets):\n",
    "    routes = {}\n",
    "    for t in tickets:\n",
    "        routes[t[0]] = routes.get(t[0], []) + [t[1]]\n",
    "    for r in routes:\n",
    "        routes[r].sort(reverse=True)\n",
    "    stack = ['ICN']\n",
    "    path = []\n",
    "    while len(stack) > 0:\n",
    "        top = stack[-1]\n",
    "        if top not in routes or len(routes[top]) == 0:\n",
    "            path.append(stack.pop())\n",
    "        else:\n",
    "            stack.append(routes[top][-1])\n",
    "            routes[top] = routes[top][:-1]\n",
    "    return path[::-1]"
   ],
   "metadata": {
    "collapsed": false,
    "pycharm": {
     "name": "#%%\n"
    }
   }
  }
 ],
 "metadata": {
  "kernelspec": {
   "display_name": "Python 3",
   "language": "python",
   "name": "python3"
  },
  "language_info": {
   "codemirror_mode": {
    "name": "ipython",
    "version": 2
   },
   "file_extension": ".py",
   "mimetype": "text/x-python",
   "name": "python",
   "nbconvert_exporter": "python",
   "pygments_lexer": "ipython2",
   "version": "2.7.6"
  }
 },
 "nbformat": 4,
 "nbformat_minor": 0
}