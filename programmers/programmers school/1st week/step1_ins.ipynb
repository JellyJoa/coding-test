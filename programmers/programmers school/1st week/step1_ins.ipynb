{
 "cells": [
  {
   "cell_type": "code",
   "execution_count": 2,
   "outputs": [
    {
     "data": {
      "text/plain": "'mislav'"
     },
     "execution_count": 2,
     "metadata": {},
     "output_type": "execute_result"
    }
   ],
   "source": [
    "# 강사님 풀이\n",
    "\n",
    "def solution(participant, completion):\n",
    "    d = {} # hashing\n",
    "    for x in participant:    # O(n)\n",
    "        d[x] = d.get(x, 0) + 1    # get => x가 d에 있으면 x값을 get, 없으면 0\n",
    "\n",
    "    for x in completion:    # O(n)\n",
    "        d[x] -= 1\n",
    "\n",
    "    dnf = [k for k, v in d.items() if v > 0]    # O(n)\n",
    "    answer = dnf[0]\n",
    "    return answer\n",
    "\n",
    "# participant = [\"marina\", \"josipa\", \"nikola\", \"vinko\", \"filipa\"]\n",
    "# completion = [\"marina\", \"josipa\", \"nikola\", \"filipa\"]\n",
    "participant = [\"mislav\", \"stanko\", \"mislav\", \"ana\"]\n",
    "completion = [\"mislav\", \"stanko\", \"ana\"]\n",
    "solution(participant, completion)"
   ],
   "metadata": {
    "collapsed": false,
    "pycharm": {
     "name": "#%%\n"
    }
   }
  },
  {
   "cell_type": "code",
   "execution_count": null,
   "metadata": {
    "collapsed": true
   },
   "outputs": [],
   "source": [
    "def solution(participant, completion):\n",
    "\n",
    "    part = {} # \"hash\" => \"dictionary\"(key)\n",
    "    tmp = 0 # hash값 연산을 담을 변수 설정\n",
    "\n",
    "    for p in participant:\n",
    "        part[hash(p)] = p # key(hash)로 완주하지 못한 선수 찾을 것\n",
    "        tmp += hash(p) # 참가자 hash값을 모두 더해주고\n",
    "\n",
    "    for c in completion:\n",
    "        tmp -= hash(c) # 완주자 hash값을 모두 빼주면?\n",
    "\n",
    "    answer = part[tmp] # \"완주하지 못한 선수의 hash값\"\n",
    "\n",
    "    return answer"
   ]
  },
  {
   "cell_type": "code",
   "execution_count": null,
   "outputs": [],
   "source": [
    "from collections import Counter\n",
    "def solution(participant, completion):\n",
    "    a = Counter(participant)\n",
    "    b = Counter(completion)\n",
    "    answer = a-b\n",
    "    return list(answer.keys())[0]"
   ],
   "metadata": {
    "collapsed": false,
    "pycharm": {
     "name": "#%%\n"
    }
   }
  },
  {
   "cell_type": "code",
   "execution_count": null,
   "outputs": [],
   "source": [
    "def solution(p, c):\n",
    "    p.sort()\n",
    "    c.sort()\n",
    "    answer = ''\n",
    "    while p:\n",
    "        name = p.pop()\n",
    "        if c and c[-1] == name:\n",
    "            c.pop()\n",
    "        else:\n",
    "            answer = name\n",
    "            break\n",
    "    return answer"
   ],
   "metadata": {
    "collapsed": false,
    "pycharm": {
     "name": "#%%\n"
    }
   }
  },
  {
   "cell_type": "code",
   "execution_count": null,
   "outputs": [],
   "source": [
    "def solution(participant, completion):\n",
    "\n",
    "    participant.sort()\n",
    "    completion.sort()\n",
    "\n",
    "    for i,j in zip(participant, completion):\n",
    "        if i != j:\n",
    "            return i\n",
    "    return participant.pop()"
   ],
   "metadata": {
    "collapsed": false,
    "pycharm": {
     "name": "#%%\n"
    }
   }
  },
  {
   "cell_type": "code",
   "execution_count": null,
   "outputs": [],
   "source": [
    "def solution(participant, completion):\n",
    "    dict = {}\n",
    "    for p in participant:\n",
    "        if p in dict:\n",
    "            dict[p] += 1\n",
    "        else:\n",
    "            dict[p] = 1\n",
    "\n",
    "    for c in completion:\n",
    "        if dict[c] == 1:\n",
    "            del dict[c]\n",
    "        else:\n",
    "            dict[c] -= 1\n",
    "\n",
    "\n",
    "\n",
    "    return list(dict.keys())[0]"
   ],
   "metadata": {
    "collapsed": false,
    "pycharm": {
     "name": "#%%\n"
    }
   }
  }
 ],
 "metadata": {
  "kernelspec": {
   "display_name": "Python 3",
   "language": "python",
   "name": "python3"
  },
  "language_info": {
   "codemirror_mode": {
    "name": "ipython",
    "version": 2
   },
   "file_extension": ".py",
   "mimetype": "text/x-python",
   "name": "python",
   "nbconvert_exporter": "python",
   "pygments_lexer": "ipython2",
   "version": "2.7.6"
  }
 },
 "nbformat": 4,
 "nbformat_minor": 0
}