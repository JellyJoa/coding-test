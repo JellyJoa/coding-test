{
 "cells": [
  {
   "cell_type": "code",
   "execution_count": 32,
   "outputs": [
    {
     "name": "stdout",
     "output_type": "stream",
     "text": [
      "['7', '7', '2', '5', '2', '8', '4', '1']\n",
      "['7', '7', '2', '5', '2', '8', '4', '1']\n"
     ]
    },
    {
     "data": {
      "text/plain": "'77252841'"
     },
     "execution_count": 32,
     "metadata": {},
     "output_type": "execute_result"
    }
   ],
   "source": [
    "def solution(number, k):\n",
    "    L = list(number)\n",
    "    i = 0\n",
    "    while i < len(L) - k:\n",
    "        max_val = max(L[i:i + k + 1])\n",
    "        max_idx = L.index(max_val)\n",
    "        min_val = min(L[i:i+k+1])\n",
    "        min_idx = L.index(min_val)\n",
    "\n",
    "        if i != max_idx and i == 0:\n",
    "            if i == 0:\n",
    "                del L[i:max_idx]\n",
    "                print(L)\n",
    "                k -= max_idx - i\n",
    "\n",
    "            elif i != max_idx:\n",
    "                L.remove(min_val)\n",
    "                print(L)\n",
    "                k -= max_idx - i\n",
    "\n",
    "        i += 1\n",
    "    # del L[len(L) - k:]\n",
    "    print(L)\n",
    "    return ''.join(L)\n",
    "\n",
    "# number = '1231234'\n",
    "# k = 3\n",
    "number = '4177252841'\n",
    "k = 4\n",
    "solution(number, k)"
   ],
   "metadata": {
    "collapsed": false,
    "pycharm": {
     "name": "#%%\n"
    }
   }
  },
  {
   "cell_type": "code",
   "execution_count": 51,
   "outputs": [
    {
     "name": "stdout",
     "output_type": "stream",
     "text": [
      "7\n",
      "2\n",
      "['7', '7', '2', '5', '2', '8', '4', '1']\n",
      "7\n",
      "0\n",
      "['7', '7', '5', '2', '8', '4', '1']\n",
      "8\n",
      "4\n",
      "['7', '7', '5', '8', '4', '1']\n",
      "8\n",
      "3\n",
      "4\n",
      "4\n",
      "1\n",
      "5\n"
     ]
    },
    {
     "ename": "ValueError",
     "evalue": "max() arg is an empty sequence",
     "output_type": "error",
     "traceback": [
      "\u001B[1;31m---------------------------------------------------------------------------\u001B[0m",
      "\u001B[1;31mValueError\u001B[0m                                Traceback (most recent call last)",
      "\u001B[1;32m~\\AppData\\Local\\Temp/ipykernel_7140/2231978158.py\u001B[0m in \u001B[0;36m<module>\u001B[1;34m\u001B[0m\n\u001B[0;32m     36\u001B[0m \u001B[0mnumber\u001B[0m \u001B[1;33m=\u001B[0m \u001B[1;34m'4177252841'\u001B[0m\u001B[1;33m\u001B[0m\u001B[1;33m\u001B[0m\u001B[0m\n\u001B[0;32m     37\u001B[0m \u001B[0mk\u001B[0m \u001B[1;33m=\u001B[0m \u001B[1;36m4\u001B[0m\u001B[1;33m\u001B[0m\u001B[1;33m\u001B[0m\u001B[0m\n\u001B[1;32m---> 38\u001B[1;33m \u001B[0msolution\u001B[0m\u001B[1;33m(\u001B[0m\u001B[0mnumber\u001B[0m\u001B[1;33m,\u001B[0m \u001B[0mk\u001B[0m\u001B[1;33m)\u001B[0m\u001B[1;33m\u001B[0m\u001B[1;33m\u001B[0m\u001B[0m\n\u001B[0m",
      "\u001B[1;32m~\\AppData\\Local\\Temp/ipykernel_7140/2231978158.py\u001B[0m in \u001B[0;36msolution\u001B[1;34m(number, k)\u001B[0m\n\u001B[0;32m     12\u001B[0m \u001B[1;33m\u001B[0m\u001B[0m\n\u001B[0;32m     13\u001B[0m         \u001B[1;32melse\u001B[0m\u001B[1;33m:\u001B[0m\u001B[1;33m\u001B[0m\u001B[1;33m\u001B[0m\u001B[0m\n\u001B[1;32m---> 14\u001B[1;33m             \u001B[0mmax_val\u001B[0m \u001B[1;33m=\u001B[0m \u001B[0mmax\u001B[0m\u001B[1;33m(\u001B[0m\u001B[0mL\u001B[0m\u001B[1;33m[\u001B[0m\u001B[0mi\u001B[0m\u001B[1;33m:\u001B[0m\u001B[0mi\u001B[0m \u001B[1;33m+\u001B[0m \u001B[0mk\u001B[0m \u001B[1;33m+\u001B[0m \u001B[1;36m1\u001B[0m\u001B[1;33m]\u001B[0m\u001B[1;33m)\u001B[0m\u001B[1;33m\u001B[0m\u001B[1;33m\u001B[0m\u001B[0m\n\u001B[0m\u001B[0;32m     15\u001B[0m             \u001B[0mprint\u001B[0m\u001B[1;33m(\u001B[0m\u001B[0mmax_val\u001B[0m\u001B[1;33m)\u001B[0m\u001B[1;33m\u001B[0m\u001B[1;33m\u001B[0m\u001B[0m\n\u001B[0;32m     16\u001B[0m             \u001B[0mmax_idx\u001B[0m \u001B[1;33m=\u001B[0m \u001B[0mL\u001B[0m\u001B[1;33m.\u001B[0m\u001B[0mindex\u001B[0m\u001B[1;33m(\u001B[0m\u001B[0mmax_val\u001B[0m\u001B[1;33m)\u001B[0m\u001B[1;33m\u001B[0m\u001B[1;33m\u001B[0m\u001B[0m\n",
      "\u001B[1;31mValueError\u001B[0m: max() arg is an empty sequence"
     ]
    }
   ],
   "source": [
    "def solution(number, k):\n",
    "    L = list(number)\n",
    "    i = 0\n",
    "    while 1:\n",
    "        if len(L) == len(L) - k:\n",
    "            break\n",
    "            \n",
    "        if L.count(L[0]) == len(L):\n",
    "            for _ in range(k):\n",
    "                L.remove(L[0])\n",
    "            break\n",
    "\n",
    "        else:\n",
    "            max_val = max(L[i:i + k + 1])\n",
    "            print(max_val)\n",
    "            max_idx = L.index(max_val)\n",
    "            print(max_idx)\n",
    "            min_val = min(L[i:i+k+1])\n",
    "            if i != max_idx:\n",
    "                if i == 0:\n",
    "                    del L[i:max_idx]\n",
    "                    print(L)\n",
    "                elif i != 0:\n",
    "                    L.remove(min_val)\n",
    "                    print(L)\n",
    "                k -= max_idx - i\n",
    "\n",
    "            i += 1\n",
    "    print(L)\n",
    "    return ''.join(L)\n",
    "\n",
    "# number = '1231234'\n",
    "# k = 3\n",
    "# number = '111111111'\n",
    "# k = 3\n",
    "number = '4177252841'\n",
    "k = 4\n",
    "solution(number, k)"
   ],
   "metadata": {
    "collapsed": false,
    "pycharm": {
     "name": "#%%\n"
    }
   }
  },
  {
   "cell_type": "code",
   "execution_count": 41,
   "outputs": [
    {
     "data": {
      "text/plain": "'77841'"
     },
     "execution_count": 41,
     "metadata": {},
     "output_type": "execute_result"
    }
   ],
   "source": [
    "def solution(number, k):\n",
    "    L = list(number)\n",
    "    i = 0\n",
    "    while i < len(L) - k:\n",
    "        max_val = max(L[i:i + k + 1])\n",
    "        max_idx = L.index(max_val)\n",
    "        if i != max_idx:\n",
    "            del L[i:max_idx]\n",
    "            k -= max_idx - i\n",
    "        i += 1\n",
    "    del L[len(L) - k:]\n",
    "    return ''.join(L)\n",
    "\n",
    "# number = '1231234'\n",
    "# k = 3\n",
    "number = '4177252841'\n",
    "k = 4\n",
    "solution(number, k)"
   ],
   "metadata": {
    "collapsed": false,
    "pycharm": {
     "name": "#%%\n"
    }
   }
  }
 ],
 "metadata": {
  "kernelspec": {
   "display_name": "Python 3",
   "language": "python",
   "name": "python3"
  },
  "language_info": {
   "codemirror_mode": {
    "name": "ipython",
    "version": 2
   },
   "file_extension": ".py",
   "mimetype": "text/x-python",
   "name": "python",
   "nbconvert_exporter": "python",
   "pygments_lexer": "ipython2",
   "version": "2.7.6"
  }
 },
 "nbformat": 4,
 "nbformat_minor": 0
}