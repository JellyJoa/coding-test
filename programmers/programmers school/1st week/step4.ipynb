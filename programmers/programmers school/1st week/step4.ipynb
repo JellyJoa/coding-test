{
 "cells": [
  {
   "cell_type": "code",
   "execution_count": 15,
   "outputs": [
    {
     "name": "stdout",
     "output_type": "stream",
     "text": [
      "['7', '7', '2', '5', '2', '8', '4', '1']\n",
      "['7', '7', '2', '5', '2', '8', '4']\n",
      "['7', '2', '5', '2', '8', '4']\n",
      "['7', '5', '2', '8', '4']\n",
      "['7', '5', '2', '8', '4']\n"
     ]
    },
    {
     "data": {
      "text/plain": "'75284'"
     },
     "execution_count": 15,
     "metadata": {},
     "output_type": "execute_result"
    }
   ],
   "source": [
    "def solution(number, k):\n",
    "    L = list(number)\n",
    "    i = 0\n",
    "    while i < len(L) - k:\n",
    "        max_val = max(L[i:i + k + 1])\n",
    "        max_idx = L.index(max_val)\n",
    "        min_val = min(L[i:i+k+1])\n",
    "        min_idx = L.index(min_val)\n",
    "\n",
    "        if i != max_idx and i == 0:\n",
    "            del L[i:max_idx]\n",
    "            print(L)\n",
    "            k -= max_idx - i\n",
    "\n",
    "        if i != max_idx:\n",
    "            L.remove(min_val)\n",
    "            print(L)\n",
    "            k -= max_idx - i\n",
    "\n",
    "        i += 1\n",
    "    del L[len(L) - k:]\n",
    "    print(L)\n",
    "    return ''.join(L)\n",
    "\n",
    "# number = '1231234'\n",
    "# k = 3\n",
    "number = '4177252841'\n",
    "k = 4\n",
    "solution(number, k)"
   ],
   "metadata": {
    "collapsed": false,
    "pycharm": {
     "name": "#%%\n"
    }
   }
  },
  {
   "cell_type": "code",
   "execution_count": null,
   "outputs": [],
   "source": [
    "def solution(number, k):\n",
    "    L = list(number)\n",
    "    i = 0\n",
    "    while i < len(L) - k:\n",
    "        max_val = max(L[i:i + k + 1])\n",
    "        print(max_val)\n",
    "        max_idx = L.index(max_val)\n",
    "        print(max_idx)\n",
    "\n",
    "        if i != max_idx:\n",
    "            del L[i:max_idx]\n",
    "            print(L)\n",
    "            k -= max_idx - i\n",
    "        i += 1\n",
    "    del L[len(L) - k:]\n",
    "    print(L)\n",
    "    return ''.join(L)\n",
    "\n",
    "# number = '1231234'\n",
    "# k = 3\n",
    "number = '4177252841'\n",
    "k = 4\n",
    "solution(number, k)"
   ],
   "metadata": {
    "collapsed": false,
    "pycharm": {
     "name": "#%%\n"
    }
   }
  },
  {
   "cell_type": "code",
   "execution_count": null,
   "outputs": [],
   "source": [
    "def solution(number, k):\n",
    "    L = list(number)\n",
    "    i = 0\n",
    "    while i < len(L) - k:\n",
    "        max_val = max(L[i:i + k + 1])\n",
    "        print(max_val)\n",
    "        max_idx = L.index(max_val)\n",
    "        print(max_idx)\n",
    "\n",
    "        if i != max_idx:\n",
    "            del L[i:max_idx]\n",
    "            print(L)\n",
    "            k -= max_idx - i\n",
    "        i += 1\n",
    "    del L[len(L) - k:]\n",
    "    print(L)\n",
    "    return ''.join(L)\n",
    "\n",
    "# number = '1231234'\n",
    "# k = 3\n",
    "number = '4177252841'\n",
    "k = 4\n",
    "solution(number, k)"
   ],
   "metadata": {
    "collapsed": false,
    "pycharm": {
     "name": "#%%\n"
    }
   }
  }
 ],
 "metadata": {
  "kernelspec": {
   "display_name": "Python 3",
   "language": "python",
   "name": "python3"
  },
  "language_info": {
   "codemirror_mode": {
    "name": "ipython",
    "version": 2
   },
   "file_extension": ".py",
   "mimetype": "text/x-python",
   "name": "python",
   "nbconvert_exporter": "python",
   "pygments_lexer": "ipython2",
   "version": "2.7.6"
  }
 },
 "nbformat": 4,
 "nbformat_minor": 0
}