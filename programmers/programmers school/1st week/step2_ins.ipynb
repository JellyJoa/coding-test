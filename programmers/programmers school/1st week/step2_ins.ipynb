{
 "cells": [
  {
   "cell_type": "code",
   "execution_count": null,
   "metadata": {
    "collapsed": true
   },
   "outputs": [],
   "source": [
    "def solution(n, lost, reserve):\n",
    "    answer = 0\n",
    "    # 여벌의 체육복을 가져왔으나 도난당했을 케이스 소거\n",
    "    reserved_set = set(reserve)-set(lost)\n",
    "    lost_set = set(lost)-set(reserve)\n",
    "\n",
    "    for i in reserved_set:\n",
    "        if i-1 in lost_set:\n",
    "            lost_set.remove(i-1)\n",
    "        elif i+1 in lost_set:\n",
    "            lost_set.remove(i+1)\n",
    "    return n-len(lost_set)"
   ]
  },
  {
   "cell_type": "code",
   "execution_count": null,
   "outputs": [],
   "source": [
    "from collections import OrderedDict\n",
    "def solution(n, lost, reserve):\n",
    "    answer = n\n",
    "    l = sorted([ele for ele in lost if ele not in reserve])\n",
    "    r = sorted([ele for ele in reserve if ele not in lost])\n",
    "\n",
    "    d_r = OrderedDict.fromkeys(r)\n",
    "    print(d_r)\n",
    "    for ele in l:\n",
    "        print(\"ele\",ele)\n",
    "        if ele - 1 in d_r:\n",
    "            d_r.pop(ele-1)\n",
    "            continue\n",
    "        if ele + 1 in d_r:\n",
    "            d_r.pop(ele+1)\n",
    "            continue\n",
    "        answer-=1\n",
    "    return answer"
   ],
   "metadata": {
    "collapsed": false,
    "pycharm": {
     "name": "#%%\n"
    }
   }
  }
 ],
 "metadata": {
  "kernelspec": {
   "display_name": "Python 3",
   "language": "python",
   "name": "python3"
  },
  "language_info": {
   "codemirror_mode": {
    "name": "ipython",
    "version": 2
   },
   "file_extension": ".py",
   "mimetype": "text/x-python",
   "name": "python",
   "nbconvert_exporter": "python",
   "pygments_lexer": "ipython2",
   "version": "2.7.6"
  }
 },
 "nbformat": 4,
 "nbformat_minor": 0
}