{
 "cells": [
  {
   "cell_type": "code",
   "execution_count": 33,
   "metadata": {
    "collapsed": true
   },
   "outputs": [
    {
     "data": {
      "text/plain": "5"
     },
     "execution_count": 33,
     "metadata": {},
     "output_type": "execute_result"
    }
   ],
   "source": [
    "def solution(n, lost, reserve):\n",
    "    lost.sort()\n",
    "    reserve.sort()\n",
    "    for i in lost[:]:\n",
    "        if i in reserve:\n",
    "            lost.remove(i)\n",
    "            reserve.remove(i)\n",
    "    answer = n - len(lost)\n",
    "\n",
    "    for i in lost[:]:\n",
    "        if (i>1) and (i-1) in reserve:\n",
    "            reserve.remove(i-1)\n",
    "            lost.remove(i)\n",
    "            answer += 1\n",
    "        elif (i+1) in reserve:\n",
    "            reserve.remove(i+1)\n",
    "            lost.remove(i)\n",
    "            answer += 1\n",
    "    return answer\n",
    "\n",
    "n = 5\n",
    "lost = [2, 4]\n",
    "reserve = [1, 3, 5]\n",
    "solution(n, lost, reserve)"
   ]
  }
 ],
 "metadata": {
  "kernelspec": {
   "display_name": "Python 3",
   "language": "python",
   "name": "python3"
  },
  "language_info": {
   "codemirror_mode": {
    "name": "ipython",
    "version": 2
   },
   "file_extension": ".py",
   "mimetype": "text/x-python",
   "name": "python",
   "nbconvert_exporter": "python",
   "pygments_lexer": "ipython2",
   "version": "2.7.6"
  }
 },
 "nbformat": 4,
 "nbformat_minor": 0
}