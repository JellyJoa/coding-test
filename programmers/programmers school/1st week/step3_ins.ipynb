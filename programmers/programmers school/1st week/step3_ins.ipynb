{
 "cells": [
  {
   "cell_type": "code",
   "execution_count": null,
   "metadata": {
    "collapsed": true
   },
   "outputs": [],
   "source": [
    "import sys\n",
    "\n",
    "sys.setrecursionlimit(10**8)\n",
    "def solution(numbers):\n",
    "    answer = []\n",
    "    numbers = list(map(str, numbers))\n",
    "    answer = qSort(numbers)\n",
    "    if sum(list(map(int,answer))) == 0:\n",
    "        return \"0\"\n",
    "    return (''.join(answer))\n",
    "\n",
    "\n",
    "def qSort(arr):\n",
    "    if len(arr) < 2:\n",
    "        return arr\n",
    "    piv = arr[len(arr)//2-1]\n",
    "    L,S,E = [], [], []\n",
    "    for elem in arr:\n",
    "        if compare(elem, piv) == 1:\n",
    "            L.append(elem)\n",
    "        elif compare(elem, piv) == 0:\n",
    "            S.append(elem)\n",
    "        else:\n",
    "            E.append(elem)\n",
    "    return qSort(L) + E + qSort(S)\n",
    "\n",
    "\n",
    "def compare(a,b):\n",
    "    a_len = len(a)\n",
    "    b_len = len(b)\n",
    "    for i in range(4):\n",
    "        if int(a[i%a_len]) > int(b[i%b_len]):\n",
    "            return 1\n",
    "        elif int(b[i%b_len]) > int(a[i%a_len]):\n",
    "            return 0\n",
    "    return -1"
   ]
  },
  {
   "cell_type": "code",
   "execution_count": null,
   "outputs": [],
   "source": [
    "def solution(numbers):\n",
    "    answer = ''\n",
    "\n",
    "    # change num to char\n",
    "    for i, v in enumerate(numbers):\n",
    "        numbers[i] = str(v)\n",
    "\n",
    "    # 가장 큰 자리 숫자를 첫 번째 기준, 두 번째로 큰 자리 숫자를 두 번째 기준.... 으로 정렬한다.\n",
    "    # 단, 제일 마지막 자리가 가장 작은 숫자라면, 맨 뒤로 보낸다.\n",
    "    numbers = sorted(numbers, key = lambda x: (x[::]), reverse=True)\n",
    "\n",
    "    # 합치기\n",
    "    for i in numbers:\n",
    "        answer += i\n",
    "\n",
    "\n",
    "\n",
    "    return answer\n",
    "\n",
    "# ? 성공한 코드인지 확인필요요"
   ],
   "metadata": {
    "collapsed": false,
    "pycharm": {
     "name": "#%%\n"
    }
   }
  },
  {
   "cell_type": "code",
   "execution_count": null,
   "outputs": [],
   "source": [
    "## 시간 제한이 없다면 경우의 수 다 구하고 최댓값 (시간 초과, 100,000 길이)\n",
    "\n",
    "## 재귀로 푼다면... (시간초과)\n",
    "## 선택 or 선택 x\n",
    "\n",
    "## 예전에 풀었던 cmp to key 느낌을 살려서...\n",
    "\n",
    "from functools import cmp_to_key\n",
    "\n",
    "def cmpKey(x, y):\n",
    "    x = str(x)\n",
    "    y = str(y)\n",
    "    if(x + y >= y + x):\n",
    "        return -1\n",
    "    else:\n",
    "        return 1\n",
    "\n",
    "def solution(numbers):\n",
    "    numbers = sorted(numbers, key = cmp_to_key(cmpKey))\n",
    "    for i in range(len(numbers)):\n",
    "        numbers[i] = str(numbers[i])\n",
    "\n",
    "    answer = str(int(''.join(numbers)))\n",
    "    return answer"
   ],
   "metadata": {
    "collapsed": false,
    "pycharm": {
     "name": "#%%\n"
    }
   }
  },
  {
   "cell_type": "code",
   "execution_count": null,
   "outputs": [],
   "source": [
    "def solution(numbers):\n",
    "    answer = ''\n",
    "    numbers = list(map(str, numbers))\n",
    "    numbers.sort(key = lambda x: x*3, reverse=True)\n",
    "    answer = str(int(''.join(numbers)))\n",
    "    return answer"
   ],
   "metadata": {
    "collapsed": false,
    "pycharm": {
     "name": "#%%\n"
    }
   }
  },
  {
   "cell_type": "code",
   "execution_count": null,
   "outputs": [],
   "source": [
    "def solution(numbers):\n",
    "    numbers = list(map(str, numbers))\n",
    "    # numbers의 원소가 1000이하이므로 1자리 숫자일 경우를 대비해 3제곱 시켜줌\n",
    "    # 문자열 비교는 Ascii 코드로 비교하기 때문에 앞자리 숫자가 큰 순으로 sort됨\n",
    "    # 예: '3' > '30' -> '333' > '303030' => 앞자리는 '3'으로 같고 그 다음 두번째가 '3'과 '0' 비교이므로 '3'이 더 크게 됨\n",
    "    numbers.sort(key=lambda x: x*3, reverse=True)\n",
    "\n",
    "    answer = str(int(''.join(numbers)))\n",
    "    return answer"
   ],
   "metadata": {
    "collapsed": false,
    "pycharm": {
     "name": "#%%\n"
    }
   }
  },
  {
   "cell_type": "code",
   "execution_count": null,
   "outputs": [],
   "source": [
    "def solution(numbers):\n",
    "    numbers = [str(x) for x in numbers]\n",
    "    numbers = sorted(numbers,key=lambda x : str(x*4)[:4],reverse=True)\n",
    "    if numbers[0]=='0':\n",
    "        return '0'\n",
    "    return ''.join(numbers)"
   ],
   "metadata": {
    "collapsed": false,
    "pycharm": {
     "name": "#%%\n"
    }
   }
  }
 ],
 "metadata": {
  "kernelspec": {
   "display_name": "Python 3",
   "language": "python",
   "name": "python3"
  },
  "language_info": {
   "codemirror_mode": {
    "name": "ipython",
    "version": 2
   },
   "file_extension": ".py",
   "mimetype": "text/x-python",
   "name": "python",
   "nbconvert_exporter": "python",
   "pygments_lexer": "ipython2",
   "version": "2.7.6"
  }
 },
 "nbformat": 4,
 "nbformat_minor": 0
}