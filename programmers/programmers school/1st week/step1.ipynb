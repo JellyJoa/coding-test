{
 "cells": [
  {
   "cell_type": "code",
   "execution_count": 29,
   "metadata": {
    "collapsed": true
   },
   "outputs": [
    {
     "name": "stdout",
     "output_type": "stream",
     "text": [
      "['mislav']\n"
     ]
    },
    {
     "data": {
      "text/plain": "'mislav'"
     },
     "execution_count": 29,
     "metadata": {},
     "output_type": "execute_result"
    }
   ],
   "source": [
    "def solution(participant, completion):\n",
    "    answer = ''\n",
    "    for i in completion[:]:\n",
    "        for j in participant[:]:\n",
    "            if i == j:\n",
    "                completion.remove(i)\n",
    "                participant.remove(j)\n",
    "                break\n",
    "    print(participant)\n",
    "    for i in participant:\n",
    "        answer += i\n",
    "    return answer\n",
    "\n",
    "# participant = [\"marina\", \"josipa\", \"nikola\", \"vinko\", \"filipa\"]\n",
    "# completion = [\"marina\", \"josipa\", \"nikola\", \"filipa\"]\n",
    "participant = [\"mislav\", \"stanko\", \"mislav\", \"ana\"]\n",
    "completion = [\"mislav\", \"stanko\", \"ana\"]\n",
    "solution(participant, completion)"
   ]
  },
  {
   "cell_type": "code",
   "execution_count": 35,
   "outputs": [
    {
     "data": {
      "text/plain": "'mislav'"
     },
     "execution_count": 35,
     "metadata": {},
     "output_type": "execute_result"
    }
   ],
   "source": [
    "def solution(participant, completion):\n",
    "    answer = ''\n",
    "    for i in participant[:]:\n",
    "        if i in completion:\n",
    "            completion.remove(i)\n",
    "            participant.remove(i)\n",
    "        else:\n",
    "            answer += i\n",
    "    return answer\n",
    "\n",
    "participant = [\"mislav\", \"stanko\", \"mislav\", \"ana\"]\n",
    "completion = [\"mislav\", \"stanko\", \"ana\"]\n",
    "solution(participant, completion)"
   ],
   "metadata": {
    "collapsed": false,
    "pycharm": {
     "name": "#%%\n"
    }
   }
  },
  {
   "cell_type": "code",
   "execution_count": 38,
   "outputs": [
    {
     "data": {
      "text/plain": "'mislav'"
     },
     "execution_count": 38,
     "metadata": {},
     "output_type": "execute_result"
    }
   ],
   "source": [
    "def solution(participant, completion):\n",
    "    answer = ''\n",
    "    for i in participant:\n",
    "        if i in completion:\n",
    "            completion.remove(i)\n",
    "            participant.remove(i)\n",
    "        else:\n",
    "            answer += i\n",
    "    return answer\n",
    "\n",
    "participant = [\"mislav\", \"stanko\", \"mislav\", \"ana\"]\n",
    "completion = [\"mislav\", \"stanko\", \"ana\"]\n",
    "solution(participant, completion)"
   ],
   "metadata": {
    "collapsed": false,
    "pycharm": {
     "name": "#%%\n"
    }
   }
  }
 ],
 "metadata": {
  "kernelspec": {
   "display_name": "Python 3",
   "language": "python",
   "name": "python3"
  },
  "language_info": {
   "codemirror_mode": {
    "name": "ipython",
    "version": 2
   },
   "file_extension": ".py",
   "mimetype": "text/x-python",
   "name": "python",
   "nbconvert_exporter": "python",
   "pygments_lexer": "ipython2",
   "version": "2.7.6"
  }
 },
 "nbformat": 4,
 "nbformat_minor": 0
}