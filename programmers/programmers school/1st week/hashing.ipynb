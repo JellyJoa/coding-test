{
 "cells": [
  {
   "cell_type": "code",
   "execution_count": 10,
   "metadata": {
    "collapsed": true
   },
   "outputs": [
    {
     "name": "stdout",
     "output_type": "stream",
     "text": [
      "{'a': 1, 'b': 2, 'c': 3, 'd': 4, 'e': 5, 'f': 6, 'g': 7, 'h': 8, 'i': 9, 'j': 10, 'k': 11, 'l': 12, 'm': 13, 'n': 14, 'o': 15, 'p': 16, 'q': 17, 'r': 18, 's': 19, 't': 20, 'u': 21, 'v': 22, 'w': 23, 'x': 24, 'y': 25, 'z': 26}\n",
      "1 * (1)\n",
      "2 * (31)\n",
      "3 * (961)\n",
      "4 * (29791)\n",
      "5 * (923521)\n",
      "4739715\n"
     ]
    }
   ],
   "source": [
    "L = int(input())\n",
    "s = input()\n",
    "hash = {}\n",
    "result = 0\n",
    "\n",
    "for i in range(26):\n",
    "    hash[chr(ord('a')+i)] = i+1\n",
    "print(hash)\n",
    "\n",
    "for j in range(len(s)):\n",
    "    result += hash[s[j]] * (31 ** j)\n",
    "    print(f'{hash[s[j]]} * ({31 ** j})')\n",
    "\n",
    "print(result)"
   ]
  },
  {
   "cell_type": "code",
   "execution_count": 24,
   "outputs": [
    {
     "name": "stdout",
     "output_type": "stream",
     "text": [
      "9\n"
     ]
    }
   ],
   "source": [
    "L = int(input())\n",
    "s = input()\n",
    "hash = {}\n",
    "result = 0\n",
    "\n",
    "for i in range(len(s)):\n",
    "    val = s[i]\n",
    "    hash[val] = hash.get(val, ord(val)-ord('a')+1)\n",
    "    result += hash[val] * (31 ** i)\n",
    "\n",
    "print(result)"
   ],
   "metadata": {
    "collapsed": false,
    "pycharm": {
     "name": "#%%\n"
    }
   }
  }
 ],
 "metadata": {
  "kernelspec": {
   "display_name": "Python 3",
   "language": "python",
   "name": "python3"
  },
  "language_info": {
   "codemirror_mode": {
    "name": "ipython",
    "version": 2
   },
   "file_extension": ".py",
   "mimetype": "text/x-python",
   "name": "python",
   "nbconvert_exporter": "python",
   "pygments_lexer": "ipython2",
   "version": "2.7.6"
  }
 },
 "nbformat": 4,
 "nbformat_minor": 0
}