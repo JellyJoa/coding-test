{
 "cells": [
  {
   "cell_type": "code",
   "execution_count": 9,
   "metadata": {},
   "outputs": [
    {
     "data": {
      "text/plain": [
       "[1]"
      ]
     },
     "execution_count": 9,
     "metadata": {},
     "output_type": "execute_result"
    }
   ],
   "source": [
    "def solution(answers):\n",
    "    no1 = [1, 2, 3, 4, 5]\n",
    "    no2 = [2, 1, 2, 3, 2, 4, 2, 5]\n",
    "    no3 = [3, 3, 1, 1, 2, 2, 4, 4, 5, 5]\n",
    "    length = len(answers)\n",
    "    \n",
    "    a1 = length // len(no1)\n",
    "    a2 = length % len(no1)\n",
    "    b1 = length // len(no2)\n",
    "    b2 = length % len(no2)\n",
    "    c1 = length // len(no3)\n",
    "    c2 = length % len(no3)\n",
    "\n",
    "    if a2 == 0:\n",
    "        fin1 = no1*a1\n",
    "    else:\n",
    "        fin1 = no1*a1 + no1[:a2]\n",
    "    \n",
    "    if b2 == 0:\n",
    "        fin2 = no2*b1\n",
    "    else:\n",
    "        fin2 = no2*b1 + no2[:b2]\n",
    "    \n",
    "    if c2 == 0:\n",
    "        fin3 = no3*c1\n",
    "    else:\n",
    "        fin3 = no3*c1 + no3[:c2]\n",
    "    # print(fin1, fin2, fin3)\n",
    "    num1 = 0\n",
    "    num2 = 0\n",
    "    num3 = 0\n",
    "\n",
    "    for i in range(length):\n",
    "        if fin1[i] == answers[i]:\n",
    "            num1 += 1\n",
    "        if fin2[i] == answers[i]:\n",
    "            num2 += 1\n",
    "        if fin3[i] == answers[i]:\n",
    "            num3 += 1\n",
    "    result = []\n",
    "    maximum = max(num1, num2, num3)\n",
    "\n",
    "    if num1 == maximum:\n",
    "        result.append(1)\n",
    "    if num2 == maximum:\n",
    "        result.append(2)\n",
    "    if num3 == maximum:\n",
    "        result.append(3)\n",
    "    return result\n",
    "\n",
    "answers = [1,2,3,4,5]\n",
    "solution(answers)"
   ]
  },
  {
   "cell_type": "code",
   "execution_count": null,
   "metadata": {},
   "outputs": [],
   "source": []
  }
 ],
 "metadata": {
  "kernelspec": {
   "display_name": "Python 3.9.12 ('base')",
   "language": "python",
   "name": "python3"
  },
  "language_info": {
   "codemirror_mode": {
    "name": "ipython",
    "version": 3
   },
   "file_extension": ".py",
   "mimetype": "text/x-python",
   "name": "python",
   "nbconvert_exporter": "python",
   "pygments_lexer": "ipython3",
   "version": "3.9.12"
  },
  "orig_nbformat": 4,
  "vscode": {
   "interpreter": {
    "hash": "a077222d77dfe082b8f1dd562ad70e458ac2ab76993a0b248ab0476e32e9e8dd"
   }
  }
 },
 "nbformat": 4,
 "nbformat_minor": 2
}
