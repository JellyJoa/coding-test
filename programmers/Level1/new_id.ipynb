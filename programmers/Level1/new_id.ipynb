{
 "cells": [
  {
   "cell_type": "code",
   "execution_count": 33,
   "metadata": {
    "collapsed": true
   },
   "outputs": [
    {
     "name": "stdout",
     "output_type": "stream",
     "text": [
      "...bat..y.abcdefghijklm\n",
      "..bat.y.abcdefghijklm\n",
      ".bat.y.abcdefgh\n"
     ]
    },
    {
     "data": {
      "text/plain": [
       "'.bat.y.abcdefgh'"
      ]
     },
     "execution_count": 33,
     "metadata": {},
     "output_type": "execute_result"
    }
   ],
   "source": [
    "# fail\n",
    "def solution(new_id):\n",
    "    exchange = new_id.lower()\n",
    "    answer = \"\"\n",
    "\n",
    "    for i in exchange:\n",
    "        if i == '-' or i == '_' or i == '.' or i.isdigit() or i.isalpha():\n",
    "            answer += i\n",
    "\n",
    "    # answer += '!'\n",
    "    print(answer)\n",
    "    # i=index, c=value\n",
    "    for i, c in enumerate(answer):\n",
    "        if i <= len(answer) - 1:\n",
    "            if answer[i] == '.' and answer[i + 1] == '.':\n",
    "                answer = answer[:i] + answer[i + 1:]\n",
    "                \n",
    "    # answer = answer[:-1]\n",
    "    print(answer)\n",
    "    if answer[0] == '.' and len(answer) == 1:\n",
    "        answer = ''\n",
    "    elif answer[0] == '.':\n",
    "        answer = answer[1:]\n",
    "    elif answer[-1] == '.':\n",
    "        answer = answer[:-1]\n",
    "\n",
    "    if not len(answer):\n",
    "        answer = 'a'\n",
    "    else:\n",
    "        answer = answer[:15]\n",
    "\n",
    "    if answer[-1] == '.':\n",
    "        answer = answer[:-1]\n",
    "    print(answer)\n",
    "\n",
    "\n",
    "    if len(answer) <= 2:\n",
    "        t = answer[-1]\n",
    "        while len(answer) != 3:\n",
    "            answer += t\n",
    "\n",
    "    return answer\n",
    "\n",
    "new_id = \"...!@BaT#*..y.abcdefghijklm\"\n",
    "# new_id2 = \"z-+.^.\"\n",
    "solution(new_id)"
   ]
  },
  {
   "cell_type": "code",
   "execution_count": 3,
   "metadata": {},
   "outputs": [
    {
     "ename": "AttributeError",
     "evalue": "'str' object has no attribute 'pop'",
     "output_type": "error",
     "traceback": [
      "\u001b[1;31m---------------------------------------------------------------------------\u001b[0m",
      "\u001b[1;31mAttributeError\u001b[0m                            Traceback (most recent call last)",
      "\u001b[1;32mc:\\Users\\user\\Desktop\\새 폴더\\coding-test\\programmers\\Level1\\new_id.ipynb 셀 2\u001b[0m in \u001b[0;36m<cell line: 28>\u001b[1;34m()\u001b[0m\n\u001b[0;32m     <a href='vscode-notebook-cell:/c%3A/Users/user/Desktop/%EC%83%88%20%ED%8F%B4%EB%8D%94/coding-test/programmers/Level1/new_id.ipynb#ch0000001?line=23'>24</a>\u001b[0m     \u001b[39mreturn\u001b[39;00m result\n\u001b[0;32m     <a href='vscode-notebook-cell:/c%3A/Users/user/Desktop/%EC%83%88%20%ED%8F%B4%EB%8D%94/coding-test/programmers/Level1/new_id.ipynb#ch0000001?line=26'>27</a>\u001b[0m new_id \u001b[39m=\u001b[39m \u001b[39m'\u001b[39m\u001b[39mz-+.^.\u001b[39m\u001b[39m'\u001b[39m\n\u001b[1;32m---> <a href='vscode-notebook-cell:/c%3A/Users/user/Desktop/%EC%83%88%20%ED%8F%B4%EB%8D%94/coding-test/programmers/Level1/new_id.ipynb#ch0000001?line=27'>28</a>\u001b[0m solution(new_id)\n",
      "\u001b[1;32mc:\\Users\\user\\Desktop\\새 폴더\\coding-test\\programmers\\Level1\\new_id.ipynb 셀 2\u001b[0m in \u001b[0;36msolution\u001b[1;34m(new_id)\u001b[0m\n\u001b[0;32m     <a href='vscode-notebook-cell:/c%3A/Users/user/Desktop/%EC%83%88%20%ED%8F%B4%EB%8D%94/coding-test/programmers/Level1/new_id.ipynb#ch0000001?line=14'>15</a>\u001b[0m     result\u001b[39m.\u001b[39mpop(\u001b[39m0\u001b[39m)\n\u001b[0;32m     <a href='vscode-notebook-cell:/c%3A/Users/user/Desktop/%EC%83%88%20%ED%8F%B4%EB%8D%94/coding-test/programmers/Level1/new_id.ipynb#ch0000001?line=15'>16</a>\u001b[0m \u001b[39melif\u001b[39;00m result[\u001b[39m-\u001b[39m\u001b[39m1\u001b[39m] \u001b[39m==\u001b[39m \u001b[39m'\u001b[39m\u001b[39m.\u001b[39m\u001b[39m'\u001b[39m:\n\u001b[1;32m---> <a href='vscode-notebook-cell:/c%3A/Users/user/Desktop/%EC%83%88%20%ED%8F%B4%EB%8D%94/coding-test/programmers/Level1/new_id.ipynb#ch0000001?line=16'>17</a>\u001b[0m     result\u001b[39m.\u001b[39;49mpop(\u001b[39mlen\u001b[39m(result)\u001b[39m-\u001b[39m\u001b[39m1\u001b[39m)\n\u001b[0;32m     <a href='vscode-notebook-cell:/c%3A/Users/user/Desktop/%EC%83%88%20%ED%8F%B4%EB%8D%94/coding-test/programmers/Level1/new_id.ipynb#ch0000001?line=17'>18</a>\u001b[0m \u001b[39mif\u001b[39;00m \u001b[39mlen\u001b[39m(result) \u001b[39m==\u001b[39m \u001b[39m0\u001b[39m:\n\u001b[0;32m     <a href='vscode-notebook-cell:/c%3A/Users/user/Desktop/%EC%83%88%20%ED%8F%B4%EB%8D%94/coding-test/programmers/Level1/new_id.ipynb#ch0000001?line=18'>19</a>\u001b[0m     result \u001b[39m=\u001b[39m \u001b[39m'\u001b[39m\u001b[39ma\u001b[39m\u001b[39m'\u001b[39m\n",
      "\u001b[1;31mAttributeError\u001b[0m: 'str' object has no attribute 'pop'"
     ]
    }
   ],
   "source": [
    "# fail\n",
    "def solution(new_id):\n",
    "    id_list = ['q','w','e','r','t','y','u','i','o','p',\n",
    "                'a','s','d','f','g','h','j','k','l','z',\n",
    "                'x','c','v','b','n','m','-','_','.',\n",
    "                '0','1','2','3','4','5','6','7','8','9']\n",
    "\n",
    "    lower_id = new_id.lower()\n",
    "    result = ''\n",
    "    for i in lower_id:\n",
    "        if i in id_list:\n",
    "            result += i\n",
    "    # if '..' in result:\n",
    "    #     result.remove('..')\n",
    "    if result[0] == '.':\n",
    "        result.pop(0)\n",
    "    elif result[-1] == '.':\n",
    "        result.pop(len(result)-1)\n",
    "    if len(result) == 0:\n",
    "        result = 'a'\n",
    "    elif len(result) > 15:\n",
    "        result = result[:15]\n",
    "        if result[-1] == '.':\n",
    "            result.pop(-1)\n",
    "    return result\n",
    "\n",
    "\n",
    "new_id = 'z-+.^.'\n",
    "solution(new_id)"
   ]
  },
  {
   "cell_type": "code",
   "execution_count": 4,
   "metadata": {},
   "outputs": [
    {
     "data": {
      "text/plain": [
       "'z--'"
      ]
     },
     "execution_count": 4,
     "metadata": {},
     "output_type": "execute_result"
    }
   ],
   "source": [
    "# other solution\n",
    "\n",
    "def solution(new_id):\n",
    "    # 1단계\n",
    "    new_id = new_id.lower()\n",
    "    # 2단계\n",
    "    answer = ''\n",
    "    for word in new_id:\n",
    "        if word.isalnum() or word in '-_.':\n",
    "        # isalpha => 문자열이 영어나 한글로 되어있을 때\n",
    "        # isalnum => 문자열이 영어, 한글, 숫자로 되어있을 때(이모티콘X)\n",
    "            answer += word\n",
    "    # 3단계\n",
    "    while '..' in answer:\n",
    "        answer = answer.replace('..', '.')\n",
    "    # 4단계\n",
    "    answer = answer[1:] if answer[0] == '.' and len(answer) > 1 else answer\n",
    "    answer = answer[:-1] if answer[-1] == '.' else answer\n",
    "    # 5단계\n",
    "    answer = 'a' if answer == '' else answer\n",
    "    # 6단계\n",
    "    if len(answer) >= 16:\n",
    "        answer = answer[:15]\n",
    "        if answer[-1] == '.':\n",
    "            answer = answer[:-1]\n",
    "    # 7단계\n",
    "    if len(answer) <= 3:\n",
    "        answer = answer + answer[-1] * (3-len(answer))\n",
    "    return answer\n",
    "\n",
    "new_id = 'z-+.^.'\n",
    "solution(new_id)"
   ]
  },
  {
   "cell_type": "code",
   "execution_count": 5,
   "metadata": {},
   "outputs": [
    {
     "data": {
      "text/plain": [
       "'z--'"
      ]
     },
     "execution_count": 5,
     "metadata": {},
     "output_type": "execute_result"
    }
   ],
   "source": [
    "# short solution\n",
    "\n",
    "import re\n",
    "# 정규표현식\n",
    "\n",
    "def solution(new_id):\n",
    "    st = new_id\n",
    "    st = st.lower()\n",
    "    st = re.sub('[^a-z0-9\\-_.]', '', st)\n",
    "    # re.sub(바꾸고 싶은 문자, 바꿀 문자, 문자열 이름, 바꿀 횟수)\n",
    "    st = re.sub('\\.+', '.', st)\n",
    "    st = re.sub('^[.]|[.]$', '', st)\n",
    "    st = 'a' if len(st) == 0 else st[:15]\n",
    "    st = re.sub('^[.]|[.]$', '', st)\n",
    "    st = st if len(st) > 2 else st + \"\".join([st[-1] for i in range(3-len(st))])\n",
    "    return st\n",
    "\n",
    "new_id = 'z-+.^.'\n",
    "solution(new_id)"
   ]
  }
 ],
 "metadata": {
  "kernelspec": {
   "display_name": "Python 3.9.12 ('base')",
   "language": "python",
   "name": "python3"
  },
  "language_info": {
   "codemirror_mode": {
    "name": "ipython",
    "version": 3
   },
   "file_extension": ".py",
   "mimetype": "text/x-python",
   "name": "python",
   "nbconvert_exporter": "python",
   "pygments_lexer": "ipython3",
   "version": "3.9.12"
  },
  "vscode": {
   "interpreter": {
    "hash": "a077222d77dfe082b8f1dd562ad70e458ac2ab76993a0b248ab0476e32e9e8dd"
   }
  }
 },
 "nbformat": 4,
 "nbformat_minor": 0
}
