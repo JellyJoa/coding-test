{
 "cells": [
  {
   "cell_type": "code",
   "execution_count": 33,
   "metadata": {
    "collapsed": true
   },
   "outputs": [
    {
     "name": "stdout",
     "output_type": "stream",
     "text": [
      "...bat..y.abcdefghijklm\n",
      "..bat.y.abcdefghijklm\n",
      ".bat.y.abcdefgh\n"
     ]
    },
    {
     "data": {
      "text/plain": "'.bat.y.abcdefgh'"
     },
     "execution_count": 33,
     "metadata": {},
     "output_type": "execute_result"
    }
   ],
   "source": [
    "def solution(new_id):\n",
    "    exchange = new_id.lower()\n",
    "    answer = \"\"\n",
    "\n",
    "    for i in exchange:\n",
    "        if i == '-' or i == '_' or i == '.' or i.isdigit() or i.isalpha():\n",
    "            answer += i\n",
    "\n",
    "    # answer += '!'\n",
    "    print(answer)\n",
    "    # i=index, c=value\n",
    "    for i, c in enumerate(answer):\n",
    "        if i <= len(answer) - 1:\n",
    "            if answer[i] == '.' and answer[i + 1] == '.':\n",
    "                answer = answer[:i] + answer[i + 1:]\n",
    "                \n",
    "    # answer = answer[:-1]\n",
    "    print(answer)\n",
    "    if answer[0] == '.' and len(answer) == 1:\n",
    "        answer = ''\n",
    "    elif answer[0] == '.':\n",
    "        answer = answer[1:]\n",
    "    elif answer[-1] == '.':\n",
    "        answer = answer[:-1]\n",
    "\n",
    "    if not len(answer):\n",
    "        answer = 'a'\n",
    "    else:\n",
    "        answer = answer[:15]\n",
    "\n",
    "    if answer[-1] == '.':\n",
    "        answer = answer[:-1]\n",
    "    print(answer)\n",
    "\n",
    "\n",
    "    if len(answer) <= 2:\n",
    "        t = answer[-1]\n",
    "        while len(answer) != 3:\n",
    "            answer += t\n",
    "\n",
    "    return answer\n",
    "\n",
    "new_id = \"...!@BaT#*..y.abcdefghijklm\"\n",
    "# new_id2 = \"z-+.^.\"\n",
    "solution(new_id)"
   ]
  }
 ],
 "metadata": {
  "kernelspec": {
   "display_name": "Python 3",
   "language": "python",
   "name": "python3"
  },
  "language_info": {
   "codemirror_mode": {
    "name": "ipython",
    "version": 2
   },
   "file_extension": ".py",
   "mimetype": "text/x-python",
   "name": "python",
   "nbconvert_exporter": "python",
   "pygments_lexer": "ipython2",
   "version": "2.7.6"
  }
 },
 "nbformat": 4,
 "nbformat_minor": 0
}