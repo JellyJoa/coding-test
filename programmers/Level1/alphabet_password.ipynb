{
 "cells": [
  {
   "cell_type": "code",
   "execution_count": 14,
   "metadata": {
    "collapsed": true,
    "pycharm": {
     "name": "#%%\n"
    }
   },
   "outputs": [
    {
     "data": {
      "text/plain": "([101, ' ', 70, ' ', 68], 'e F D')"
     },
     "execution_count": 14,
     "metadata": {},
     "output_type": "execute_result"
    }
   ],
   "source": [
    "def solution(s, n):\n",
    "    content = []\n",
    "    answer = ''\n",
    "    for i in s:\n",
    "        if i == ' ':\n",
    "            content.append(' ')\n",
    "        else:\n",
    "            if ord('A') <= ord(i) <= ord('Z') and (ord(i)+n > ord('Z')):\n",
    "                i = ord(i) + n - 26\n",
    "            else:\n",
    "                i = ord(i) + n\n",
    "                if i > ord('z'):\n",
    "                    i = i - 26\n",
    "            content.append(i)\n",
    "    for j in content:\n",
    "        if j == ' ':\n",
    "            answer += ' '\n",
    "        else:\n",
    "            j = chr(j)\n",
    "            answer += j\n",
    "    return content, answer\n",
    "\n",
    "s = 'a B Z'\n",
    "n = 4\n",
    "solution(s, n)"
   ]
  },
  {
   "cell_type": "code",
   "execution_count": 23,
   "outputs": [
    {
     "data": {
      "text/plain": "-1"
     },
     "execution_count": 23,
     "metadata": {},
     "output_type": "execute_result"
    }
   ],
   "source": [
    "import math\n",
    "def solution(n):\n",
    "    answer = 0\n",
    "    sqr = math.sqrt(n)\n",
    "    if str(sqr)[-1] == '0':\n",
    "        answer += int(math.pow(sqr+1, 2))\n",
    "    else:\n",
    "        answer -= 1\n",
    "    return answer\n",
    "\n",
    "n = 3\n",
    "solution(n)"
   ],
   "metadata": {
    "collapsed": false,
    "pycharm": {
     "name": "#%%\n"
    }
   }
  }
 ],
 "metadata": {
  "kernelspec": {
   "display_name": "Python 3",
   "language": "python",
   "name": "python3"
  },
  "language_info": {
   "codemirror_mode": {
    "name": "ipython",
    "version": 2
   },
   "file_extension": ".py",
   "mimetype": "text/x-python",
   "name": "python",
   "nbconvert_exporter": "python",
   "pygments_lexer": "ipython2",
   "version": "2.7.6"
  }
 },
 "nbformat": 4,
 "nbformat_minor": 0
}