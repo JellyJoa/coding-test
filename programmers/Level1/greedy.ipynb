{
 "cells": [
  {
   "cell_type": "code",
   "execution_count": 49,
   "outputs": [
    {
     "data": {
      "text/plain": "2"
     },
     "execution_count": 49,
     "metadata": {},
     "output_type": "execute_result"
    }
   ],
   "source": [
    "def solution(n, lost, reserve):\n",
    "    lost.sort()\n",
    "    reserve.sort()\n",
    "    for i in lost[:]:\n",
    "        if i in reserve:\n",
    "            reserve.remove(i)\n",
    "            lost.remove(i)\n",
    "    answer = n - len(lost)\n",
    "    for i in lost:\n",
    "        if i-1 in reserve:\n",
    "            answer += 1\n",
    "            reserve.remove(i-1)\n",
    "        elif i+1 in reserve:\n",
    "            answer += 1\n",
    "            reserve.remove(i+1)\n",
    "    return answer\n",
    "\n",
    "n = 9\n",
    "lost = [5, 6, 8, 1, 2]\n",
    "reverse = [2, 3, 1, 4, 8, 9]\n",
    "# n = 3\n",
    "# lost = [3]\n",
    "# reverse = [1]\n",
    "solution(n, lost, reverse)"
   ],
   "metadata": {
    "collapsed": false,
    "pycharm": {
     "name": "#%%\n"
    }
   }
  },
  {
   "cell_type": "code",
   "execution_count": null,
   "metadata": {
    "collapsed": true
   },
   "outputs": [],
   "source": [
    "n, k = map(int, input().split())\n",
    "\n",
    "result = 0\n",
    "\n",
    "while True:\n",
    "    target = (n // k) * k\n",
    "    result += (n - target)\n",
    "    n = target\n",
    "\n",
    "    if n < k:\n",
    "        break\n",
    "    result += 1\n",
    "    n //= k\n",
    "\n",
    "result += (n-1)\n",
    "print(result)"
   ]
  },
  {
   "cell_type": "code",
   "execution_count": 1,
   "outputs": [
    {
     "name": "stdout",
     "output_type": "stream",
     "text": [
      "360\n"
     ]
    }
   ],
   "source": [
    "data = input()\n",
    "result = int(data[0])\n",
    "\n",
    "for i in range(1, len(data)):\n",
    "    num = int(data[i])\n",
    "    if num <= 1 or result <= 1:\n",
    "        result += num\n",
    "    else:\n",
    "        result *= num\n",
    "\n",
    "print(result)"
   ],
   "metadata": {
    "collapsed": false,
    "pycharm": {
     "name": "#%%\n"
    }
   }
  },
  {
   "cell_type": "code",
   "execution_count": null,
   "outputs": [],
   "source": [
    "N = int(input())\n",
    "member = [map(int, input().split())]\n",
    "member.sort()\n",
    "cnt = 0\n",
    "result = 0\n",
    "\n",
    "for i in member:\n",
    "    cnt += 1\n",
    "    if i <= cnt:\n",
    "        result += 1\n",
    "        count = 0\n",
    "print(result)"
   ],
   "metadata": {
    "collapsed": false,
    "pycharm": {
     "name": "#%%\n"
    }
   }
  },
  {
   "cell_type": "code",
   "execution_count": null,
   "outputs": [],
   "source": [
    "# 상하좌우\n",
    "\n",
    "n = int(input())\n",
    "x, y = 1, 1\n",
    "plans = input().split()\n",
    "\n",
    "dx = [0, 0, -1, 1]\n",
    "dy = [-1, 1, 0, 0]\n",
    "move_types = ['L', 'R', 'U', 'D']\n",
    "\n",
    "for plan in plans:\n",
    "    for i in range(len(move_types)):\n",
    "        if plan == move_types[i]:\n",
    "            nx = x + dx[i]\n",
    "            ny = y + dy[i]\n",
    "\n",
    "        if nx < 1 or ny < 1 or nx > n or ny > n:\n",
    "            continue\n",
    "        x, y = nx, ny\n",
    "print(x, y)"
   ],
   "metadata": {
    "collapsed": false,
    "pycharm": {
     "name": "#%%\n"
    }
   }
  },
  {
   "cell_type": "code",
   "execution_count": 6,
   "outputs": [
    {
     "name": "stdout",
     "output_type": "stream",
     "text": [
      "11475\n"
     ]
    }
   ],
   "source": [
    "N = int(input())\n",
    "cnt = 0\n",
    "\n",
    "for i in range(N+1):\n",
    "    for j in range(60):\n",
    "        for k in range(60):\n",
    "            if '3' in str(i) + str(j)+ str(k):\n",
    "                cnt += 1\n",
    "print(cnt)"
   ],
   "metadata": {
    "collapsed": false,
    "pycharm": {
     "name": "#%%\n"
    }
   }
  },
  {
   "cell_type": "code",
   "execution_count": null,
   "outputs": [],
   "source": [
    "data = input()\n",
    "row = int(data[1])\n",
    "column = int(ord(data[0]))\n",
    "\n",
    "steps = [(-2, -1), (-1, -2), (1, -2), (2, -1), (2, 1), (1, 2), (-1, 2), (-2, 1)]\n",
    "\n",
    "result = 0\n",
    "for step in steps:\n",
    "    next_row = row + step[0]\n",
    "    next_column = column + step[1]\n",
    "\n",
    "    if next_row >= 1 and next_column >= 1 and next_row <= 8 and next_column <= 8:\n",
    "        result += 1\n",
    "print(result)"
   ],
   "metadata": {
    "collapsed": false,
    "pycharm": {
     "name": "#%%\n"
    }
   }
  },
  {
   "cell_type": "code",
   "execution_count": 10,
   "outputs": [
    {
     "name": "stdout",
     "output_type": "stream",
     "text": [
      "DDEEFFJJKRW12\n"
     ]
    }
   ],
   "source": [
    "s = input()\n",
    "alpha = []\n",
    "num = 0\n",
    "for i in s:\n",
    "    if ord('A') <= ord(i) <= ord('Z'):\n",
    "        alpha.append(i)\n",
    "    else:\n",
    "        num += int(i)\n",
    "alpha.sort()\n",
    "for i in alpha:\n",
    "    result += i\n",
    "if num != 0:\n",
    "    alpha.append(str(num))\n",
    "print(''.join(alpha))"
   ],
   "metadata": {
    "collapsed": false,
    "pycharm": {
     "name": "#%%\n"
    }
   }
  }
 ],
 "metadata": {
  "kernelspec": {
   "display_name": "Python 3",
   "language": "python",
   "name": "python3"
  },
  "language_info": {
   "codemirror_mode": {
    "name": "ipython",
    "version": 2
   },
   "file_extension": ".py",
   "mimetype": "text/x-python",
   "name": "python",
   "nbconvert_exporter": "python",
   "pygments_lexer": "ipython2",
   "version": "2.7.6"
  }
 },
 "nbformat": 4,
 "nbformat_minor": 0
}