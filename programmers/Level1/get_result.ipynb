{
 "cells": [
  {
   "cell_type": "code",
   "execution_count": 64,
   "metadata": {
    "collapsed": false,
    "pycharm": {
     "name": "#%%\n"
    }
   },
   "outputs": [
    {
     "name": "stdout",
     "output_type": "stream",
     "text": [
      "{'muzi': 0, 'frodo': 1, 'apeach': 2, 'neo': 3}\n"
     ]
    },
    {
     "data": {
      "text/plain": [
       "[2, 1, 1, 0]"
      ]
     },
     "execution_count": 64,
     "metadata": {},
     "output_type": "execute_result"
    }
   ],
   "source": [
    "def solution(id_list, report, k):\n",
    "    answer = []\n",
    "    split = []\n",
    "    cnt = []\n",
    "    index = {}\n",
    "    for ii in range(len(id_list)):\n",
    "        cnt.append(0)\n",
    "        answer.append(0)\n",
    "        index[id_list[ii]] = ii\n",
    "    print(index)\n",
    "    report = list(set(report))\n",
    "    for i in report:\n",
    "        i = i.split()\n",
    "        split.append(i)\n",
    "    for n in range(len(split)):\n",
    "        cnt[index[split[n][1]]] += 1\n",
    "    for num in range(len(cnt)):\n",
    "        if cnt[num] >= k:\n",
    "            name = id_list[num]\n",
    "            for n in split:\n",
    "                if n[1] == name:\n",
    "                    index = id_list.index(n[0])\n",
    "                    answer[index] += 1\n",
    "    return answer\n",
    "\n",
    "\n",
    "id_list = [\"muzi\", \"frodo\", \"apeach\", \"neo\"]\n",
    "report = [\"muzi frodo\",\"apeach frodo\",\"frodo neo\",\"muzi neo\",\"apeach muzi\"]\n",
    "k = 2\n",
    "# id_list = [\"con\", \"ryan\"]\n",
    "# report = [\"ryan con\", \"ryan con\", \"ryan con\", \"ryan con\"]\n",
    "# k = 3\n",
    "solution(id_list, report, k)"
   ]
  },
  {
   "cell_type": "code",
   "execution_count": 4,
   "metadata": {},
   "outputs": [
    {
     "data": {
      "text/plain": [
       "[0, 0, 1, 1]"
      ]
     },
     "execution_count": 4,
     "metadata": {},
     "output_type": "execute_result"
    }
   ],
   "source": [
    "def solution(id_list, report, k):\n",
    "    dic_id = {}\n",
    "    rereport = tuple(report)\n",
    "    result = [0] * len(id_list)\n",
    "    for i, v in enumerate(id_list):\n",
    "        dic_id[v] = i\n",
    "    for re in rereport:\n",
    "        a, b = re.split(' ')\n",
    "        result[dic_id[v]] += 1\n",
    "    final = [0] * len(id_list)\n",
    "    for idx in range(len(result)):\n",
    "        if idx >= k:\n",
    "            final[idx] += 1\n",
    "    return final\n",
    "\n",
    "id_list = ['muzi', 'frodo', 'apeach', 'neo']\n",
    "report = [\"muzi frodo\",\"apeach frodo\",\"frodo neo\",\"muzi neo\",\"apeach muzi\"]\n",
    "k = 2\n",
    "solution(id_list, report, k)"
   ]
  }
 ],
 "metadata": {
  "kernelspec": {
   "display_name": "Python 3.9.12 ('base')",
   "language": "python",
   "name": "python3"
  },
  "language_info": {
   "codemirror_mode": {
    "name": "ipython",
    "version": 3
   },
   "file_extension": ".py",
   "mimetype": "text/x-python",
   "name": "python",
   "nbconvert_exporter": "python",
   "pygments_lexer": "ipython3",
   "version": "3.9.12"
  },
  "vscode": {
   "interpreter": {
    "hash": "a077222d77dfe082b8f1dd562ad70e458ac2ab76993a0b248ab0476e32e9e8dd"
   }
  }
 },
 "nbformat": 4,
 "nbformat_minor": 0
}
