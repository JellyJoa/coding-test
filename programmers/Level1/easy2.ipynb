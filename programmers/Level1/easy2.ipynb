{
 "cells": [
  {
   "cell_type": "code",
   "execution_count": 3,
   "metadata": {
    "collapsed": true
   },
   "outputs": [
    {
     "data": {
      "text/plain": [
       "False"
      ]
     },
     "execution_count": 3,
     "metadata": {},
     "output_type": "execute_result"
    }
   ],
   "source": [
    "# 하샤드 수\n",
    "def solution(x):\n",
    "    sum = 0\n",
    "    for i in str(x):\n",
    "        sum += int(i)\n",
    "    if x % sum == 0:\n",
    "        answer = True\n",
    "    else:\n",
    "        answer = False\n",
    "    return answer\n",
    "\n",
    "x = 13\n",
    "solution(x)"
   ]
  },
  {
   "cell_type": "code",
   "execution_count": 5,
   "metadata": {},
   "outputs": [
    {
     "data": {
      "text/plain": [
       "True"
      ]
     },
     "execution_count": 5,
     "metadata": {},
     "output_type": "execute_result"
    }
   ],
   "source": [
    "def solution(arr):\n",
    "    n_sum = 0\n",
    "    for i in str(arr):\n",
    "        n_sum += int(i)\n",
    "    if arr % n_sum == 0:\n",
    "        return True\n",
    "    else:\n",
    "        return False\n",
    "\n",
    "x = int(input())\n",
    "solution(x)"
   ]
  },
  {
   "cell_type": "code",
   "execution_count": 12,
   "metadata": {
    "collapsed": false,
    "pycharm": {
     "name": "#%%\n"
    }
   },
   "outputs": [
    {
     "data": {
      "text/plain": [
       "-1"
      ]
     },
     "execution_count": 12,
     "metadata": {},
     "output_type": "execute_result"
    }
   ],
   "source": [
    "# 콜라츠 추측\n",
    "def solution(num):\n",
    "    answer = 0\n",
    "    while True:\n",
    "        if num == 1:\n",
    "            break\n",
    "        elif answer == 500:\n",
    "            answer = -1\n",
    "            break\n",
    "        elif num % 2 == 0:\n",
    "            num = num / 2\n",
    "            answer+=1\n",
    "        else:\n",
    "            num = num * 3 + 1\n",
    "            answer+=1\n",
    "    return answer\n",
    "num = 626331\n",
    "solution(num)"
   ]
  },
  {
   "cell_type": "code",
   "execution_count": 10,
   "metadata": {},
   "outputs": [
    {
     "data": {
      "text/plain": [
       "-1"
      ]
     },
     "execution_count": 10,
     "metadata": {},
     "output_type": "execute_result"
    }
   ],
   "source": [
    "# 콜라츠 추측 재귀로\n",
    "def solution(n, cnt):\n",
    "    if n == 1:\n",
    "        return cnt\n",
    "\n",
    "    if cnt >= 500:\n",
    "        return -1\n",
    "\n",
    "    cnt += 1\n",
    "\n",
    "    if n % 2 == 0:\n",
    "        if (n/2) == 1:\n",
    "            return cnt\n",
    "        else:\n",
    "            return solution(n/2, cnt)\n",
    "    else:\n",
    "        if (n*3+1) == 1:\n",
    "            return cnt\n",
    "        else:\n",
    "            return solution(n*3+1, cnt)\n",
    "\n",
    "n = 626331\n",
    "solution(n, 0)"
   ]
  },
  {
   "cell_type": "code",
   "execution_count": 16,
   "metadata": {
    "collapsed": false,
    "pycharm": {
     "name": "#%%\n"
    }
   },
   "outputs": [
    {
     "data": {
      "text/plain": [
       "[-1]"
      ]
     },
     "execution_count": 16,
     "metadata": {},
     "output_type": "execute_result"
    }
   ],
   "source": [
    "# 제일 작은 수 제거\n",
    "def solution(arr):\n",
    "    answer = []\n",
    "    if len(arr) == 1:\n",
    "        answer.append(-1)\n",
    "    else:\n",
    "        arr.remove(min(arr))\n",
    "        for i in arr:\n",
    "            answer.append(i)\n",
    "    return answer\n",
    "\n",
    "arr = [10]\n",
    "solution(arr)"
   ]
  },
  {
   "cell_type": "code",
   "execution_count": 17,
   "metadata": {},
   "outputs": [
    {
     "data": {
      "text/plain": [
       "[-1]"
      ]
     },
     "execution_count": 17,
     "metadata": {},
     "output_type": "execute_result"
    }
   ],
   "source": [
    "def solution(arr):\n",
    "    if len(arr) == 1:\n",
    "        return [-1]\n",
    "    else:\n",
    "        mini = min(arr)\n",
    "        idx = arr.index(mini)\n",
    "        arr.pop(idx)\n",
    "        return arr\n",
    "\n",
    "arr = [2]\n",
    "solution(arr)"
   ]
  },
  {
   "cell_type": "code",
   "execution_count": 19,
   "metadata": {
    "collapsed": false,
    "pycharm": {
     "name": "#%%\n"
    }
   },
   "outputs": [
    {
     "data": {
      "text/plain": [
       "[5, 4, 3, 2, 1]"
      ]
     },
     "execution_count": 19,
     "metadata": {},
     "output_type": "execute_result"
    }
   ],
   "source": [
    "# 자연수 뒤집어 배열로 만들기\n",
    "def solution(n):\n",
    "    answer = []\n",
    "    for i in str(n)[::-1]:\n",
    "        answer.append(int(i))\n",
    "    return answer\n",
    "\n",
    "n = 12345\n",
    "solution(n)"
   ]
  },
  {
   "cell_type": "code",
   "execution_count": 27,
   "metadata": {},
   "outputs": [
    {
     "data": {
      "text/plain": [
       "[5, 4, 3, 2, 1]"
      ]
     },
     "execution_count": 27,
     "metadata": {},
     "output_type": "execute_result"
    }
   ],
   "source": [
    "def solution(n):\n",
    "    result = []\n",
    "    for i in str(n)[::-1]:\n",
    "        result.append(int(i))\n",
    "    return result\n",
    "\n",
    "n = 12345\n",
    "solution(n)"
   ]
  }
 ],
 "metadata": {
  "kernelspec": {
   "display_name": "Python 3.9.12 ('base')",
   "language": "python",
   "name": "python3"
  },
  "language_info": {
   "codemirror_mode": {
    "name": "ipython",
    "version": 3
   },
   "file_extension": ".py",
   "mimetype": "text/x-python",
   "name": "python",
   "nbconvert_exporter": "python",
   "pygments_lexer": "ipython3",
   "version": "3.9.12"
  },
  "vscode": {
   "interpreter": {
    "hash": "a077222d77dfe082b8f1dd562ad70e458ac2ab76993a0b248ab0476e32e9e8dd"
   }
  }
 },
 "nbformat": 4,
 "nbformat_minor": 0
}
