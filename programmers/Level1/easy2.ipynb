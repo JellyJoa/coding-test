{
 "cells": [
  {
   "cell_type": "code",
   "execution_count": 3,
   "metadata": {
    "collapsed": true
   },
   "outputs": [
    {
     "data": {
      "text/plain": [
       "False"
      ]
     },
     "execution_count": 3,
     "metadata": {},
     "output_type": "execute_result"
    }
   ],
   "source": [
    "def solution(x):\n",
    "    sum = 0\n",
    "    for i in str(x):\n",
    "        sum += int(i)\n",
    "    if x % sum == 0:\n",
    "        answer = True\n",
    "    else:\n",
    "        answer = False\n",
    "    return answer\n",
    "\n",
    "x = 13\n",
    "solution(x)"
   ]
  },
  {
   "cell_type": "code",
   "execution_count": null,
   "metadata": {},
   "outputs": [
    {
     "data": {
      "text/plain": [
       "'false'"
      ]
     },
     "metadata": {},
     "output_type": "display_data"
    }
   ],
   "source": [
    "def solution(arr):\n",
    "    n_sum = 0\n",
    "    for i in arr:\n",
    "        n_sum += int(i)\n",
    "    if int(arr) % n_sum == 0:\n",
    "        return 'true'\n",
    "    else:\n",
    "        return 'false'\n",
    "\n",
    "x = input()\n",
    "solution(x)"
   ]
  },
  {
   "cell_type": "code",
   "execution_count": 12,
   "metadata": {
    "collapsed": false,
    "pycharm": {
     "name": "#%%\n"
    }
   },
   "outputs": [
    {
     "data": {
      "text/plain": [
       "-1"
      ]
     },
     "execution_count": 12,
     "metadata": {},
     "output_type": "execute_result"
    }
   ],
   "source": [
    "def solution(num):\n",
    "    answer = 0\n",
    "    while True:\n",
    "        if num == 1:\n",
    "            break\n",
    "        elif answer == 500:\n",
    "            answer = -1\n",
    "            break\n",
    "        elif num % 2 == 0:\n",
    "            num = num / 2\n",
    "            answer+=1\n",
    "        else:\n",
    "            num = num * 3 + 1\n",
    "            answer+=1\n",
    "    return answer\n",
    "num = 626331\n",
    "solution(num)"
   ]
  },
  {
   "cell_type": "code",
   "execution_count": 16,
   "metadata": {
    "collapsed": false,
    "pycharm": {
     "name": "#%%\n"
    }
   },
   "outputs": [
    {
     "data": {
      "text/plain": [
       "[-1]"
      ]
     },
     "execution_count": 16,
     "metadata": {},
     "output_type": "execute_result"
    }
   ],
   "source": [
    "def solution(arr):\n",
    "    answer = []\n",
    "    if len(arr) == 1:\n",
    "        answer.append(-1)\n",
    "    else:\n",
    "        arr.remove(min(arr))\n",
    "        for i in arr:\n",
    "            answer.append(i)\n",
    "    return answer\n",
    "\n",
    "arr = [10]\n",
    "solution(arr)"
   ]
  },
  {
   "cell_type": "code",
   "execution_count": 19,
   "metadata": {
    "collapsed": false,
    "pycharm": {
     "name": "#%%\n"
    }
   },
   "outputs": [
    {
     "data": {
      "text/plain": [
       "[5, 4, 3, 2, 1]"
      ]
     },
     "execution_count": 19,
     "metadata": {},
     "output_type": "execute_result"
    }
   ],
   "source": [
    "def solution(n):\n",
    "    answer = []\n",
    "    for i in str(n)[::-1]:\n",
    "        answer.append(int(i))\n",
    "    return answer\n",
    "\n",
    "n = 12345\n",
    "solution(n)"
   ]
  }
 ],
 "metadata": {
  "kernelspec": {
   "display_name": "Python 3",
   "language": "python",
   "name": "python3"
  },
  "language_info": {
   "codemirror_mode": {
    "name": "ipython",
    "version": 2
   },
   "file_extension": ".py",
   "mimetype": "text/x-python",
   "name": "python",
   "nbconvert_exporter": "python",
   "pygments_lexer": "ipython2",
   "version": "2.7.6"
  }
 },
 "nbformat": 4,
 "nbformat_minor": 0
}
