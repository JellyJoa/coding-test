{
 "cells": [
  {
   "cell_type": "code",
   "execution_count": null,
   "metadata": {
    "collapsed": true
   },
   "outputs": [],
   "source": [
    "def solution(numbers, hand):\n",
    "    answer = ''\n",
    "    l = [1, 4, 7]\n",
    "    m = [2, 5, 8, 0]\n",
    "    r = [3, 6, 9]\n",
    "\n",
    "    for i in range(len(numbers)):\n",
    "        if numbers[i] in l:\n",
    "            answer += 'L'\n",
    "        elif numbers[i] in r:\n",
    "            answer += 'R'\n",
    "        else:\n",
    "            for j in range(1, i):\n",
    "\n",
    "\n",
    "    return answer\n",
    "\n",
    "numbers = [1, 3, 4, 5, 8, 2, 1, 4, 5, 9, 5]\n",
    "hand = 'right'"
   ]
  }
 ],
 "metadata": {
  "kernelspec": {
   "display_name": "Python 3",
   "language": "python",
   "name": "python3"
  },
  "language_info": {
   "codemirror_mode": {
    "name": "ipython",
    "version": 2
   },
   "file_extension": ".py",
   "mimetype": "text/x-python",
   "name": "python",
   "nbconvert_exporter": "python",
   "pygments_lexer": "ipython2",
   "version": "2.7.6"
  }
 },
 "nbformat": 4,
 "nbformat_minor": 0
}