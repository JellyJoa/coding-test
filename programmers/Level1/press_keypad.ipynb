{
 "cells": [
  {
   "cell_type": "code",
   "execution_count": null,
   "metadata": {
    "collapsed": true
   },
   "outputs": [],
   "source": [
    "def solution(numbers, hand):\n",
    "    answer = ''\n",
    "    l = [1, 4, 7]\n",
    "    m = [2, 5, 8, 0]\n",
    "    r = [3, 6, 9]\n",
    "\n",
    "    for i in range(len(numbers)):\n",
    "        if numbers[i] in l:\n",
    "            answer += 'L'\n",
    "        elif numbers[i] in r:\n",
    "            answer += 'R'\n",
    "        else:\n",
    "            for j in range(1, i):\n",
    "\n",
    "\n",
    "    return answer\n",
    "\n",
    "numbers = [1, 3, 4, 5, 8, 2, 1, 4, 5, 9, 5]\n",
    "hand = 'right'"
   ]
  },
  {
   "cell_type": "code",
   "execution_count": 4,
   "metadata": {},
   "outputs": [
    {
     "data": {
      "text/plain": [
       "'LRLRRRLLRRR'"
      ]
     },
     "execution_count": 4,
     "metadata": {},
     "output_type": "execute_result"
    }
   ],
   "source": [
    "def solution(numbers, hand):\n",
    "    result = ''\n",
    "    L = [1, 4, 7]\n",
    "    R = [3, 6, 9]\n",
    "    M = [2, 5, 8, 0]\n",
    "    for number in numbers:\n",
    "        if number in L:\n",
    "            result += 'L'\n",
    "            LH = L.index(number)            \n",
    "        elif number in R:\n",
    "            result += 'R'\n",
    "            RH = R.index(number)\n",
    "        else:\n",
    "            index = M.index(number)\n",
    "            if number in M:\n",
    "                if L == R and number in M:\n",
    "                    if hand == 'right':\n",
    "                        RH = index\n",
    "                        result += 'R'\n",
    "                    else:\n",
    "                        LH = index\n",
    "                        result += 'L'\n",
    "                elif abs(LH-index) > abs(RH-index):\n",
    "                    LH = index\n",
    "                    result += 'L'\n",
    "                else:\n",
    "                    RH = index\n",
    "                    result += 'R'\n",
    "    return result\n",
    "\n",
    "numbers = [1, 3, 4, 5, 8, 2, 1, 4, 5, 9, 5]\n",
    "hand = 'right'\n",
    "solution(numbers, hand)"
   ]
  },
  {
   "cell_type": "code",
   "execution_count": null,
   "metadata": {},
   "outputs": [],
   "source": [
    "# other solution\n",
    "\n",
    "def solution(numbers, hand):\n",
    "    answer = ''\n",
    "    \n",
    "    # 키패드 좌표료 변경\n",
    "    dic = {1: [0, 0], 2: [0, 1], 3: [0, 2],\n",
    "           4: [1, 0], 5: [1, 1], 6: [1, 2],\n",
    "           7: [2, 0], 8: [2, 1], 9: [2, 2],\n",
    "           '*':[3, 0], 0: [3, 1], '#': [3, 2]}\n",
    "    \n",
    "    # 시작 위치\n",
    "    left_s = dic['*']\n",
    "    right_s = dic['#']\n",
    "    \n",
    "    for i in numbers:\n",
    "        now = dic[i]\n",
    "        # 1, 4, 7을 누르는 경우 무조건 왼손\n",
    "        if i in [1, 4, 7]:\n",
    "            answer += 'L'\n",
    "            left_s = now\n",
    "            \n",
    "        # 3, 6, 9를 누르는 경우 무조건 오른손\n",
    "        elif i in [3, 6, 9]:\n",
    "            answer += 'R'\n",
    "            right_s = now\n",
    "            \n",
    "        # 2, 5, 8, 0을 누르는 경우\n",
    "        else:\n",
    "            left_d = 0\n",
    "            right_d = 0\n",
    "            \n",
    "            # 좌표 거리 계산해주기\n",
    "            for a, b, c in zip(left_s, right_s, now):\n",
    "                left_d += abs(a-c)\n",
    "                right_d += abs(b-c)\n",
    "            \n",
    "            # 왼손이 더 가까운 경우\n",
    "            if left_d < right_d:\n",
    "                answer += 'L'\n",
    "                left_s = now\n",
    "                \n",
    "            # 오른손이 더 가까운 경우\n",
    "            elif left_d > right_d:\n",
    "                answer += 'R'\n",
    "                right_s = now\n",
    "            \n",
    "            # 두 거리가 같은 경우\n",
    "            else:\n",
    "                # 왼손잡이 경우\n",
    "                if hand == 'left':\n",
    "                    answer += 'L'\n",
    "                    left_s = now\n",
    "                    \n",
    "                # 오른손잡이 경우\n",
    "                else:\n",
    "                    answer += 'R'\n",
    "                    right_s = now\n",
    "            \n",
    "    return answer"
   ]
  }
 ],
 "metadata": {
  "kernelspec": {
   "display_name": "Python 3.9.12 ('base')",
   "language": "python",
   "name": "python3"
  },
  "language_info": {
   "codemirror_mode": {
    "name": "ipython",
    "version": 3
   },
   "file_extension": ".py",
   "mimetype": "text/x-python",
   "name": "python",
   "nbconvert_exporter": "python",
   "pygments_lexer": "ipython3",
   "version": "3.9.12"
  },
  "vscode": {
   "interpreter": {
    "hash": "a077222d77dfe082b8f1dd562ad70e458ac2ab76993a0b248ab0476e32e9e8dd"
   }
  }
 },
 "nbformat": 4,
 "nbformat_minor": 0
}
