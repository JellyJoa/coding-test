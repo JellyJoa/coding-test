{
 "cells": [
  {
   "cell_type": "code",
   "execution_count": null,
   "metadata": {
    "collapsed": true
   },
   "outputs": [],
   "source": [
    "def solution(numbers, hand):\n",
    "    answer = ''\n",
    "    l = [1, 4, 7]\n",
    "    m = [2, 5, 8, 0]\n",
    "    r = [3, 6, 9]\n",
    "\n",
    "    for i in range(len(numbers)):\n",
    "        if numbers[i] in l:\n",
    "            answer += 'L'\n",
    "        elif numbers[i] in r:\n",
    "            answer += 'R'\n",
    "        else:\n",
    "            for j in range(1, i):\n",
    "\n",
    "\n",
    "    return answer\n",
    "\n",
    "numbers = [1, 3, 4, 5, 8, 2, 1, 4, 5, 9, 5]\n",
    "hand = 'right'"
   ]
  },
  {
   "cell_type": "code",
   "execution_count": 1,
   "metadata": {},
   "outputs": [
    {
     "data": {
      "text/plain": [
       "'LRLLLR'"
      ]
     },
     "execution_count": 1,
     "metadata": {},
     "output_type": "execute_result"
    }
   ],
   "source": [
    "def solution(numbers, hand):\n",
    "    result = ''\n",
    "    L = [1, 4, 7]\n",
    "    R = [3, 6, 9]\n",
    "    M = [2, 5, 8, 0]\n",
    "    for number in numbers:\n",
    "        if number in L:\n",
    "            result += 'L'\n",
    "            LH = L.index(number)\n",
    "            \n",
    "        elif number in R:\n",
    "            result += 'R'\n",
    "            RH = R.index(number)\n",
    "        else:\n",
    "            if L == R and number in M:\n",
    "                if hand == 'right':\n",
    "                    RH = M.index(number)\n",
    "                    result += 'R'\n",
    "                else:\n",
    "                    LH = M.index(number)\n",
    "                    result += 'L'\n",
    "    return result\n",
    "\n",
    "numbers = [1, 3, 4, 5, 8, 2, 1, 4, 5, 9, 5]\n",
    "hand = 'right'\n",
    "solution(numbers, hand)"
   ]
  }
 ],
 "metadata": {
  "kernelspec": {
   "display_name": "Python 3.9.12 ('base')",
   "language": "python",
   "name": "python3"
  },
  "language_info": {
   "codemirror_mode": {
    "name": "ipython",
    "version": 3
   },
   "file_extension": ".py",
   "mimetype": "text/x-python",
   "name": "python",
   "nbconvert_exporter": "python",
   "pygments_lexer": "ipython3",
   "version": "3.9.12"
  },
  "vscode": {
   "interpreter": {
    "hash": "a077222d77dfe082b8f1dd562ad70e458ac2ab76993a0b248ab0476e32e9e8dd"
   }
  }
 },
 "nbformat": 4,
 "nbformat_minor": 0
}
