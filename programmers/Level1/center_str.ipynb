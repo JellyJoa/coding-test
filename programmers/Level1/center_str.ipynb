{
 "cells": [
  {
   "cell_type": "code",
   "execution_count": 13,
   "metadata": {
    "collapsed": true,
    "pycharm": {
     "name": "#%%\n"
    }
   },
   "outputs": [
    {
     "data": {
      "text/plain": "'c'"
     },
     "execution_count": 13,
     "metadata": {},
     "output_type": "execute_result"
    }
   ],
   "source": [
    "def solution(s):\n",
    "    if len(s) % 2 == 0:\n",
    "        index = int(len(s) / 2)\n",
    "        answer = s[index-1]\n",
    "        answer += s[index]\n",
    "    else:\n",
    "        index = int(len(s)/2)\n",
    "        answer = s[index]\n",
    "    return answer\n",
    "\n",
    "s = 'abcde'\n",
    "solution(s)\n",
    "\n",
    "# a = 'qwer'\n",
    "# solution(a)"
   ]
  }
 ],
 "metadata": {
  "kernelspec": {
   "display_name": "Python 3",
   "language": "python",
   "name": "python3"
  },
  "language_info": {
   "codemirror_mode": {
    "name": "ipython",
    "version": 2
   },
   "file_extension": ".py",
   "mimetype": "text/x-python",
   "name": "python",
   "nbconvert_exporter": "python",
   "pygments_lexer": "ipython2",
   "version": "2.7.6"
  }
 },
 "nbformat": 4,
 "nbformat_minor": 0
}