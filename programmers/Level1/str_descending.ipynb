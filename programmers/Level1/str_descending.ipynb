{
 "cells": [
  {
   "cell_type": "code",
   "execution_count": 6,
   "metadata": {
    "collapsed": true
   },
   "outputs": [
    {
     "data": {
      "text/plain": "([103, 102, 101, 100, 99, 98, 90], 'gfedcbZ')"
     },
     "execution_count": 6,
     "metadata": {},
     "output_type": "execute_result"
    }
   ],
   "source": [
    "def solution(s):\n",
    "    lst = []\n",
    "    answer = ''\n",
    "    for i in s:\n",
    "        i = ord(i)\n",
    "        lst.append(i)\n",
    "    lst.sort(reverse=True)\n",
    "    for j in lst:\n",
    "        answer += chr(j)\n",
    "    return answer\n",
    "\n",
    "s = 'Zbcdefg'\n",
    "solution(s)"
   ]
  }
 ],
 "metadata": {
  "kernelspec": {
   "display_name": "Python 3",
   "language": "python",
   "name": "python3"
  },
  "language_info": {
   "codemirror_mode": {
    "name": "ipython",
    "version": 2
   },
   "file_extension": ".py",
   "mimetype": "text/x-python",
   "name": "python",
   "nbconvert_exporter": "python",
   "pygments_lexer": "ipython2",
   "version": "2.7.6"
  }
 },
 "nbformat": 4,
 "nbformat_minor": 0
}