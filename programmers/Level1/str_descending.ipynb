{
 "cells": [
  {
   "cell_type": "code",
   "execution_count": 6,
   "metadata": {
    "collapsed": true
   },
   "outputs": [
    {
     "data": {
      "text/plain": [
       "([103, 102, 101, 100, 99, 98, 90], 'gfedcbZ')"
      ]
     },
     "execution_count": 6,
     "metadata": {},
     "output_type": "execute_result"
    }
   ],
   "source": [
    "def solution(s):\n",
    "    lst = []\n",
    "    answer = ''\n",
    "    for i in s:\n",
    "        i = ord(i)\n",
    "        lst.append(i)\n",
    "    lst.sort(reverse=True)\n",
    "    for j in lst:\n",
    "        answer += chr(j)\n",
    "    return answer\n",
    "\n",
    "s = 'Zbcdefg'\n",
    "solution(s)"
   ]
  },
  {
   "cell_type": "code",
   "execution_count": 13,
   "metadata": {},
   "outputs": [
    {
     "data": {
      "text/plain": [
       "'sskkgfdddRRQOKFFEEDD'"
      ]
     },
     "execution_count": 13,
     "metadata": {},
     "output_type": "execute_result"
    }
   ],
   "source": [
    "def solution(s):\n",
    "    string = []\n",
    "    result = ''\n",
    "    for i in s:\n",
    "        string.append(ord(i))\n",
    "    string.sort(reverse=True)\n",
    "\n",
    "    for j in string:\n",
    "        result += chr(j)\n",
    "    return result\n",
    "\n",
    "s = 'DFEFKdfsgsdkERQRODkd'\n",
    "solution(s)"
   ]
  },
  {
   "cell_type": "code",
   "execution_count": 14,
   "metadata": {},
   "outputs": [
    {
     "data": {
      "text/plain": [
       "'ssrrqqqollllkkkjjjfdWTRQOOIIFEDDA'"
      ]
     },
     "execution_count": 14,
     "metadata": {},
     "output_type": "execute_result"
    }
   ],
   "source": [
    "# short solution\n",
    "\n",
    "def solution(s):\n",
    "    return ''.join(sorted(s, reverse=True))\n",
    "\n",
    "s = 'qjrolqjrlkDFAOEIRQdkjfslqTOWIDlks'\n",
    "solution(s)"
   ]
  }
 ],
 "metadata": {
  "kernelspec": {
   "display_name": "Python 3.9.12 ('base')",
   "language": "python",
   "name": "python3"
  },
  "language_info": {
   "codemirror_mode": {
    "name": "ipython",
    "version": 3
   },
   "file_extension": ".py",
   "mimetype": "text/x-python",
   "name": "python",
   "nbconvert_exporter": "python",
   "pygments_lexer": "ipython3",
   "version": "3.9.12"
  },
  "vscode": {
   "interpreter": {
    "hash": "a077222d77dfe082b8f1dd562ad70e458ac2ab76993a0b248ab0476e32e9e8dd"
   }
  }
 },
 "nbformat": 4,
 "nbformat_minor": 0
}
