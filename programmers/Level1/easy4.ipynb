{
 "cells": [
  {
   "cell_type": "code",
   "execution_count": 52,
   "metadata": {
    "collapsed": false,
    "pycharm": {
     "name": "#%%\n"
    }
   },
   "outputs": [
    {
     "data": {
      "text/plain": [
       "['abce', 'abcd', 'cdx']"
      ]
     },
     "execution_count": 52,
     "metadata": {},
     "output_type": "execute_result"
    }
   ],
   "source": [
    "# 문자열 내 마음대로 정렬하기\n",
    "\n",
    "def solution(strings, n):\n",
    "    strings.sort()\n",
    "    answer = []\n",
    "    for i in range(ord('a'), ord('z')+1):\n",
    "        for j in strings:\n",
    "            if i == ord(j[n]):\n",
    "                answer.append(j)\n",
    "    return answer\n",
    "\n",
    "strings = ['abce', 'abcd', 'cdx']\n",
    "n = 2\n",
    "solution(strings, n)"
   ]
  },
  {
   "cell_type": "code",
   "execution_count": 23,
   "metadata": {},
   "outputs": [
    {
     "data": {
      "text/plain": [
       "['bed', 'car', 'sun']"
      ]
     },
     "execution_count": 23,
     "metadata": {},
     "output_type": "execute_result"
    }
   ],
   "source": [
    "#fail\n",
    "\n",
    "def solution(strings, n):\n",
    "    result = []\n",
    "    for i in range(len(strings)):\n",
    "        result.append(strings[i])\n",
    "        if i > 0:\n",
    "            if ord(result[i][n]) < ord(result[i-1][n]):\n",
    "                result[i-1], result[i] = result[i], result[i-1]\n",
    "            elif ord(result[i][n]) == ord(result[i-1][n]):\n",
    "                for j in range(min(len(str(i-1)), len(str(i)))):\n",
    "                    if ord(result[i][j]) < ord(result[i-1][j]):\n",
    "                        result[i-1], result[i] = result[i], result[i-1]\n",
    "    return result\n",
    "\n",
    "strings = [\"sun\", \"bed\", 'car']\n",
    "n = 1\n",
    "\n",
    "solution(strings, n)"
   ]
  },
  {
   "cell_type": "code",
   "execution_count": 24,
   "metadata": {},
   "outputs": [
    {
     "data": {
      "text/plain": [
       "['car', 'bed', 'sun']"
      ]
     },
     "execution_count": 24,
     "metadata": {},
     "output_type": "execute_result"
    }
   ],
   "source": [
    "# other solution\n",
    "\n",
    "def solution(strings, n):\n",
    "    strings.sort() \n",
    "    return sorted(strings, key=lambda x:x[n])\n",
    "\n",
    "strings = [\"sun\", \"bed\", 'car']\n",
    "n = 1\n",
    "\n",
    "solution(strings, n)"
   ]
  },
  {
   "cell_type": "code",
   "execution_count": 25,
   "metadata": {},
   "outputs": [
    {
     "data": {
      "text/plain": [
       "['car', 'bed', 'sun']"
      ]
     },
     "execution_count": 25,
     "metadata": {},
     "output_type": "execute_result"
    }
   ],
   "source": [
    "# short solution\n",
    "\n",
    "def solution(strings, n):\n",
    "    return sorted(strings, key=lambda x:(x[n],x))\n",
    "    # tuple에 넣어줌으로써 sort 효과\n",
    "\n",
    "strings = [\"sun\", \"bed\", 'car']\n",
    "n = 1\n",
    "\n",
    "solution(strings, n)"
   ]
  },
  {
   "cell_type": "code",
   "execution_count": 7,
   "metadata": {},
   "outputs": [
    {
     "name": "stdout",
     "output_type": "stream",
     "text": [
      "['u', 'e', 'a']\n"
     ]
    }
   ],
   "source": [
    "\n",
    "\n",
    "\n",
    "print(num)"
   ]
  },
  {
   "cell_type": "code",
   "execution_count": 19,
   "metadata": {
    "collapsed": false,
    "pycharm": {
     "name": "#%%\n"
    }
   },
   "outputs": [
    {
     "data": {
      "text/plain": [
       "'TUE'"
      ]
     },
     "execution_count": 19,
     "metadata": {},
     "output_type": "execute_result"
    }
   ],
   "source": [
    "# 2016\n",
    "def solution(a, b):\n",
    "    month = [31, 29, 31, 30, 31, 30, 31, 31, 30, 31, 30, 31]\n",
    "    date = ['FRI', 'SAT', 'SUN', 'MON', 'TUE', 'WED', 'THU']\n",
    "    day = b\n",
    "    for i in range(a-1):\n",
    "        if a == 1:\n",
    "            break\n",
    "        day += month[i]\n",
    "\n",
    "    result = date[day % 7 - 1]\n",
    "\n",
    "    return result\n",
    "\n",
    "a = 5\n",
    "b = 24\n",
    "solution(a, b)"
   ]
  }
 ],
 "metadata": {
  "kernelspec": {
   "display_name": "Python 3.9.12 ('base')",
   "language": "python",
   "name": "python3"
  },
  "language_info": {
   "codemirror_mode": {
    "name": "ipython",
    "version": 3
   },
   "file_extension": ".py",
   "mimetype": "text/x-python",
   "name": "python",
   "nbconvert_exporter": "python",
   "pygments_lexer": "ipython3",
   "version": "3.9.12"
  },
  "vscode": {
   "interpreter": {
    "hash": "a077222d77dfe082b8f1dd562ad70e458ac2ab76993a0b248ab0476e32e9e8dd"
   }
  }
 },
 "nbformat": 4,
 "nbformat_minor": 0
}
