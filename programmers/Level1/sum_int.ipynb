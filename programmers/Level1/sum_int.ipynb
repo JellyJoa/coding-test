{
 "cells": [
  {
   "cell_type": "code",
   "execution_count": 1,
   "metadata": {
    "collapsed": true
   },
   "outputs": [
    {
     "data": {
      "text/plain": "12"
     },
     "execution_count": 1,
     "metadata": {},
     "output_type": "execute_result"
    }
   ],
   "source": [
    "def solution(a, b):\n",
    "    answer = 0\n",
    "    if a < b:\n",
    "        for i in range(a, b+1):\n",
    "            answer += i\n",
    "    else:\n",
    "        for i in range(b, a+1):\n",
    "            answer += i\n",
    "    return answer\n",
    "\n",
    "a = 3\n",
    "b = 5\n",
    "solution(a, b)"
   ]
  }
 ],
 "metadata": {
  "kernelspec": {
   "display_name": "Python 3",
   "language": "python",
   "name": "python3"
  },
  "language_info": {
   "codemirror_mode": {
    "name": "ipython",
    "version": 2
   },
   "file_extension": ".py",
   "mimetype": "text/x-python",
   "name": "python",
   "nbconvert_exporter": "python",
   "pygments_lexer": "ipython2",
   "version": "2.7.6"
  }
 },
 "nbformat": 4,
 "nbformat_minor": 0
}