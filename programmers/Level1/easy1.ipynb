{
 "cells": [
  {
   "cell_type": "code",
   "execution_count": 23,
   "metadata": {
    "collapsed": true
   },
   "outputs": [
    {
     "name": "stdout",
     "output_type": "stream",
     "text": [
      "*****\n",
      "*****\n",
      "*****\n"
     ]
    }
   ],
   "source": [
    "# 직사각형 별찍기\n",
    "a, b = map(int, input().strip().split(' '))\n",
    "for _ in range(b):\n",
    "    print('*'*a)"
   ]
  },
  {
   "cell_type": "code",
   "execution_count": 2,
   "metadata": {},
   "outputs": [
    {
     "name": "stdout",
     "output_type": "stream",
     "text": [
      "*****\n",
      "*****\n",
      "*****\n"
     ]
    }
   ],
   "source": [
    "def solution(n, m):\n",
    "    for i in range(m):\n",
    "        print('*'*n)\n",
    "\n",
    "n, m = map(int, input().split())\n",
    "solution(n, m)"
   ]
  },
  {
   "cell_type": "code",
   "execution_count": 3,
   "metadata": {
    "collapsed": false,
    "pycharm": {
     "name": "#%%\n"
    }
   },
   "outputs": [
    {
     "data": {
      "text/plain": [
       "[-4, -8]"
      ]
     },
     "execution_count": 3,
     "metadata": {},
     "output_type": "execute_result"
    }
   ],
   "source": [
    "# x만큼 간격이 있는 n개의 숫자\n",
    "def solution(x, n):\n",
    "    answer = []\n",
    "    xx = x\n",
    "    for _ in range(n):\n",
    "        answer.append(xx)\n",
    "        xx += x\n",
    "    return answer\n",
    "\n",
    "x = -4\n",
    "n = 2\n",
    "solution(x, n)"
   ]
  },
  {
   "cell_type": "code",
   "execution_count": 11,
   "metadata": {},
   "outputs": [
    {
     "name": "stdout",
     "output_type": "stream",
     "text": [
      "[-4, -8]\n"
     ]
    }
   ],
   "source": [
    "def solution(x, n):\n",
    "    result = []\n",
    "    for i in range(n):\n",
    "        result.append(x+(x*i))\n",
    "    return result\n",
    "\n",
    "x = -4\n",
    "n = 2\n",
    "solution(x, n)"
   ]
  },
  {
   "cell_type": "code",
   "execution_count": 18,
   "metadata": {
    "collapsed": false,
    "pycharm": {
     "name": "#%%\n"
    }
   },
   "outputs": [
    {
     "data": {
      "text/plain": [
       "[[4], [6]]"
      ]
     },
     "execution_count": 18,
     "metadata": {},
     "output_type": "execute_result"
    }
   ],
   "source": [
    "# 행렬의 덧셈\n",
    "def solution(arr1, arr2):\n",
    "    answer = []\n",
    "    for i in range(len(arr1)):\n",
    "        answer_i = []\n",
    "        for j in range(len(arr1[i])):\n",
    "            result = arr1[i][j] + arr2[i][j]\n",
    "            answer_i.append(result)\n",
    "        answer.append(answer_i)\n",
    "    return answer\n",
    "arr1 = [[1], [2]]\n",
    "arr2 = [[3], [4]]\n",
    "solution(arr1, arr2)"
   ]
  },
  {
   "cell_type": "code",
   "execution_count": 15,
   "metadata": {},
   "outputs": [
    {
     "data": {
      "text/plain": [
       "[[4], [6]]"
      ]
     },
     "execution_count": 15,
     "metadata": {},
     "output_type": "execute_result"
    }
   ],
   "source": [
    "def solution(arr1, arr2):\n",
    "    result = []\n",
    "    for i in range(len(arr1)):\n",
    "        result.append([])\n",
    "        for j in range(len(arr1[0])):\n",
    "            result[i].append(arr1[i][j] + arr2[i][j])\n",
    "    return result\n",
    "\n",
    "# arr1 = [[1,2],[2,3]]\n",
    "# arr2 = [[3,4],[5,6]]\n",
    "arr1 = [[1],[2]]\n",
    "arr2 = [[3],[4]]\n",
    "solution(arr1, arr2)"
   ]
  },
  {
   "cell_type": "code",
   "execution_count": 21,
   "metadata": {
    "collapsed": false,
    "pycharm": {
     "name": "#%%\n"
    }
   },
   "outputs": [
    {
     "data": {
      "text/plain": [
       "'*****8888'"
      ]
     },
     "execution_count": 21,
     "metadata": {},
     "output_type": "execute_result"
    }
   ],
   "source": [
    "# 핸드폰 번호 가리기\n",
    "def solution(phone_number):\n",
    "    answer = '*' * len(phone_number[:-4]) + phone_number[-4:]\n",
    "    return answer\n",
    "\n",
    "phone_number = '027778888'\n",
    "solution(phone_number)"
   ]
  },
  {
   "cell_type": "code",
   "execution_count": 23,
   "metadata": {},
   "outputs": [
    {
     "data": {
      "text/plain": [
       "'*****8888'"
      ]
     },
     "execution_count": 23,
     "metadata": {},
     "output_type": "execute_result"
    }
   ],
   "source": [
    "def solution(num):\n",
    "    left_num = num[-4:]\n",
    "    number = ('*' * len(num[:-4]))\n",
    "    return number+left_num\n",
    "\n",
    "num = input()\n",
    "solution(num)"
   ]
  },
  {
   "cell_type": "code",
   "execution_count": 24,
   "metadata": {
    "collapsed": false,
    "pycharm": {
     "name": "#%%\n"
    }
   },
   "outputs": [
    {
     "data": {
      "text/plain": [
       "2.5"
      ]
     },
     "execution_count": 24,
     "metadata": {},
     "output_type": "execute_result"
    }
   ],
   "source": [
    "# 평균 구하기\n",
    "def solution(arr):\n",
    "    answer = 0\n",
    "    for i in arr:\n",
    "        answer += i\n",
    "    answer = answer / len(arr)\n",
    "    return answer\n",
    "\n",
    "arr = [1,2,3,4]\n",
    "solution(arr)"
   ]
  },
  {
   "cell_type": "code",
   "execution_count": 29,
   "metadata": {},
   "outputs": [
    {
     "data": {
      "text/plain": [
       "5.0"
      ]
     },
     "execution_count": 29,
     "metadata": {},
     "output_type": "execute_result"
    }
   ],
   "source": [
    "def solution(arr):\n",
    "    total = 0\n",
    "    for i in arr:\n",
    "        total += i\n",
    "    return total / len(arr)\n",
    "\n",
    "arr = [5, 5]\n",
    "solution(arr)"
   ]
  },
  {
   "cell_type": "code",
   "execution_count": 28,
   "metadata": {
    "collapsed": false,
    "pycharm": {
     "name": "#%%\n"
    }
   },
   "outputs": [
    {
     "data": {
      "text/plain": [
       "'Even'"
      ]
     },
     "execution_count": 28,
     "metadata": {},
     "output_type": "execute_result"
    }
   ],
   "source": [
    "# 짝수와 홀수\n",
    "def solution(num):\n",
    "    if num % 2 == 0:\n",
    "        answer = 'Even'\n",
    "    else:\n",
    "        answer = 'Odd'\n",
    "    return answer\n",
    "\n",
    "num = 4\n",
    "solution(num)"
   ]
  },
  {
   "cell_type": "code",
   "execution_count": 31,
   "metadata": {},
   "outputs": [
    {
     "data": {
      "text/plain": [
       "'Even'"
      ]
     },
     "execution_count": 31,
     "metadata": {},
     "output_type": "execute_result"
    }
   ],
   "source": [
    "def solution(num):\n",
    "    if num % 2 == 0:\n",
    "        return 'Even'\n",
    "    else:\n",
    "        return 'Odd'\n",
    "\n",
    "num = 4\n",
    "solution(num)"
   ]
  }
 ],
 "metadata": {
  "kernelspec": {
   "display_name": "Python 3.9.12 ('base')",
   "language": "python",
   "name": "python3"
  },
  "language_info": {
   "codemirror_mode": {
    "name": "ipython",
    "version": 3
   },
   "file_extension": ".py",
   "mimetype": "text/x-python",
   "name": "python",
   "nbconvert_exporter": "python",
   "pygments_lexer": "ipython3",
   "version": "3.9.12"
  },
  "vscode": {
   "interpreter": {
    "hash": "a077222d77dfe082b8f1dd562ad70e458ac2ab76993a0b248ab0476e32e9e8dd"
   }
  }
 },
 "nbformat": 4,
 "nbformat_minor": 0
}
