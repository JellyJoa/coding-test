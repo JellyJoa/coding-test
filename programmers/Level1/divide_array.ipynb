{
 "cells": [
  {
   "cell_type": "code",
   "execution_count": 3,
   "metadata": {
    "collapsed": true,
    "pycharm": {
     "name": "#%%\n"
    }
   },
   "outputs": [
    {
     "data": {
      "text/plain": "[-1]"
     },
     "execution_count": 3,
     "metadata": {},
     "output_type": "execute_result"
    }
   ],
   "source": [
    "def solution(arr, divisor):\n",
    "    answer = []\n",
    "    for i in arr:\n",
    "        if i % divisor == 0:\n",
    "            answer.append(i)\n",
    "    if len(answer) == 0:\n",
    "        answer.append(-1)\n",
    "    answer.sort()\n",
    "    return answer\n",
    "\n",
    "arr1 = [5, 9, 7, 10]\n",
    "divisor1 = 5\n",
    "arr2 = [2, 36, 1, 3]\n",
    "divisor2 = 1\n",
    "arr3 = [3, 2, 6]\n",
    "divisor3 = 10\n",
    "solution(arr1, divisor1)\n",
    "solution(arr2, divisor2)\n",
    "solution(arr3, divisor3)"
   ]
  }
 ],
 "metadata": {
  "kernelspec": {
   "display_name": "Python 3",
   "language": "python",
   "name": "python3"
  },
  "language_info": {
   "codemirror_mode": {
    "name": "ipython",
    "version": 2
   },
   "file_extension": ".py",
   "mimetype": "text/x-python",
   "name": "python",
   "nbconvert_exporter": "python",
   "pygments_lexer": "ipython2",
   "version": "2.7.6"
  }
 },
 "nbformat": 4,
 "nbformat_minor": 0
}