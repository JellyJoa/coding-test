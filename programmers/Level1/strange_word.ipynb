{
 "cells": [
  {
   "cell_type": "code",
   "execution_count": 21,
   "outputs": [
    {
     "data": {
      "text/plain": "'TrY HeLlO WoRlD'"
     },
     "execution_count": 21,
     "metadata": {},
     "output_type": "execute_result"
    }
   ],
   "source": [
    "# 홀수에 소문자가 아닐 수 있음\n",
    "\n",
    "def solution(s):\n",
    "    answer = ''\n",
    "    ans = list(s.split())\n",
    "    for i in ans:\n",
    "        i = list(i)\n",
    "        for j in range(len(i)):\n",
    "            if j % 2 == 0:\n",
    "                i[j] = chr(ord(i[j])-32)\n",
    "            answer += i[j]\n",
    "        answer += ' '\n",
    "    answer = answer[:-1]\n",
    "    return answer\n",
    "\n",
    "s = 'try hello world'\n",
    "solution(s)"
   ],
   "metadata": {
    "collapsed": false,
    "pycharm": {
     "name": "#%%\n"
    }
   }
  },
  {
   "cell_type": "code",
   "execution_count": 22,
   "outputs": [
    {
     "data": {
      "text/plain": "'TrY HeLlO WoRlD'"
     },
     "execution_count": 22,
     "metadata": {},
     "output_type": "execute_result"
    }
   ],
   "source": [
    "def solution(s):\n",
    "    answer = ''\n",
    "    cnt = 0\n",
    "    for i in s:\n",
    "        if i == ' ':\n",
    "            answer += i\n",
    "            cnt = 0\n",
    "        elif cnt % 2 == 0:\n",
    "            answer += i.upper()\n",
    "            cnt += 1\n",
    "        else:\n",
    "            answer += i.lower()\n",
    "            cnt += 1\n",
    "    return answer\n",
    "\n",
    "s = 'try hello world'\n",
    "solution(s)"
   ],
   "metadata": {
    "collapsed": false,
    "pycharm": {
     "name": "#%%\n"
    }
   }
  }
 ],
 "metadata": {
  "kernelspec": {
   "display_name": "Python 3",
   "language": "python",
   "name": "python3"
  },
  "language_info": {
   "codemirror_mode": {
    "name": "ipython",
    "version": 2
   },
   "file_extension": ".py",
   "mimetype": "text/x-python",
   "name": "python",
   "nbconvert_exporter": "python",
   "pygments_lexer": "ipython2",
   "version": "2.7.6"
  }
 },
 "nbformat": 4,
 "nbformat_minor": 0
}