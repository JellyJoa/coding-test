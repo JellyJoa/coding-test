{
 "cells": [
  {
   "cell_type": "code",
   "execution_count": 21,
   "metadata": {
    "collapsed": false,
    "pycharm": {
     "name": "#%%\n"
    }
   },
   "outputs": [
    {
     "data": {
      "text/plain": [
       "'TrY HeLlO WoRlD'"
      ]
     },
     "execution_count": 21,
     "metadata": {},
     "output_type": "execute_result"
    }
   ],
   "source": [
    "# 홀수에 소문자가 아닐 수 있음\n",
    "\n",
    "def solution(s):\n",
    "    answer = ''\n",
    "    ans = list(s.split())\n",
    "    for i in ans:\n",
    "        i = list(i)\n",
    "        for j in range(len(i)):\n",
    "            if j % 2 == 0:\n",
    "                i[j] = chr(ord(i[j])-32)\n",
    "            answer += i[j]\n",
    "        answer += ' '\n",
    "    answer = answer[:-1]\n",
    "    return answer\n",
    "\n",
    "s = 'try hello world'\n",
    "solution(s)"
   ]
  },
  {
   "cell_type": "code",
   "execution_count": 22,
   "metadata": {
    "collapsed": false,
    "pycharm": {
     "name": "#%%\n"
    }
   },
   "outputs": [
    {
     "data": {
      "text/plain": [
       "'TrY HeLlO WoRlD'"
      ]
     },
     "execution_count": 22,
     "metadata": {},
     "output_type": "execute_result"
    }
   ],
   "source": [
    "def solution(s):\n",
    "    answer = ''\n",
    "    cnt = 0\n",
    "    for i in s:\n",
    "        if i == ' ':\n",
    "            answer += i\n",
    "            cnt = 0\n",
    "        elif cnt % 2 == 0:\n",
    "            answer += i.upper()\n",
    "            cnt += 1\n",
    "        else:\n",
    "            answer += i.lower()\n",
    "            cnt += 1\n",
    "    return answer\n",
    "\n",
    "s = 'try hello world'\n",
    "solution(s)"
   ]
  },
  {
   "cell_type": "code",
   "execution_count": 6,
   "metadata": {},
   "outputs": [
    {
     "name": "stdout",
     "output_type": "stream",
     "text": [
      "try hello world "
     ]
    }
   ],
   "source": [
    "# wrong\n",
    "def solution(s):\n",
    "    words = s.split(' ')\n",
    "    for i in words:\n",
    "        for j in i:\n",
    "            idx = i.index(j)\n",
    "            if idx % 2 == 1:\n",
    "                j = j.upper()\n",
    "    for word in words:\n",
    "        print(word, end=' ')\n",
    "\n",
    "\n",
    "s = 'try hello world'\n",
    "solution(s)"
   ]
  },
  {
   "cell_type": "code",
   "execution_count": 5,
   "metadata": {},
   "outputs": [
    {
     "name": "stdout",
     "output_type": "stream",
     "text": [
      "DKDJFKSJKDFLSKDF\n"
     ]
    }
   ],
   "source": [
    "string = 'Dkdjfksjkdflskdf'\n",
    "\n",
    "print(string.upper())"
   ]
  }
 ],
 "metadata": {
  "kernelspec": {
   "display_name": "Python 3.9.12 ('base')",
   "language": "python",
   "name": "python3"
  },
  "language_info": {
   "codemirror_mode": {
    "name": "ipython",
    "version": 3
   },
   "file_extension": ".py",
   "mimetype": "text/x-python",
   "name": "python",
   "nbconvert_exporter": "python",
   "pygments_lexer": "ipython3",
   "version": "3.9.12"
  },
  "vscode": {
   "interpreter": {
    "hash": "a077222d77dfe082b8f1dd562ad70e458ac2ab76993a0b248ab0476e32e9e8dd"
   }
  }
 },
 "nbformat": 4,
 "nbformat_minor": 0
}
