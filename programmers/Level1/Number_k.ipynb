{
 "cells": [
  {
   "cell_type": "code",
   "execution_count": 4,
   "metadata": {
    "collapsed": true
   },
   "outputs": [],
   "source": [
    "def solution(array, commands):\n",
    "    answer = []\n",
    "    for n in commands:\n",
    "        ans = []\n",
    "        i = n[0] - 1\n",
    "        j = n[1] - 1\n",
    "        k = n[2] - 1\n",
    "        while True:\n",
    "            ans.append(array[i])\n",
    "            if i == j:\n",
    "                break\n",
    "            i += 1\n",
    "        ans.sort()\n",
    "        answer.append(ans[k])\n",
    "    return answer\n",
    "\n",
    "array = [1, 5, 2, 6, 3, 7, 4]\n",
    "commands = [[2, 5, 3], [4, 4, 1], [1, 7, 3]]"
   ]
  }
 ],
 "metadata": {
  "kernelspec": {
   "display_name": "Python 3",
   "language": "python",
   "name": "python3"
  },
  "language_info": {
   "codemirror_mode": {
    "name": "ipython",
    "version": 2
   },
   "file_extension": ".py",
   "mimetype": "text/x-python",
   "name": "python",
   "nbconvert_exporter": "python",
   "pygments_lexer": "ipython2",
   "version": "2.7.6"
  }
 },
 "nbformat": 4,
 "nbformat_minor": 0
}