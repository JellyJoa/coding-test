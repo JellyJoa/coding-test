{
 "cells": [
  {
   "cell_type": "code",
   "execution_count": 11,
   "metadata": {
    "collapsed": false,
    "pycharm": {
     "name": "#%%\n"
    }
   },
   "outputs": [
    {
     "data": {
      "text/plain": [
       "873211"
      ]
     },
     "execution_count": 11,
     "metadata": {},
     "output_type": "execute_result"
    }
   ],
   "source": [
    "def solution(n):\n",
    "    answer = ''\n",
    "    lst = [i for i in str(n)]\n",
    "    lst.sort(reverse=True)\n",
    "    for j in lst:\n",
    "        answer += j\n",
    "    answer = int(answer)\n",
    "    return answer\n",
    "\n",
    "n = 118372\n",
    "solution(n)"
   ]
  },
  {
   "cell_type": "code",
   "execution_count": 14,
   "metadata": {
    "collapsed": false,
    "pycharm": {
     "name": "#%%\n"
    }
   },
   "outputs": [
    {
     "data": {
      "text/plain": [
       "6"
      ]
     },
     "execution_count": 14,
     "metadata": {},
     "output_type": "execute_result"
    }
   ],
   "source": [
    "# 약수의 합\n",
    "\n",
    "def solution(n):\n",
    "    answer = 0\n",
    "    for i in range(1, n+1):\n",
    "        if n % i == 0:\n",
    "            answer += i\n",
    "    return answer\n",
    "\n",
    "n = 5\n",
    "solution(n)"
   ]
  },
  {
   "cell_type": "code",
   "execution_count": 7,
   "metadata": {},
   "outputs": [
    {
     "name": "stdout",
     "output_type": "stream",
     "text": [
      "1\n",
      "5\n"
     ]
    },
    {
     "data": {
      "text/plain": [
       "6"
      ]
     },
     "execution_count": 7,
     "metadata": {},
     "output_type": "execute_result"
    }
   ],
   "source": [
    "def solution(n):\n",
    "    cnt = 0\n",
    "    for i in range(n+1):\n",
    "        if i != 0 and n % i == 0:\n",
    "            # print(i)\n",
    "            cnt += i\n",
    "    return cnt\n",
    "\n",
    "n = 5\n",
    "solution(n)\n"
   ]
  },
  {
   "cell_type": "code",
   "execution_count": 39,
   "metadata": {
    "collapsed": false,
    "pycharm": {
     "name": "#%%\n"
    }
   },
   "outputs": [
    {
     "data": {
      "text/plain": [
       "[3, 12]"
      ]
     },
     "execution_count": 39,
     "metadata": {},
     "output_type": "execute_result"
    }
   ],
   "source": [
    "# 최대공약수와 최소공배수\n",
    "\n",
    "def solution(n, m):\n",
    "    answer = []\n",
    "    mini = min(n, m)\n",
    "    a = 0\n",
    "    for i in range(1, mini+1):\n",
    "        if m % i == 0 and n % i ==0:\n",
    "            a = i\n",
    "    answer.append(a)\n",
    "    answer.append(int(m * n / a))\n",
    "\n",
    "    return answer\n",
    "\n",
    "n = 12\n",
    "m = 3\n",
    "solution(n, m)"
   ]
  },
  {
   "cell_type": "code",
   "execution_count": 18,
   "metadata": {},
   "outputs": [
    {
     "data": {
      "text/plain": [
       "[2, 12]"
      ]
     },
     "execution_count": 18,
     "metadata": {},
     "output_type": "execute_result"
    }
   ],
   "source": [
    "# 2개 맞음\n",
    "def solution(n, m):\n",
    "    small = min(n, m)\n",
    "    big = max(n,m)\n",
    "    result = []\n",
    "    for i in range(1, small+1):\n",
    "        if i != 1 and small % i == 0 and big % i == 0:\n",
    "            result.append(i)\n",
    "            break\n",
    "    if len(result) == 0:\n",
    "        result.append(1)\n",
    "    if big % small == 0:\n",
    "        result.append(big)\n",
    "    else:\n",
    "        result.append(big * small)\n",
    "    return result\n",
    "\n",
    "n = 12\n",
    "m = 2\n",
    "solution(n, m)"
   ]
  },
  {
   "cell_type": "code",
   "execution_count": 22,
   "metadata": {},
   "outputs": [
    {
     "data": {
      "text/plain": [
       "[2, 12]"
      ]
     },
     "execution_count": 22,
     "metadata": {},
     "output_type": "execute_result"
    }
   ],
   "source": [
    "# 3개 맞음\n",
    "def solution(n, m):\n",
    "    small = min(n, m)\n",
    "    big = max(n,m)\n",
    "    result = [0,0]\n",
    "    for i in range(1, small+1):\n",
    "        if small % i == 0 and big % i == 0:\n",
    "            result[0]=i\n",
    "    if big % small == 0:\n",
    "        result[1]=big\n",
    "    else:\n",
    "        result[1] = big * small\n",
    "    return result\n",
    "\n",
    "n = 12\n",
    "m = 2\n",
    "solution(n, m)"
   ]
  },
  {
   "cell_type": "code",
   "execution_count": 26,
   "metadata": {},
   "outputs": [
    {
     "data": {
      "text/plain": [
       "[1, 33]"
      ]
     },
     "execution_count": 26,
     "metadata": {},
     "output_type": "execute_result"
    }
   ],
   "source": [
    "#### 어려움..\n",
    "def solution(n, m):\n",
    "    small = min(n, m)\n",
    "    big = max(n,m)\n",
    "    result = []\n",
    "    a = 0\n",
    "    for i in range(1, small+1):\n",
    "        if small % i == 0 and big % i == 0:\n",
    "            a = i                       # a로 설정하면 a=1이 되어도 다른 숫자로 덮어씌울 수 있음\n",
    "    result.append(a)\n",
    "    result.append(int(n*m/a))           # 최대공약수 공식\n",
    "    return result\n",
    "\n",
    "n = 11\n",
    "m = 3\n",
    "solution(n, m)"
   ]
  }
 ],
 "metadata": {
  "kernelspec": {
   "display_name": "Python 3.9.12 ('base')",
   "language": "python",
   "name": "python3"
  },
  "language_info": {
   "codemirror_mode": {
    "name": "ipython",
    "version": 3
   },
   "file_extension": ".py",
   "mimetype": "text/x-python",
   "name": "python",
   "nbconvert_exporter": "python",
   "pygments_lexer": "ipython3",
   "version": "3.9.12"
  },
  "vscode": {
   "interpreter": {
    "hash": "a077222d77dfe082b8f1dd562ad70e458ac2ab76993a0b248ab0476e32e9e8dd"
   }
  }
 },
 "nbformat": 4,
 "nbformat_minor": 0
}
