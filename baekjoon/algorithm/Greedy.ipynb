{
 "cells": [
  {
   "cell_type": "markdown",
   "source": [
    "2839번\n",
    "상근이는 요즘 설탕공장에서 설탕을 배달하고 있다. 상근이는 지금 사탕가게에 설탕을 정확하게 N킬로그램을 배달해야 한다.\n",
    "설탕공장에서 만드는 설탕은 봉지에 담겨져 있다. 봉지는 3킬로그램 봉지와 5킬로그램 봉지가 있다.\n",
    "\n",
    "상근이는 귀찮기 때문에, 최대한 적은 봉지를 들고 가려고 한다. 예를 들어, 18킬로그램 설탕을 배달해야 할 때, 3킬로그램 봉지 6개를 가져가도 되지만,\n",
    "5킬로그램 3개와 3킬로그램 1개를 배달하면, 더 적은 개수의 봉지를 배달할 수 있다.\n",
    "\n",
    "상근이가 설탕을 정확하게 N킬로그램 배달해야 할 때, 봉지 몇 개를 가져가면 되는지 그 수를 구하는 프로그램을 작성하시오."
   ],
   "metadata": {
    "collapsed": false,
    "pycharm": {
     "name": "#%% md\n"
    }
   }
  },
  {
   "cell_type": "code",
   "execution_count": 9,
   "outputs": [
    {
     "name": "stdout",
     "output_type": "stream",
     "text": [
      "4\n"
     ]
    }
   ],
   "source": [
    "# mine\n",
    "n = int(input())\n",
    "cnt = 0\n",
    "\n",
    "if n > 0:\n",
    "    cnt += n//5\n",
    "    n = n % 5\n",
    "\n",
    "    cnt += n//3\n",
    "    n = n % 3\n",
    "\n",
    "if 0 < n:\n",
    "    cnt = -1\n",
    "\n",
    "print(cnt)\n",
    "\n",
    "# 위 아래 조건문이 같음...?\n",
    "# 3, 5 동시에 나누는 식만 있음"
   ],
   "metadata": {
    "collapsed": false,
    "pycharm": {
     "name": "#%%\n"
    }
   }
  },
  {
   "cell_type": "code",
   "execution_count": 37,
   "outputs": [
    {
     "name": "stdout",
     "output_type": "stream",
     "text": [
      "-1\n"
     ]
    }
   ],
   "source": [
    "n = int(input())\n",
    "cnt = 0\n",
    "\n",
    "if n % 5 == 0 or n % 3 == 0 or n % 15 == 0:\n",
    "    if n % 5 != 3 and n % 5 != 0:\n",
    "        cnt += n // 3\n",
    "        print(cnt, 1)\n",
    "    elif n % 5 == 0:\n",
    "        cnt += n // 5\n",
    "        print(cnt, 2)\n",
    "    else:\n",
    "        cnt += n // 5\n",
    "        print(cnt)\n",
    "        n = n % 5\n",
    "        cnt += n // 3\n",
    "        print(cnt)\n",
    "\n",
    "else:\n",
    "    cnt = -1\n",
    "\n",
    "print(cnt)\n",
    "\n",
    "# 15 필요없음\n",
    "# 13을 넣었을때 -1이 나옴"
   ],
   "metadata": {
    "collapsed": false,
    "pycharm": {
     "name": "#%%\n"
    }
   }
  },
  {
   "cell_type": "code",
   "execution_count": 38,
   "outputs": [
    {
     "name": "stdout",
     "output_type": "stream",
     "text": [
      "2\n",
      "3\n",
      "3\n"
     ]
    }
   ],
   "source": [
    "n = int(input())\n",
    "cnt = 0\n",
    "\n",
    "if n % 5 != 0:\n",
    "    if n % 5 == 3:\n",
    "        cnt += n // 5\n",
    "        print(cnt)\n",
    "        n = n % 5\n",
    "        cnt += n // 3\n",
    "        print(cnt)\n",
    "    else:\n",
    "        cnt += n // 3\n",
    "        print(cnt, 1)\n",
    "\n",
    "elif n % 5 == 0:\n",
    "    cnt += n // 5\n",
    "    print(cnt, 2)\n",
    "\n",
    "else:\n",
    "    cnt = -1\n",
    "print(cnt)\n",
    "\n",
    "# 조건문..."
   ],
   "metadata": {
    "collapsed": false,
    "pycharm": {
     "name": "#%%\n"
    }
   }
  },
  {
   "cell_type": "code",
   "execution_count": null,
   "outputs": [],
   "source": [
    "# solution\n",
    "n = int(input())\n",
    "\n",
    "if n % 5 == 0:  # 5으로 나눠떨어질 때\n",
    "    print(n // 5)\n",
    "else:\n",
    "    p = 0\n",
    "    while n > 0:\n",
    "        n -= 3\n",
    "        p += 1\n",
    "        # if문 조건에 해당되지 않으면 다시 n-=3, p+=1 반복\n",
    "        if n % 5 == 0:  # 3kg과 5kg를 조합해서 담을 수 있을 때\n",
    "            p += n // 5\n",
    "            print(p)\n",
    "            break\n",
    "        elif n == 1 or n == 2:  # 설탕 봉지만으로 나눌 수 없을 때\n",
    "            print(-1)\n",
    "            break\n",
    "        elif n == 0:  # 3으로 나눠떨어질 때\n",
    "            print(p)\n",
    "            break"
   ],
   "metadata": {
    "collapsed": false,
    "pycharm": {
     "name": "#%%\n"
    }
   }
  },
  {
   "cell_type": "code",
   "execution_count": 7,
   "metadata": {
    "collapsed": true
   },
   "outputs": [
    {
     "name": "stdout",
     "output_type": "stream",
     "text": [
      "3\n"
     ]
    }
   ],
   "source": [
    "# me\n",
    "n = int(input())\n",
    "cnt = []\n",
    "\n",
    "for i in range(n):\n",
    "    for j in range(n):\n",
    "        if 5*j + 3*i == n:\n",
    "            cnt.append(i+j)\n",
    "if len(cnt) == 0:\n",
    "    print(-1)\n",
    "else:\n",
    "    print(min(cnt))"
   ]
  },
  {
   "cell_type": "code",
   "execution_count": null,
   "outputs": [],
   "source": [
    "# 빠른 풀이\n",
    "n = int(input())\n",
    "ans = 0\n",
    "while n > 0:\n",
    "    if n % 5 == 0:\n",
    "        ans += n // 5\n",
    "        n = 0\n",
    "    else:\n",
    "        n -= 3\n",
    "        ans += 1\n",
    "if n != 0:\n",
    "    ans = -1\n",
    "print(ans)"
   ],
   "metadata": {
    "collapsed": false,
    "pycharm": {
     "name": "#%%\n"
    }
   }
  },
  {
   "cell_type": "markdown",
   "source": [
    "11399번\n",
    "인하은행에는 ATM이 1대밖에 없다. 지금 이 ATM앞에 N명의 사람들이 줄을 서있다. 사람은 1번부터 N번까지 번호가 매겨져 있으며, i번 사람이 돈을 인출하는데 걸리는 시간은 Pi분이다.\n",
    "\n",
    "사람들이 줄을 서는 순서에 따라서, 돈을 인출하는데 필요한 시간의 합이 달라지게 된다. 예를 들어, 총 5명이 있고, P1 = 3, P2 = 1, P3 = 4, P4 = 3, P5 = 2 인 경우를 생각해보자. [1, 2, 3, 4, 5] 순서로 줄을 선다면, 1번 사람은 3분만에 돈을 뽑을 수 있다. 2번 사람은 1번 사람이 돈을 뽑을 때 까지 기다려야 하기 때문에, 3+1 = 4분이 걸리게 된다. 3번 사람은 1번, 2번 사람이 돈을 뽑을 때까지 기다려야 하기 때문에, 총 3+1+4 = 8분이 필요하게 된다. 4번 사람은 3+1+4+3 = 11분, 5번 사람은 3+1+4+3+2 = 13분이 걸리게 된다. 이 경우에 각 사람이 돈을 인출하는데 필요한 시간의 합은 3+4+8+11+13 = 39분이 된다.\n",
    "\n",
    "줄을 [2, 5, 1, 4, 3] 순서로 줄을 서면, 2번 사람은 1분만에, 5번 사람은 1+2 = 3분, 1번 사람은 1+2+3 = 6분, 4번 사람은 1+2+3+3 = 9분, 3번 사람은 1+2+3+3+4 = 13분이 걸리게 된다. 각 사람이 돈을 인출하는데 필요한 시간의 합은 1+3+6+9+13 = 32분이다. 이 방법보다 더 필요한 시간의 합을 최소로 만들 수는 없다.\n",
    "\n",
    "줄을 서 있는 사람의 수 N과 각 사람이 돈을 인출하는데 걸리는 시간 Pi가 주어졌을 때, 각 사람이 돈을 인출하는데 필요한 시간의 합의 최솟값을 구하는 프로그램을 작성하시오."
   ],
   "metadata": {
    "collapsed": false,
    "pycharm": {
     "name": "#%% md\n"
    }
   }
  },
  {
   "cell_type": "code",
   "execution_count": null,
   "outputs": [],
   "source": [],
   "metadata": {
    "collapsed": false,
    "pycharm": {
     "name": "#%%\n"
    }
   }
  },
  {
   "cell_type": "markdown",
   "source": [
    "예제"
   ],
   "metadata": {
    "collapsed": false,
    "pycharm": {
     "name": "#%% md\n"
    }
   }
  },
  {
   "cell_type": "code",
   "execution_count": 1,
   "outputs": [
    {
     "name": "stdout",
     "output_type": "stream",
     "text": [
      "6\n"
     ]
    }
   ],
   "source": [
    "# 거스름돈 (me)\n",
    "N = 1260\n",
    "\n",
    "c_500 = 1260 // 500\n",
    "c_100 = (1260 - 500*c_500) // 100\n",
    "c_50 = (1260 - 500*c_500 - 100*c_100) // 50\n",
    "c_10 = (1260 - 500*c_500 - 100*c_100 - 50*c_50) // 10\n",
    "sum_c = c_500 + c_100 + c_50 + c_10\n",
    "print(sum_c)"
   ],
   "metadata": {
    "collapsed": false,
    "pycharm": {
     "name": "#%%\n"
    }
   }
  },
  {
   "cell_type": "code",
   "execution_count": 3,
   "outputs": [
    {
     "name": "stdout",
     "output_type": "stream",
     "text": [
      "6\n"
     ]
    }
   ],
   "source": [
    "# 거스름돈 (book)\n",
    "n = 1260\n",
    "cnt = 0\n",
    "\n",
    "coin_type = [500, 100, 50, 10]\n",
    "\n",
    "for coin in coin_type:\n",
    "    cnt += n//coin\n",
    "    n %= coin\n",
    "print(cnt)"
   ],
   "metadata": {
    "collapsed": false,
    "pycharm": {
     "name": "#%%\n"
    }
   }
  },
  {
   "cell_type": "code",
   "execution_count": 8,
   "outputs": [
    {
     "name": "stdout",
     "output_type": "stream",
     "text": [
      "[6, 5, 4, 4, 2]\n",
      "46\n"
     ]
    }
   ],
   "source": [
    "# 큰 수의 법칙 (me1)\n",
    "N, M, K = map(int, input().split())\n",
    "num = list(map(int, input().split()))\n",
    "num.sort(reverse=True)\n",
    "print(num)\n",
    "result = 0\n",
    "\n",
    "while True:\n",
    "    if M == 0:\n",
    "        break\n",
    "    if num.count(num[0]) == 1:\n",
    "        for _ in range(K):\n",
    "            # 빠진 부분\n",
    "            # if M == 0:\n",
    "            #     break\n",
    "            result += num[0]\n",
    "            M -= 1\n",
    "        result += num[1]\n",
    "        M -= 1\n",
    "    else:\n",
    "        for _ in range(K):\n",
    "            # 빠진 부분\n",
    "            # if M == 0:\n",
    "            #     break\n",
    "            result += num[0]\n",
    "            M -= 1\n",
    "        for _ in range(K):\n",
    "            # 빠진 부분\n",
    "            # if M == 0:\n",
    "            #     break\n",
    "            result += num[1]\n",
    "            M -= 1\n",
    "print(result)"
   ],
   "metadata": {
    "collapsed": false,
    "pycharm": {
     "name": "#%%\n"
    }
   }
  },
  {
   "cell_type": "code",
   "execution_count": 13,
   "outputs": [
    {
     "name": "stdout",
     "output_type": "stream",
     "text": [
      "[2, 4, 4, 5, 6]\n",
      "46\n"
     ]
    }
   ],
   "source": [
    "# 큰 수의 법칙 (me2)\n",
    "\n",
    "n, m, k = map(int, input().split())\n",
    "n_list = list(map(int, input().split()))\n",
    "n_list.sort()\n",
    "result = 0\n",
    "print(n_list)\n",
    "while True:\n",
    "    if m == 0:\n",
    "        break\n",
    "    if m >= k:\n",
    "        result += (n_list[-1]*k)\n",
    "        m -= k\n",
    "        if m >= 1:\n",
    "            result += n_list[-2]\n",
    "            m -= 1\n",
    "    else:\n",
    "        result += (n_list[-1] * m)\n",
    "        m -= m\n",
    "\n",
    "print(result)"
   ],
   "metadata": {
    "collapsed": false,
    "pycharm": {
     "name": "#%%\n"
    }
   }
  },
  {
   "cell_type": "code",
   "execution_count": 9,
   "outputs": [
    {
     "name": "stdout",
     "output_type": "stream",
     "text": [
      "46\n"
     ]
    }
   ],
   "source": [
    "# 큰 수의 법칙 (book)\n",
    "N, M, K = map(int, input().split())\n",
    "num = list(map(int, input().split()))\n",
    "num.sort()\n",
    "first = num[n-1]\n",
    "second = num[n-2]\n",
    "\n",
    "result = 0\n",
    "\n",
    "while True:\n",
    "    for i in range(K):\n",
    "        if M == 0:\n",
    "            break\n",
    "        result += first\n",
    "        M -= 1\n",
    "    if M == 0:\n",
    "        break\n",
    "    result += second\n",
    "    M -= 1\n",
    "\n",
    "print(result)"
   ],
   "metadata": {
    "collapsed": false,
    "pycharm": {
     "name": "#%%\n"
    }
   }
  },
  {
   "cell_type": "code",
   "execution_count": 11,
   "outputs": [
    {
     "name": "stdout",
     "output_type": "stream",
     "text": [
      "46\n"
     ]
    }
   ],
   "source": [
    "# 큰 수의 법칙 (book2)\n",
    "N, M, K = map(int, input().split())\n",
    "num = list(map(int, input().split()))\n",
    "num.sort()\n",
    "first = num[n-1]\n",
    "second = num[n-2]\n",
    "\n",
    "count = int(M / (K+1)) * K\n",
    "count += M % (K+1)\n",
    "\n",
    "result = 0\n",
    "result += (count) * first\n",
    "result += (M - count) * second\n",
    "\n",
    "print(result)"
   ],
   "metadata": {
    "collapsed": false,
    "pycharm": {
     "name": "#%%\n"
    }
   }
  },
  {
   "cell_type": "code",
   "execution_count": 13,
   "outputs": [
    {
     "name": "stdout",
     "output_type": "stream",
     "text": [
      "3\n"
     ]
    }
   ],
   "source": [
    "# 숫자카드게임 (me)\n",
    "n, m = map(int, input().split())\n",
    "lst = []\n",
    "for i in range(n):\n",
    "    l = list(map(int, input().split()))\n",
    "    lst.append(l)\n",
    "num = []\n",
    "for i in lst:\n",
    "    num.append(min(i))\n",
    "print(max(num))"
   ],
   "metadata": {
    "collapsed": false,
    "pycharm": {
     "name": "#%%\n"
    }
   }
  },
  {
   "cell_type": "code",
   "execution_count": 14,
   "outputs": [
    {
     "name": "stdout",
     "output_type": "stream",
     "text": [
      "2\n"
     ]
    }
   ],
   "source": [
    "# 숫자카드게임 (book1)\n",
    "n, m = map(int, input().split())\n",
    "\n",
    "result = 0\n",
    "for i in range(n):\n",
    "    data = list(map(int, input().split()))\n",
    "    min_value = min(data)\n",
    "    result = max(result, min_value)\n",
    "\n",
    "print(result)"
   ],
   "metadata": {
    "collapsed": false,
    "pycharm": {
     "name": "#%%\n"
    }
   }
  },
  {
   "cell_type": "code",
   "execution_count": 15,
   "outputs": [
    {
     "name": "stdout",
     "output_type": "stream",
     "text": [
      "3\n"
     ]
    }
   ],
   "source": [
    "# 숫자카드게임 (book2)\n",
    "n, m = map(int, input().split())\n",
    "\n",
    "result = 0\n",
    "for i in range(n):\n",
    "    data = list(map(int, input().split()))\n",
    "    min_value = 10001\n",
    "    for a in data:\n",
    "        min_value = min(min_value, a)\n",
    "    result = max(result, min_value)\n",
    "print(result)"
   ],
   "metadata": {
    "collapsed": false,
    "pycharm": {
     "name": "#%%\n"
    }
   }
  }
 ],
 "metadata": {
  "kernelspec": {
   "display_name": "Python 3",
   "language": "python",
   "name": "python3"
  },
  "language_info": {
   "codemirror_mode": {
    "name": "ipython",
    "version": 2
   },
   "file_extension": ".py",
   "mimetype": "text/x-python",
   "name": "python",
   "nbconvert_exporter": "python",
   "pygments_lexer": "ipython2",
   "version": "2.7.6"
  }
 },
 "nbformat": 4,
 "nbformat_minor": 0
}