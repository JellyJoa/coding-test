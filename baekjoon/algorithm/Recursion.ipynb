{
 "cells": [
  {
   "cell_type": "markdown",
   "id": "f6322da1",
   "metadata": {},
   "source": [
    "0보다 크거나 같은 정수 N이 주어진다. 이때, N!을 출력하는 프로그램을 작성하시오."
   ]
  },
  {
   "cell_type": "code",
   "execution_count": 1,
   "id": "9ff08f51",
   "metadata": {},
   "outputs": [
    {
     "name": "stdout",
     "output_type": "stream",
     "text": [
      "1\n"
     ]
    }
   ],
   "source": [
    "def fac(n):\n",
    "    if n <= 1:\n",
    "        return 1\n",
    "    else:\n",
    "        return n * fac(n-1)\n",
    "\n",
    "n = int(input())\n",
    "print(fac(n))"
   ]
  },
  {
   "cell_type": "markdown",
   "id": "79512a81",
   "metadata": {},
   "source": [
    "피보나치 수는 0과 1로 시작한다. 0번째 피보나치 수는 0이고, 1번째 피보나치 수는 1이다. 그 다음 2번째 부터는 바로 앞 두 피보나치 수의 합이 된다.\n",
    "\n",
    "이를 식으로 써보면 Fn = Fn-1 + Fn-2 (n ≥ 2)가 된다.\n",
    "\n",
    "n=17일때 까지 피보나치 수를 써보면 다음과 같다.\n",
    "\n",
    "0, 1, 1, 2, 3, 5, 8, 13, 21, 34, 55, 89, 144, 233, 377, 610, 987, 1597\n",
    "\n",
    "n이 주어졌을 때, n번째 피보나치 수를 구하는 프로그램을 작성하시오."
   ]
  },
  {
   "cell_type": "code",
   "execution_count": 2,
   "id": "da508205",
   "metadata": {},
   "outputs": [
    {
     "name": "stdout",
     "output_type": "stream",
     "text": [
      "1597\n"
     ]
    }
   ],
   "source": [
    "def pibo(n):\n",
    "    if n == 0:\n",
    "        return 0\n",
    "    elif n == 1:\n",
    "        return 1\n",
    "    else:\n",
    "        return pibo(n-1) + pibo(n-2)\n",
    "\n",
    "n = int(input())\n",
    "print(pibo(n))"
   ]
  },
  {
   "cell_type": "markdown",
   "id": "b7a45631",
   "metadata": {},
   "source": [
    "평소에 질문을 잘 받아주기로 유명한 중앙대학교의 JH 교수님은 학생들로부터 재귀함수가 무엇인지에 대하여 많은 질문을 받아왔다.\n",
    "\n",
    "매번 질문을 잘 받아주셨던 JH 교수님이지만 그는 중앙대학교가 자신과 맞는가에 대한 고민을 항상 해왔다.\n",
    "\n",
    "중앙대학교와 자신의 길이 맞지 않다고 생각한 JH 교수님은 결국 중앙대학교를 떠나기로 결정하였다.\n",
    "\n",
    "떠나기 전까지도 제자들을 생각하셨던 JH 교수님은 재귀함수가 무엇인지 물어보는 학생들을 위한 작은 선물로 자동 응답 챗봇을 준비하기로 했다.\n",
    "\n",
    "JH 교수님이 만들 챗봇의 응답을 출력하는 프로그램을 만들어보자."
   ]
  },
  {
   "cell_type": "code",
   "execution_count": null,
   "id": "7402f19b",
   "metadata": {},
   "outputs": [
    {
     "name": "stdout",
     "output_type": "stream",
     "text": [
      "어느 한 컴퓨터공학과 학생이 유명한 교수님을 찾아가 물었다.\n",
      "_____\"재귀함수가 뭔가요?\"\n",
      "____\"잘 들어보게. 옛날옛날 한 산 꼭대기에 이세상 모든 지식을 통달한 선인이 있었어.\n",
      "____마을 사람들은 모두 그 선인에게 수많은 질문을 했고, 모두 지혜롭게 대답해 주었지.\n",
      "____그의 답은 대부분 옳았다고 하네. 그런데 어느 날, 그 선인에게 한 선비가 찾아와서 물었어.\"\n"
     ]
    },
    {
     "ename": "UnboundLocalError",
     "evalue": "local variable 'e' referenced before assignment",
     "output_type": "error",
     "traceback": [
      "\u001b[1;31m---------------------------------------------------------------------------\u001b[0m\n",
      "\u001b[1;31mUnboundLocalError\u001b[0m                         Traceback (most recent call last)\n",
      "\u001b[1;32mc:\\Users\\user\\Desktop\\새 폴더\\coding-test\\baekjoon\\algorithm\\Recursion.ipynb Cell 6'\u001b[0m in \u001b[0;36m<cell line: 18>\u001b[1;34m()\u001b[0m\n",
      "\u001b[0;32m     <a href='vscode-notebook-cell:/c%3A/Users/user/Desktop/%EC%83%88%20%ED%8F%B4%EB%8D%94/coding-test/baekjoon/algorithm/Recursion.ipynb#ch0000005?line=14'>15</a>\u001b[0m         \u001b[39mreturn\u001b[39;00m \u001b[39m1\u001b[39m\n",
      "\u001b[0;32m     <a href='vscode-notebook-cell:/c%3A/Users/user/Desktop/%EC%83%88%20%ED%8F%B4%EB%8D%94/coding-test/baekjoon/algorithm/Recursion.ipynb#ch0000005?line=16'>17</a>\u001b[0m n \u001b[39m=\u001b[39m \u001b[39mint\u001b[39m(\u001b[39minput\u001b[39m())\n",
      "\u001b[1;32m---> <a href='vscode-notebook-cell:/c%3A/Users/user/Desktop/%EC%83%88%20%ED%8F%B4%EB%8D%94/coding-test/baekjoon/algorithm/Recursion.ipynb#ch0000005?line=17'>18</a>\u001b[0m solution(n)\n",
      "\n",
      "\u001b[1;32mc:\\Users\\user\\Desktop\\새 폴더\\coding-test\\baekjoon\\algorithm\\Recursion.ipynb Cell 6'\u001b[0m in \u001b[0;36msolution\u001b[1;34m(n)\u001b[0m\n",
      "\u001b[0;32m      <a href='vscode-notebook-cell:/c%3A/Users/user/Desktop/%EC%83%88%20%ED%8F%B4%EB%8D%94/coding-test/baekjoon/algorithm/Recursion.ipynb#ch0000005?line=8'>9</a>\u001b[0m result2 \u001b[39m=\u001b[39m \u001b[39mprint\u001b[39m(a, b, c, d, sep\u001b[39m=\u001b[39m\u001b[39m'\u001b[39m\u001b[39m\\n\u001b[39;00m\u001b[39m____\u001b[39m\u001b[39m'\u001b[39m)\n",
      "\u001b[0;32m     <a href='vscode-notebook-cell:/c%3A/Users/user/Desktop/%EC%83%88%20%ED%8F%B4%EB%8D%94/coding-test/baekjoon/algorithm/Recursion.ipynb#ch0000005?line=9'>10</a>\u001b[0m \u001b[39mif\u001b[39;00m n\u001b[39m==\u001b[39m\u001b[39m1\u001b[39m:\n",
      "\u001b[1;32m---> <a href='vscode-notebook-cell:/c%3A/Users/user/Desktop/%EC%83%88%20%ED%8F%B4%EB%8D%94/coding-test/baekjoon/algorithm/Recursion.ipynb#ch0000005?line=10'>11</a>\u001b[0m     e \u001b[39m=\u001b[39m e\u001b[39m*\u001b[39mn\n",
      "\u001b[0;32m     <a href='vscode-notebook-cell:/c%3A/Users/user/Desktop/%EC%83%88%20%ED%8F%B4%EB%8D%94/coding-test/baekjoon/algorithm/Recursion.ipynb#ch0000005?line=11'>12</a>\u001b[0m     \u001b[39mprint\u001b[39m(e, end\u001b[39m=\u001b[39m\u001b[39m'\u001b[39m\u001b[39m'\u001b[39m)\n",
      "\u001b[0;32m     <a href='vscode-notebook-cell:/c%3A/Users/user/Desktop/%EC%83%88%20%ED%8F%B4%EB%8D%94/coding-test/baekjoon/algorithm/Recursion.ipynb#ch0000005?line=12'>13</a>\u001b[0m     \u001b[39mreturn\u001b[39;00m \u001b[39mprint\u001b[39m(a, b, c, d, sep\u001b[39m=\u001b[39m\u001b[39mf\u001b[39m\u001b[39m'\u001b[39m\u001b[39m\\n\u001b[39;00m\u001b[39m{\u001b[39;00me\u001b[39m*\u001b[39mn\u001b[39m}\u001b[39;00m\u001b[39m'\u001b[39m)\n",
      "\n",
      "\u001b[1;31mUnboundLocalError\u001b[0m: local variable 'e' referenced before assignment"
     ]
    }
   ],
   "source": [
    "def solution(n):\n",
    "    print('어느 한 컴퓨터공학과 학생이 유명한 교수님을 찾아가 물었다.')\n",
    "    a = \"\\\"재귀함수가 뭔가요?\\\"\"\n",
    "    b = '\"잘 들어보게. 옛날옛날 한 산 꼭대기에 이세상 모든 지식을 통달한 선인이 있었어.'\n",
    "    c = '마을 사람들은 모두 그 선인에게 수많은 질문을 했고, 모두 지혜롭게 대답해 주었지.'\n",
    "    d = '그의 답은 대부분 옳았다고 하네. 그런데 어느 날, 그 선인에게 한 선비가 찾아와서 물었어.\"'\n",
    "    \n",
    "    print(e*n, end='')\n",
    "    if n==1:\n",
    "        \n",
    "        return print(a, b, c, d, sep=f'\\n{e*n}')\n",
    "    else:\n",
    "        print(e*n)\n",
    "        return 1\n",
    "        \n",
    "n = int(input())\n",
    "solution(n)\n",
    "        "
   ]
  },
  {
   "cell_type": "code",
   "execution_count": null,
   "id": "5651cbbb",
   "metadata": {},
   "outputs": [
    {
     "name": "stdout",
     "output_type": "stream",
     "text": [
      "어느 한 컴퓨터공학과 학생이 유명한 교수님을 찾아가 물었다.\n",
      "\"재귀함수가 뭔가요?\"\n",
      "\"잘 들어보게. 옛날옛날 한 산 꼭대기에 이세상 모든 지식을 통달한 선인이 있었어.\n",
      "마을 사람들은 모두 그 선인에게 수많은 질문을 했고, 모두 지혜롭게 대답해 주었지.\n",
      "그의 답은 대부분 옳았다고 하네. 그런데 어느 날, 그 선인에게 한 선비가 찾아와서 물었어.\"\n",
      "____\"재귀함수가 뭔가요?\"\n",
      "____\"잘 들어보게. 옛날옛날 한 산 꼭대기에 이세상 모든 지식을 통달한 선인이 있었어.\n",
      "____마을 사람들은 모두 그 선인에게 수많은 질문을 했고, 모두 지혜롭게 대답해 주었지.\n",
      "____그의 답은 대부분 옳았다고 하네. 그런데 어느 날, 그 선인에게 한 선비가 찾아와서 물었어.\"\n",
      "________\"재귀함수가 뭔가요?\"\n",
      "________\"재귀함수는 자기 자신을 호출하는 함수라네\"\n",
      "________라고 답하였지.\n",
      "____라고 답하였지.\n",
      "라고 답하였지.\n"
     ]
    }
   ],
   "source": [
    "# 반복문...\n",
    "\n",
    "print('어느 한 컴퓨터공학과 학생이 유명한 교수님을 찾아가 물었다.')\n",
    "a = \"\\\"재귀함수가 뭔가요?\\\"\"\n",
    "b = '\"잘 들어보게. 옛날옛날 한 산 꼭대기에 이세상 모든 지식을 통달한 선인이 있었어.'\n",
    "c = '마을 사람들은 모두 그 선인에게 수많은 질문을 했고, 모두 지혜롭게 대답해 주었지.'\n",
    "d = '그의 답은 대부분 옳았다고 하네. 그런데 어느 날, 그 선인에게 한 선비가 찾아와서 물었어.\"'\n",
    "e = '____'\n",
    "\n",
    "n = int(input())\n",
    "\n",
    "for i in range(n+1):\n",
    "    print(e*i, end='')\n",
    "    if i == n:\n",
    "        print(a,'\"재귀함수는 자기 자신을 호출하는 함수라네\"', sep=f'\\n{e*i}')\n",
    "    else:\n",
    "        print(a,b,c,d,sep=f'\\n{e*i}')\n",
    "        \n",
    "\n",
    "for i in range(n+1):\n",
    "    print((e*(n-i))+'라고 답하였지.')"
   ]
  },
  {
   "cell_type": "code",
   "execution_count": null,
   "id": "3f5decd3",
   "metadata": {},
   "outputs": [
    {
     "name": "stdout",
     "output_type": "stream",
     "text": [
      "어느 한 컴퓨터공학과 학생이 유명한 교수님을 찾아가 물었다.\n",
      "\"재귀함수가 뭔가요?\"\n",
      "\"잘 들어보게. 옛날옛날 한 산 꼭대기에 이세상 모든 지식을 통달한 선인이 있었어.\n",
      "마을 사람들은 모두 그 선인에게 수많은 질문을 했고, 모두 지혜롭게 대답해 주었지.\n",
      "그의 답은 대부분 옳았다고 하네. 그런데 어느 날, 그 선인에게 한 선비가 찾아와서 물었어.\"\n",
      "____\"재귀함수가 뭔가요?\"\n",
      "____\"잘 들어보게. 옛날옛날 한 산 꼭대기에 이세상 모든 지식을 통달한 선인이 있었어.\n",
      "____마을 사람들은 모두 그 선인에게 수많은 질문을 했고, 모두 지혜롭게 대답해 주었지.\n",
      "____그의 답은 대부분 옳았다고 하네. 그런데 어느 날, 그 선인에게 한 선비가 찾아와서 물었어.\"\n",
      "________\"재귀함수가 뭔가요?\"\n",
      "________\"재귀함수는 자기 자신을 호출하는 함수라네\"\n",
      "________라고 답변하였지.\n",
      "____라고 답변하였지.\n",
      "라고 답변하였지.\n"
     ]
    }
   ],
   "source": [
    "# others\n",
    "\n",
    "def question(n, m):\n",
    "    print(\"____\"*m+'\"재귀함수가 뭔가요?\"')\n",
    "    if n == 0:\n",
    "        print(\"____\"*m+'\"재귀함수는 자기 자신을 호출하는 함수라네\"')\n",
    "        return answer(m)\n",
    "    print(\"____\"*m+'\"잘 들어보게. 옛날옛날 한 산 꼭대기에 이세상 모든 지식을 통달한 선인이 있었어.')\n",
    "    print(\"____\"*m+'마을 사람들은 모두 그 선인에게 수많은 질문을 했고, 모두 지혜롭게 대답해 주었지.')\n",
    "    print(\"____\"*m+'그의 답은 대부분 옳았다고 하네. 그런데 어느 날, 그 선인에게 한 선비가 찾아와서 물었어.\"')\n",
    "    return question(n-1, m+1)\n",
    "\n",
    "def answer(n):\n",
    "    if n < 0:\n",
    "        return\n",
    "    print(\"____\"*n+'라고 답변하였지.')\n",
    "    return answer(n-1)\n",
    "\n",
    "n = int(input())\n",
    "print(\"어느 한 컴퓨터공학과 학생이 유명한 교수님을 찾아가 물었다.\")\n",
    "question(n,0)"
   ]
  },
  {
   "cell_type": "markdown",
   "metadata": {},
   "source": [
    "2447번. 재귀적인 패턴으로 별을 찍어 보자. N이 3의 거듭제곱(3, 9, 27, ...)이라고 할 때, 크기 N의 패턴은 N×N 정사각형 모양이다.\n",
    "\n",
    "크기 3의 패턴은 가운데에 공백이 있고, 가운데를 제외한 모든 칸에 별이 하나씩 있는 패턴이다.\n",
    "\n",
    "***\n",
    "* *\n",
    "***\n",
    "N이 3보다 클 경우, 크기 N의 패턴은 공백으로 채워진 가운데의 (N/3)×(N/3) 정사각형을 크기 N/3의 패턴으로 둘러싼 형태이다. 예를 들어 크기 27의 패턴은 예제 출력 1과 같다."
   ]
  },
  {
   "cell_type": "code",
   "execution_count": null,
   "metadata": {},
   "outputs": [],
   "source": []
  },
  {
   "cell_type": "code",
   "execution_count": null,
   "metadata": {},
   "outputs": [],
   "source": []
  },
  {
   "cell_type": "markdown",
   "metadata": {},
   "source": [
    "11729번. 세 개의 장대가 있고 첫 번째 장대에는 반경이 서로 다른 n개의 원판이 쌓여 있다. 각 원판은 반경이 큰 순서대로 쌓여있다. 이제 수도승들이 다음 규칙에 따라 첫 번째 장대에서 세 번째 장대로 옮기려 한다.\n",
    "\n",
    "한 번에 한 개의 원판만을 다른 탑으로 옮길 수 있다.\n",
    "쌓아 놓은 원판은 항상 위의 것이 아래의 것보다 작아야 한다.\n",
    "이 작업을 수행하는데 필요한 이동 순서를 출력하는 프로그램을 작성하라. 단, 이동 횟수는 최소가 되어야 한다."
   ]
  },
  {
   "cell_type": "code",
   "execution_count": null,
   "metadata": {},
   "outputs": [],
   "source": []
  },
  {
   "cell_type": "code",
   "execution_count": null,
   "metadata": {},
   "outputs": [],
   "source": []
  },
  {
   "cell_type": "code",
   "execution_count": null,
   "metadata": {},
   "outputs": [],
   "source": []
  },
  {
   "cell_type": "code",
   "execution_count": null,
   "metadata": {},
   "outputs": [],
   "source": []
  }
 ],
 "metadata": {
  "kernelspec": {
   "display_name": "Python 3.9.12 ('base')",
   "language": "python",
   "name": "python3"
  },
  "language_info": {
   "codemirror_mode": {
    "name": "ipython",
    "version": 3
   },
   "file_extension": ".py",
   "mimetype": "text/x-python",
   "name": "python",
   "nbconvert_exporter": "python",
   "pygments_lexer": "ipython3",
   "version": "3.9.12"
  },
  "orig_nbformat": 4,
  "vscode": {
   "interpreter": {
    "hash": "a077222d77dfe082b8f1dd562ad70e458ac2ab76993a0b248ab0476e32e9e8dd"
   }
  }
 },
 "nbformat": 4,
 "nbformat_minor": 2
}
