{
 "cells": [
  {
   "cell_type": "code",
   "execution_count": 10,
   "metadata": {
    "collapsed": true
   },
   "outputs": [
    {
     "name": "stdout",
     "output_type": "stream",
     "text": [
      "{'t': 5, 'r': 2, 'u': 2, 'i': 2, 'k': 2, 'a': 1, 'p': 3, 'o': 1}\n",
      "5\n"
     ]
    }
   ],
   "source": [
    "# 3033\n",
    "\n",
    "# 상근이는 꿈에서 길이가 L인 문자열을 외웠다.\n",
    "# 꿈에서 깬 상근이는 이 문자열을 종이에 적었다. 종이를 적던 중에 어떤 문자열은 두 번 이상 등장하는 것 같은 느낌을 받았다.\n",
    "# 문자열이 주어졌을 때, 두 번 이상 등장한 부분 문자열 중 가장 길이가 긴 것을 찾는 프로그램을 작성하시오. (부분문자열은 겹쳐서 등장할 수도 있다)\n",
    "\n",
    "L = int(input())\n",
    "s = input()\n",
    "hash = {}\n",
    "\n",
    "for i in s:\n",
    "    hash[i] = hash.get(i, 0) + 1\n",
    "print(hash)\n",
    "\n",
    "if max(hash.values()) >= 2:\n",
    "    print(max(hash.values()))\n",
    "else:\n",
    "    print(0)"
   ]
  }
 ],
 "metadata": {
  "kernelspec": {
   "display_name": "Python 3",
   "language": "python",
   "name": "python3"
  },
  "language_info": {
   "codemirror_mode": {
    "name": "ipython",
    "version": 2
   },
   "file_extension": ".py",
   "mimetype": "text/x-python",
   "name": "python",
   "nbconvert_exporter": "python",
   "pygments_lexer": "ipython2",
   "version": "2.7.6"
  }
 },
 "nbformat": 4,
 "nbformat_minor": 0
}