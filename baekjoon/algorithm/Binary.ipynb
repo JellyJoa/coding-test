{
 "cells": [
  {
   "cell_type": "markdown",
   "metadata": {},
   "source": [
    "코드메이트 개발 팀에서는 추후에 들어올 신입 개발자들을 위해 개발 환경을 미리 만들어 두려고 한다.\n",
    "\n",
    "이 때, 가장 먼저 해야할 것은 무엇일까 생각해보니,바로 인터넷이 되어야 일을 제대로 처리할 수 있을 것 같다고 생각했다!\n",
    "\n",
    "회사 내에는 현재 아래와 같은 길이의 랜선 4개가 존재한다. 215 513 712 803 위와 같은 4개의 랜선을 잘라 길이가 같은 10개의 랜선을 만들고자 할 때, 만들 수 있는 랜선의 최대 길이는 몇 일까?"
   ]
  },
  {
   "cell_type": "code",
   "execution_count": 1,
   "metadata": {},
   "outputs": [
    {
     "name": "stdout",
     "output_type": "stream",
     "text": [
      "200\n"
     ]
    }
   ],
   "source": [
    "def solution(arr, target):\n",
    "    start = 0\n",
    "    end = arr[-1]\n",
    "    while end - start >= 0:\n",
    "        num = 0\n",
    "        mid = (start + end) // 2\n",
    "        \n",
    "        for i in arr:\n",
    "            num += (i//mid)\n",
    "        if target == num:\n",
    "            return mid\n",
    "        elif target < num:\n",
    "            start = mid + 1\n",
    "        else:\n",
    "            end = mid - 1\n",
    "    return mid\n",
    "\n",
    "lines = [215, 513, 712, 803]\n",
    "lines.sort()\n",
    "target = 10\n",
    "result = solution(lines, target)\n",
    "print(result)"
   ]
  },
  {
   "cell_type": "markdown",
   "metadata": {},
   "source": [
    "Mr Farkle was brought up on a farm and spent quite a bit of time in his youth hunting rabbits! He now teaches maths and computing, and came up with a hunting game to help his students learn about the binary search.\n",
    "\n",
    "He put 50 envelopes at the front of the room, numbered sequentially from 1 to 50. Inside one he hid a rabbit – not a real one, of course, just a card with a rabbit picture on it! He then put cards in all the other envelopes so that if an envelope was chosen with a number lower than the one holding the rabbit, the card would read “Try a higher number”, otherwise the card would read “Try a lower number”.\n",
    "\n",
    "Students have to find the rabbit using a binary search, and write down the numbers of all the envelopes they open (in order) during their search. Remember, in a binary search you have to pick the middle envelope in the range you are searching. This is easy to find if there is an odd number of envelopes, but with an even number, you have to choose the lower numbered of the two middle envelopes. That means 25 will always be the first envelope checked."
   ]
  },
  {
   "cell_type": "code",
   "execution_count": 16,
   "metadata": {},
   "outputs": [
    {
     "name": "stdout",
     "output_type": "stream",
     "text": [
      "25 12 18 15 16 17 "
     ]
    }
   ],
   "source": [
    "# my solv(수정)\n",
    "while True:\n",
    "    target = int(input())\n",
    "    start = 1\n",
    "    end = 50\n",
    "    if target == 0:          # 0일 경우 break 하기위해 전체 코드를 while로\n",
    "        break\n",
    "    while end >= start:\n",
    "        mid = (start + end) // 2\n",
    "        print(mid, end=' ')\n",
    "        if mid == target:\n",
    "            break\n",
    "        elif mid >= target:\n",
    "            end = mid - 1\n",
    "        else:\n",
    "            start = mid + 1"
   ]
  },
  {
   "cell_type": "code",
   "execution_count": null,
   "metadata": {},
   "outputs": [],
   "source": [
    "# other\n",
    "\n",
    "while 1:\n",
    "    n = int(input())\n",
    "    if n == 0:\n",
    "        break\n",
    "    s, e = 1, 50\n",
    "    while s <= e:\n",
    "        m = (s+e)//2\n",
    "        print(m, end=' ')\n",
    "        if m == n:\n",
    "            break\n",
    "        elif m < n:\n",
    "            s = m+1\n",
    "        else:\n",
    "            e = m-1\n",
    "    print()"
   ]
  },
  {
   "cell_type": "markdown",
   "metadata": {},
   "source": [
    "숫자 카드는 정수 하나가 적혀져 있는 카드이다. 상근이는 숫자 카드 N개를 가지고 있다. 정수 M개가 주어졌을 때, 이 수가 적혀있는 숫자 카드를 상근이가 가지고 있는지 아닌지를 구하는 프로그램을 작성하시오."
   ]
  },
  {
   "cell_type": "code",
   "execution_count": 4,
   "metadata": {},
   "outputs": [
    {
     "name": "stdout",
     "output_type": "stream",
     "text": [
      "1 0 0 1 1 0 0 1 "
     ]
    }
   ],
   "source": [
    "n = int(input())\n",
    "n_cards = list(map(int, input().split()))\n",
    "m = int(input())\n",
    "m_cards = list(map(int, input().split()))\n",
    "# result = [0] * len(m_cards)\n",
    "\n",
    "for i in range(len(m_cards)):\n",
    "    if m_cards[i] in n_cards:\n",
    "        print(1, end=' ')\n",
    "    else:\n",
    "        print(0, end=' ')"
   ]
  },
  {
   "cell_type": "code",
   "execution_count": null,
   "metadata": {},
   "outputs": [],
   "source": [
    "# binary\n",
    "n = int(input())\n",
    "n_cards = list(map(int, input().split()))\n",
    "m = int(input())\n",
    "m_cards = list(map(int, input().split()))\n",
    "result = [0] * len(m_cards)\n",
    "\n",
    "n_cards.sort()\n",
    "m_cards.sort()\n",
    "\n",
    "start = 0\n",
    "end = len(m_cards) - 1\n",
    "\n",
    "while end >= start:\n",
    "    for i in range(len(m_cards)):\n",
    "        "
   ]
  },
  {
   "cell_type": "code",
   "execution_count": 5,
   "metadata": {},
   "outputs": [],
   "source": [
    "# other\n",
    "\n",
    "import sys\n",
    "\n",
    "n = int(input())\n",
    "card = list(map(int, sys.stdin.readline().split()))\n",
    "m = int(input())\n",
    "check = list(map(int, sys.stdin.readline().split()))\n",
    "\n",
    "card.sort()\n",
    "\n",
    "def binary_search(array, target, start, end):\n",
    "    while start <= end:\n",
    "        mid = (start + end) // 2\n",
    "\n",
    "        if array[mid] == target:\n",
    "            return mid\n",
    "        elif array[mid] > target:\n",
    "            end = mid - 1\n",
    "        else:\n",
    "            start = mid + 1\n",
    "    return None\n",
    "\n",
    "\n",
    "for i in range(m):\n",
    "    if binary_search(card, check[i], 0, n - 1) is not None:\n",
    "        print(1, end=' ')\n",
    "    else:\n",
    "        print(0, end=' ')"
   ]
  }
 ],
 "metadata": {
  "kernelspec": {
   "display_name": "Python 3.9.12 ('base')",
   "language": "python",
   "name": "python3"
  },
  "language_info": {
   "codemirror_mode": {
    "name": "ipython",
    "version": 3
   },
   "file_extension": ".py",
   "mimetype": "text/x-python",
   "name": "python",
   "nbconvert_exporter": "python",
   "pygments_lexer": "ipython3",
   "version": "3.9.12"
  },
  "orig_nbformat": 4,
  "vscode": {
   "interpreter": {
    "hash": "a077222d77dfe082b8f1dd562ad70e458ac2ab76993a0b248ab0476e32e9e8dd"
   }
  }
 },
 "nbformat": 4,
 "nbformat_minor": 2
}
