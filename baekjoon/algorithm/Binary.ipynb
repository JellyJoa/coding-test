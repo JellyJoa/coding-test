{
 "cells": [
  {
   "cell_type": "markdown",
   "metadata": {},
   "source": [
    "코드메이트 개발 팀에서는 추후에 들어올 신입 개발자들을 위해 개발 환경을 미리 만들어 두려고 한다.\n",
    "\n",
    "이 때, 가장 먼저 해야할 것은 무엇일까 생각해보니,바로 인터넷이 되어야 일을 제대로 처리할 수 있을 것 같다고 생각했다!\n",
    "\n",
    "회사 내에는 현재 아래와 같은 길이의 랜선 4개가 존재한다. 215 513 712 803 위와 같은 4개의 랜선을 잘라 길이가 같은 10개의 랜선을 만들고자 할 때, 만들 수 있는 랜선의 최대 길이는 몇 일까?"
   ]
  },
  {
   "cell_type": "code",
   "execution_count": 1,
   "metadata": {},
   "outputs": [
    {
     "name": "stdout",
     "output_type": "stream",
     "text": [
      "200\n"
     ]
    }
   ],
   "source": [
    "def solution(arr, target):\n",
    "    start = 0\n",
    "    end = arr[-1]\n",
    "    while end - start >= 0:\n",
    "        num = 0\n",
    "        mid = (start + end) // 2\n",
    "        \n",
    "        for i in arr:\n",
    "            num += (i//mid)\n",
    "        if target == num:\n",
    "            return mid\n",
    "        elif target < num:\n",
    "            start = mid + 1\n",
    "        else:\n",
    "            end = mid - 1\n",
    "    return mid\n",
    "\n",
    "lines = [215, 513, 712, 803]\n",
    "lines.sort()\n",
    "target = 10\n",
    "result = solution(lines, target)\n",
    "print(result)"
   ]
  },
  {
   "cell_type": "markdown",
   "metadata": {},
   "source": [
    "Mr Farkle was brought up on a farm and spent quite a bit of time in his youth hunting rabbits! He now teaches maths and computing, and came up with a hunting game to help his students learn about the binary search.\n",
    "\n",
    "He put 50 envelopes at the front of the room, numbered sequentially from 1 to 50. Inside one he hid a rabbit – not a real one, of course, just a card with a rabbit picture on it! He then put cards in all the other envelopes so that if an envelope was chosen with a number lower than the one holding the rabbit, the card would read “Try a higher number”, otherwise the card would read “Try a lower number”.\n",
    "\n",
    "Students have to find the rabbit using a binary search, and write down the numbers of all the envelopes they open (in order) during their search. Remember, in a binary search you have to pick the middle envelope in the range you are searching. This is easy to find if there is an odd number of envelopes, but with an even number, you have to choose the lower numbered of the two middle envelopes. That means 25 will always be the first envelope checked."
   ]
  },
  {
   "cell_type": "code",
   "execution_count": 16,
   "metadata": {},
   "outputs": [
    {
     "name": "stdout",
     "output_type": "stream",
     "text": [
      "25 12 18 15 16 17 "
     ]
    }
   ],
   "source": [
    "# my solv(수정)\n",
    "while True:\n",
    "    target = int(input())\n",
    "    start = 1\n",
    "    end = 50\n",
    "    if target == 0:          # 0일 경우 break 하기위해 전체 코드를 while로\n",
    "        break\n",
    "    while end >= start:\n",
    "        mid = (start + end) // 2\n",
    "        print(mid, end=' ')\n",
    "        if mid == target:\n",
    "            break\n",
    "        elif mid >= target:\n",
    "            end = mid - 1\n",
    "        else:\n",
    "            start = mid + 1"
   ]
  },
  {
   "cell_type": "code",
   "execution_count": null,
   "metadata": {},
   "outputs": [],
   "source": [
    "# other\n",
    "\n",
    "while 1:\n",
    "    n = int(input())\n",
    "    if n == 0:\n",
    "        break\n",
    "    s, e = 1, 50\n",
    "    while s <= e:\n",
    "        m = (s+e)//2\n",
    "        print(m, end=' ')\n",
    "        if m == n:\n",
    "            break\n",
    "        elif m < n:\n",
    "            s = m+1\n",
    "        else:\n",
    "            e = m-1\n",
    "    print()"
   ]
  },
  {
   "cell_type": "markdown",
   "metadata": {},
   "source": [
    "숫자 카드는 정수 하나가 적혀져 있는 카드이다. 상근이는 숫자 카드 N개를 가지고 있다. 정수 M개가 주어졌을 때, 이 수가 적혀있는 숫자 카드를 상근이가 가지고 있는지 아닌지를 구하는 프로그램을 작성하시오."
   ]
  },
  {
   "cell_type": "code",
   "execution_count": 4,
   "metadata": {},
   "outputs": [
    {
     "name": "stdout",
     "output_type": "stream",
     "text": [
      "1 0 0 1 1 0 0 1 "
     ]
    }
   ],
   "source": [
    "n = int(input())\n",
    "n_cards = list(map(int, input().split()))\n",
    "m = int(input())\n",
    "m_cards = list(map(int, input().split()))\n",
    "# result = [0] * len(m_cards)\n",
    "\n",
    "for i in range(len(m_cards)):\n",
    "    if m_cards[i] in n_cards:\n",
    "        print(1, end=' ')\n",
    "    else:\n",
    "        print(0, end=' ')"
   ]
  },
  {
   "cell_type": "code",
   "execution_count": null,
   "metadata": {},
   "outputs": [],
   "source": [
    "# binary\n",
    "n = int(input())\n",
    "n_cards = list(map(int, input().split()))\n",
    "m = int(input())\n",
    "m_cards = list(map(int, input().split()))\n",
    "result = [0] * len(m_cards)\n",
    "\n",
    "n_cards.sort()\n",
    "m_cards.sort()\n",
    "\n",
    "start = 0\n",
    "end = len(m_cards) - 1\n",
    "\n",
    "while end >= start:\n",
    "    for i in range(len(m_cards)):\n",
    "        "
   ]
  },
  {
   "cell_type": "code",
   "execution_count": 5,
   "metadata": {},
   "outputs": [],
   "source": [
    "# other\n",
    "\n",
    "import sys\n",
    "\n",
    "n = int(input())\n",
    "card = list(map(int, sys.stdin.readline().split()))\n",
    "m = int(input())\n",
    "check = list(map(int, sys.stdin.readline().split()))\n",
    "\n",
    "card.sort()\n",
    "\n",
    "def binary_search(array, target, start, end):\n",
    "    while start <= end:\n",
    "        mid = (start + end) // 2\n",
    "\n",
    "        if array[mid] == target:\n",
    "            return mid\n",
    "        elif array[mid] > target:\n",
    "            end = mid - 1\n",
    "        else:\n",
    "            start = mid + 1\n",
    "    return None\n",
    "\n",
    "\n",
    "for i in range(m):\n",
    "    if binary_search(card, check[i], 0, n - 1) is not None:\n",
    "        print(1, end=' ')\n",
    "    else:\n",
    "        print(0, end=' ')"
   ]
  },
  {
   "cell_type": "markdown",
   "metadata": {},
   "source": [
    "13706. 정수 N이 주어졌을 때, N의 제곱근을 구하는 프로그램을 작성하시오."
   ]
  },
  {
   "cell_type": "code",
   "execution_count": 2,
   "metadata": {},
   "outputs": [
    {
     "name": "stdout",
     "output_type": "stream",
     "text": [
      "9\n"
     ]
    }
   ],
   "source": [
    "# my solution\n",
    "# runtime error - 자리수가 커서 소수점이 생기면 오버플로우 에러가 뜸\n",
    "\n",
    "import math\n",
    "n = int(input())\n",
    "print(int(math.sqrt(n)))"
   ]
  },
  {
   "cell_type": "code",
   "execution_count": 3,
   "metadata": {},
   "outputs": [
    {
     "name": "stdout",
     "output_type": "stream",
     "text": [
      "9\n"
     ]
    }
   ],
   "source": [
    "# integer인 경우 isqrt\n",
    "import math\n",
    "n = int(input())\n",
    "print(math.isqrt(n))"
   ]
  },
  {
   "cell_type": "code",
   "execution_count": 4,
   "metadata": {},
   "outputs": [
    {
     "name": "stdout",
     "output_type": "stream",
     "text": [
      "9\n"
     ]
    }
   ],
   "source": [
    "# other - binary\n",
    "\n",
    "n = int(input())\n",
    "low = 1\n",
    "high = n\n",
    "\n",
    "while 1:\n",
    "    mid = (low + high) // 2\n",
    "    if mid ** 2 == n:\n",
    "        print(mid)\n",
    "        break\n",
    "    elif mid ** 2 > n:\n",
    "        high = mid - 1\n",
    "    elif mid ** 2 < n:\n",
    "        low = mid + 1"
   ]
  },
  {
   "cell_type": "markdown",
   "metadata": {},
   "source": [
    "4158. 상근이와 선영이는 동시에 가지고 있는 CD를 팔려고 한다. CD를 몇 개나 팔 수 있을까?"
   ]
  },
  {
   "cell_type": "code",
   "execution_count": 14,
   "metadata": {},
   "outputs": [
    {
     "name": "stdout",
     "output_type": "stream",
     "text": [
      "2\n"
     ]
    }
   ],
   "source": [
    "# 반복문\n",
    "\n",
    "n, m = input().split()\n",
    "n_result = []\n",
    "m_result = []\n",
    "cnt = 0\n",
    "\n",
    "for i in range(int(n)):\n",
    "    n_cd = int(input())\n",
    "    n_result.append(n_cd)\n",
    "for i in range(int(m)):\n",
    "    if i == int(m):\n",
    "        n1, m1 = 0, 0\n",
    "    else:\n",
    "        m_cd = int(input())\n",
    "        m_result.append(m_cd)\n",
    "    \n",
    "\n",
    "for cd in n_result:\n",
    "    if cd in m_result:\n",
    "        cnt += 1\n",
    "print(cnt)\n"
   ]
  },
  {
   "cell_type": "code",
   "execution_count": null,
   "metadata": {},
   "outputs": [],
   "source": [
    "# binary 시도\n",
    "\n",
    "n, m = input().split()\n",
    "mini = 0\n",
    "maxi = max(n,m)\n",
    "\n",
    "while 1:\n",
    "    midi = (mini + maxi) // 2\n",
    "    "
   ]
  },
  {
   "cell_type": "code",
   "execution_count": null,
   "metadata": {},
   "outputs": [],
   "source": [
    "# other\n",
    "\n",
    "from collections import defaultdict\n",
    "import sys\n",
    "input = sys.stdin.readline\n",
    "\n",
    "while True:\n",
    "    cd = defaultdict(bool)\n",
    "    n, m = map(int, input().split())\n",
    "    cnt = 0\n",
    "    if n == 0 and m == 0:\n",
    "        break\n",
    "    for _ in range(n):\n",
    "        cd[int(input())] = True         # number를 key True를 value\n",
    "    for _ in range(m):\n",
    "        if cd[int(input())]:\n",
    "            cnt += 1\n",
    "\n",
    "    print(cnt)"
   ]
  },
  {
   "cell_type": "code",
   "execution_count": null,
   "metadata": {},
   "outputs": [],
   "source": [
    "# other\n",
    "\n",
    "from collections import defaultdict\n",
    "import sys\n",
    "input = sys.stdin.readline\n",
    "\n",
    "while True:\n",
    "    cd = defaultdict(int)\n",
    "    n, m = map(int, input().split())\n",
    "    cnt = 0\n",
    "    if n == 0 and m == 0:\n",
    "        break\n",
    "    for _ in range(n):\n",
    "        num = int(input())\n",
    "        cd[num] = 1         # number를 key True를 value\n",
    "    for _ in range(m):\n",
    "        num = int(input())\n",
    "        if cd.get(num)==1:    # dictionary.get(key값) = dictionary[key값]\n",
    "            cnt += 1          # but!! get은 key값이 없을 때 None / indexing은 error  \n",
    "\n",
    "    print(cnt)"
   ]
  },
  {
   "cell_type": "markdown",
   "metadata": {},
   "source": [
    "19592. 당신을 포함한 N명의 참가자가 각자 자신의 장난감 자동차를 이용해 경주를 하는데, 트랙의 길이는 X 미터이다.\n",
    "\n",
    "참가자는 1번부터 N번까지 번호가 매겨져 있고, 당신의 참가 번호는 N번이다.\n",
    "\n",
    "i번 참가자의 자동차의 일반적인 속도는 V[i] meters per sec (m/s) 이며, 당신을 제외한 모든 참가자의 자동차는 출발점 부터 도착점까지 항상 일정한 속도로 움직인다.\n",
    "\n",
    "단, 당신의 장난감 자동차는 특수 부스터가 있기 때문에, 처음 1초간 Z m/s 로 움직이도록 설정할 수 있다 (이 때 트랙의 나머지 거리는 V[N] m/s 로 일정한 속도로 움직인다).\n",
    "\n",
    "경주 시작 전 정수 Z값을 고를 수 있으며, 이 값은 반드시 부스터 속도 한계치인 Y m/s 이하이어야 한다 (Z ≤ Y). \n",
    "\n",
    "당신은 꼭 이 경주에서 단독 1등을 하고 싶은데, 부스터를 지나치게 사용하면 의심 받을 수 있으니 단독 우승이 가능토록 하는 최소의 Z값을 구하고 싶다.\n",
    "\n",
    "예를 들어 N = 3, X = 12, Y = 11 이라하고, V = [3, 2, 1] 이라 하자.\n",
    "\n",
    "1번 참가자의 자동차는 3 m/s의 일정한 속도로 움직여서 4초만에 경주를 마친다.\n",
    "2번 참가자의 자동차는 2 m/s의 일정한 속도로 움직여서 6초만에 경주를 마친다.\n",
    "3번 참가자인 당신의 경우 여러 가지 가능성이 있다.\n",
    "부스터를 사용하지 않으면 1 m/s의 일정한 속도로 움직여서 12초만에 경주를 마친다.\n",
    "부스터를 최대치로 사용하면 (Z = Y) 첫 1초간 11m를 이동하고, 나머지 1m를 1초간 주행해서 2초만에 경주를 마치며 단독 우승 할 수 있다.\n",
    "부스터를 조금 덜 사용하여 Z = 10미터를 1초만에 이동하면, 나머지 2m는 원래 속도로 이동하여 총 3초가 걸리고, 단독 우승할 수 있다.\n",
    "그보다 조금 덜 사용하여 Z = 9미터를 1초만에 이동하면, 나머지 3m는 원래 속도로 이동하여 총 4초가 걸리고, 1번 자동차와 같은 시간만큼 걸린다 (공동 우승).\n",
    "위의 예제의 경우 단독 우승을 하기 위해 최소 10미터를 부스터를 사용하여 이동하여야 하므로, 원하는 답이 10이다.\n",
    "\n",
    "입력으로 N, X, Y, 그리고 각 장난감 자동차의 속도 V가 주어졌을 때 단독 우승을 하기 위해 부스터를 사용해서 이동해야하는 최소한의 거리를 구하는 프로그램을 작성하시오."
   ]
  },
  {
   "cell_type": "code",
   "execution_count": null,
   "metadata": {},
   "outputs": [],
   "source": [
    "t = int(input())\n",
    "t_list = [0] * 3\n",
    "for _ in range(t):\n",
    "    n, x, y = input().split()\n",
    "    v = input().split()\n",
    "\n",
    "    for i in v:\n",
    "        if y % int(i) > 0:\n",
    "            "
   ]
  },
  {
   "cell_type": "code",
   "execution_count": 1,
   "metadata": {},
   "outputs": [
    {
     "name": "stdout",
     "output_type": "stream",
     "text": [
      "['2', '3', '1']\n"
     ]
    }
   ],
   "source": [
    "v = input().split()\n",
    "print(v)"
   ]
  },
  {
   "cell_type": "code",
   "execution_count": null,
   "metadata": {},
   "outputs": [],
   "source": []
  },
  {
   "cell_type": "code",
   "execution_count": null,
   "metadata": {},
   "outputs": [],
   "source": []
  },
  {
   "cell_type": "code",
   "execution_count": null,
   "metadata": {},
   "outputs": [],
   "source": []
  }
 ],
 "metadata": {
  "kernelspec": {
   "display_name": "Python 3.9.12 ('base')",
   "language": "python",
   "name": "python3"
  },
  "language_info": {
   "codemirror_mode": {
    "name": "ipython",
    "version": 3
   },
   "file_extension": ".py",
   "mimetype": "text/x-python",
   "name": "python",
   "nbconvert_exporter": "python",
   "pygments_lexer": "ipython3",
   "version": "3.9.12"
  },
  "orig_nbformat": 4,
  "vscode": {
   "interpreter": {
    "hash": "a077222d77dfe082b8f1dd562ad70e458ac2ab76993a0b248ab0476e32e9e8dd"
   }
  }
 },
 "nbformat": 4,
 "nbformat_minor": 2
}
