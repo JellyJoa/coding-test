{
 "cells": [
  {
   "cell_type": "code",
   "execution_count": 1,
   "metadata": {},
   "outputs": [
    {
     "name": "stdout",
     "output_type": "stream",
     "text": [
      "정렬 전 : [5, 2, 9, 1, 6]\n",
      "정렬 후 : [1, 2, 5, 6, 9]\n"
     ]
    }
   ],
   "source": [
    "# bubble sort\n",
    "\n",
    "arr = [5, 2, 9, 1, 6]\n",
    "length = len(arr)\n",
    "print(f'정렬 전 : {arr}')\n",
    "\n",
    "for i in range(length):\n",
    "    for j in range(0, length-i-1):\n",
    "        if arr[j] > arr[j+1]:\n",
    "            arr[j],arr[j+1] = arr[j+1], arr[j]\n",
    "print(f'정렬 후 : {arr}')"
   ]
  },
  {
   "cell_type": "code",
   "execution_count": 3,
   "metadata": {},
   "outputs": [
    {
     "data": {
      "text/plain": [
       "[1, 2, 3, 4, 5, 6, 7]"
      ]
     },
     "execution_count": 3,
     "metadata": {},
     "output_type": "execute_result"
    }
   ],
   "source": [
    "# quick sort\n",
    "\n",
    "def quick_sort(arr):\n",
    "    if len(arr) > 1:\n",
    "        pivot = arr[len(arr) - 1]\n",
    "        left = 0\n",
    "        for right in range(len(arr)):\n",
    "            if arr[right] < pivot:\n",
    "                arr[right], arr[left] = arr[left], arr[right]\n",
    "                left += 1\n",
    "        arr[len(arr)-1], arr[left] = arr[left], arr[len(arr)-1]\n",
    "\n",
    "        left_side = quick_sort(arr[:left])\n",
    "        right_side = quick_sort(arr[left+1:])\n",
    "        return left_side + [arr[left]] + right_side\n",
    "    else:\n",
    "        return arr\n",
    "\n",
    "arr = [5, 3, 7, 6, 2, 1, 4]\n",
    "start, end = 0, len(arr)-1\n",
    "quick_sort(arr)"
   ]
  },
  {
   "cell_type": "markdown",
   "metadata": {},
   "source": [
    "현재 배열에는 9, 6, 7, 3, 5의 순서로 데이터가 저장되어 있습니다.\n",
    "\n",
    "이 때, 선택 정렬 기법을 사용해 자료를 오름차순으로 정렬하면서,\n",
    "\n",
    "배열의 위치 교환이 일어날 때 마다 전체 배열을 출력해 주세요."
   ]
  },
  {
   "cell_type": "code",
   "execution_count": 4,
   "metadata": {},
   "outputs": [
    {
     "name": "stdout",
     "output_type": "stream",
     "text": [
      "[3, 5, 6, 7, 9]\n"
     ]
    }
   ],
   "source": [
    "# ㅅㅓㄴㅌㅐㄱㅈㅓㅇㄹㅕㄹ\n",
    "arr = [9, 6, 7, 3, 5]\n",
    "\n",
    "for i in range(len(arr)):\n",
    "    mini = min(arr[i:])\n",
    "    min_index = arr.index(mini)\n",
    "    arr[i], arr[min_index] = arr[min_index], arr[i]\n",
    "\n",
    "print(arr)"
   ]
  },
  {
   "cell_type": "markdown",
   "metadata": {},
   "source": [
    "2750. N개의 수가 주어졌을 때, 이를 오름차순으로 정렬하는 프로그램을 작성하시오."
   ]
  },
  {
   "cell_type": "code",
   "execution_count": 6,
   "metadata": {},
   "outputs": [
    {
     "name": "stdout",
     "output_type": "stream",
     "text": [
      "1\n",
      "2\n",
      "3\n",
      "4\n",
      "5\n"
     ]
    }
   ],
   "source": [
    "# 선택정렬\n",
    "n = int(input())\n",
    "arr = []\n",
    "for _ in range(n):\n",
    "    num = int(input())\n",
    "    arr.append(num)\n",
    "    \n",
    "for i in range(n):\n",
    "    mini = min(arr[i:])\n",
    "    idx = arr.index(mini)\n",
    "    arr[i], arr[idx] = arr[idx], arr[i]\n",
    "    print(arr[i])"
   ]
  },
  {
   "cell_type": "markdown",
   "metadata": {},
   "source": [
    "2752. 동규는 세수를 하다가 정렬이 하고싶어졌다.\n",
    "\n",
    "숫자 세 개를 생각한 뒤에, 이를 오름차순으로 정렬하고 싶어 졌다.\n",
    "\n",
    "숫자 세 개가 주어졌을 때, 가장 작은 수, 그 다음 수, 가장 큰 수를 출력하는 프로그램을 작성하시오."
   ]
  },
  {
   "cell_type": "code",
   "execution_count": null,
   "metadata": {},
   "outputs": [],
   "source": [
    "import sys\n",
    "\n",
    "num = list(map(int, sys.stdin.readline().split()))\n",
    "for i in range(len(num)):\n",
    "    mini = min(num[i:])\n",
    "    idx = num.index(mini)\n",
    "    if num[i] > mini:\n",
    "        num[i], num[idx] = num[idx], num[i]\n",
    "    print(num[i])"
   ]
  },
  {
   "cell_type": "markdown",
   "metadata": {},
   "source": [
    "5576. 최근 온라인에서의 프로그래밍 콘테스트가 열렸다. W 대학과 K 대학의 컴퓨터 클럽은 이전부터 라이벌 관계에있어,이 콘테스트를 이용하여 양자의 우열을 정하자라는 것이되었다.\n",
    "\n",
    "이번이 두 대학에서 모두 10 명씩이 콘테스트에 참여했다. 긴 논의 끝에 참가한 10 명 중 득점이 높은 사람에서 3 명의 점수를 합산하여 대학의 득점으로하기로 했다.\n",
    "\n",
    "W 대학 및 K 대학 참가자의 점수 데이터가 주어진다. 이때, 각각의 대학의 점수를 계산하는 프로그램을 작성하라."
   ]
  },
  {
   "cell_type": "code",
   "execution_count": null,
   "metadata": {},
   "outputs": [],
   "source": []
  },
  {
   "cell_type": "code",
   "execution_count": null,
   "metadata": {},
   "outputs": [],
   "source": []
  },
  {
   "cell_type": "code",
   "execution_count": null,
   "metadata": {},
   "outputs": [],
   "source": []
  },
  {
   "cell_type": "code",
   "execution_count": null,
   "metadata": {},
   "outputs": [],
   "source": []
  }
 ],
 "metadata": {
  "kernelspec": {
   "display_name": "Python 3.9.12 ('base')",
   "language": "python",
   "name": "python3"
  },
  "language_info": {
   "codemirror_mode": {
    "name": "ipython",
    "version": 3
   },
   "file_extension": ".py",
   "mimetype": "text/x-python",
   "name": "python",
   "nbconvert_exporter": "python",
   "pygments_lexer": "ipython3",
   "version": "3.9.12"
  },
  "orig_nbformat": 4,
  "vscode": {
   "interpreter": {
    "hash": "a077222d77dfe082b8f1dd562ad70e458ac2ab76993a0b248ab0476e32e9e8dd"
   }
  }
 },
 "nbformat": 4,
 "nbformat_minor": 2
}
