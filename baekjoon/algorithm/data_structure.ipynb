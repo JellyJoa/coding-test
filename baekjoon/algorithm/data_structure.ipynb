{
 "cells": [
  {
   "cell_type": "code",
   "execution_count": 1,
   "metadata": {},
   "outputs": [
    {
     "name": "stderr",
     "output_type": "stream",
     "text": [
      "Exception in thread Thread-4:\n",
      "Traceback (most recent call last):\n",
      "  File \"c:\\Users\\user\\anaconda3\\lib\\threading.py\", line 973, in _bootstrap_inner\n",
      "    self.run()\n",
      "  File \"c:\\Users\\user\\anaconda3\\lib\\threading.py\", line 910, in run\n",
      "    self._target(*self._args, **self._kwargs)\n",
      "  File \"C:\\Users\\user\\AppData\\Local\\Temp\\ipykernel_5112\\831881673.py\", line 21, in print_liked_names\n",
      "IndexError: list index out of range\n"
     ]
    },
    {
     "name": "stdout",
     "output_type": "stream",
     "text": [
      "곰\n",
      "코뮤\n",
      "모각코\n",
      "밥\n"
     ]
    }
   ],
   "source": [
    "# 정렬\n",
    "\n",
    "from threading import Thread\n",
    "import time\n",
    "\n",
    "arr = [\"곰\", \"코뮤\", \"모각코\", \"망고\", \"밥\"]\n",
    "\n",
    "def delete_unliked_name(index):\n",
    "    global arr\n",
    "    time.sleep(1)\n",
    "\n",
    "    arr = arr[0:index] + arr[index + 1 :]\n",
    "\n",
    "def print_liked_names():\n",
    "    global arr\n",
    "    length = len(arr)\n",
    "\n",
    "    time.sleep(2)\n",
    "\n",
    "    for i in range(length):\n",
    "        print(arr[i])\n",
    "\n",
    "th1 = Thread(target=delete_unliked_name, args=(3,))\n",
    "th2 = Thread(target=print_liked_names, args=())\n",
    "\n",
    "th1.start()\n",
    "th2.start()"
   ]
  }
 ],
 "metadata": {
  "kernelspec": {
   "display_name": "Python 3.9.12 ('base')",
   "language": "python",
   "name": "python3"
  },
  "language_info": {
   "codemirror_mode": {
    "name": "ipython",
    "version": 3
   },
   "file_extension": ".py",
   "mimetype": "text/x-python",
   "name": "python",
   "nbconvert_exporter": "python",
   "pygments_lexer": "ipython3",
   "version": "3.9.12"
  },
  "orig_nbformat": 4,
  "vscode": {
   "interpreter": {
    "hash": "a077222d77dfe082b8f1dd562ad70e458ac2ab76993a0b248ab0476e32e9e8dd"
   }
  }
 },
 "nbformat": 4,
 "nbformat_minor": 2
}
