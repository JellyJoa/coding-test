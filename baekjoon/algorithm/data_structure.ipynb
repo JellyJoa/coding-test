{
 "cells": [
  {
   "cell_type": "code",
   "execution_count": 1,
   "metadata": {},
   "outputs": [
    {
     "name": "stderr",
     "output_type": "stream",
     "text": [
      "Exception in thread Thread-4:\n",
      "Traceback (most recent call last):\n",
      "  File \"c:\\Users\\user\\anaconda3\\lib\\threading.py\", line 973, in _bootstrap_inner\n",
      "    self.run()\n",
      "  File \"c:\\Users\\user\\anaconda3\\lib\\threading.py\", line 910, in run\n",
      "    self._target(*self._args, **self._kwargs)\n",
      "  File \"C:\\Users\\user\\AppData\\Local\\Temp\\ipykernel_5112\\831881673.py\", line 21, in print_liked_names\n",
      "IndexError: list index out of range\n"
     ]
    },
    {
     "name": "stdout",
     "output_type": "stream",
     "text": [
      "곰\n",
      "코뮤\n",
      "모각코\n",
      "밥\n"
     ]
    }
   ],
   "source": [
    "# 배열\n",
    "\n",
    "from threading import Thread\n",
    "import time\n",
    "\n",
    "arr = [\"곰\", \"코뮤\", \"모각코\", \"망고\", \"밥\"]\n",
    "\n",
    "def delete_unliked_name(index):\n",
    "    global arr\n",
    "    time.sleep(1)\n",
    "\n",
    "    arr = arr[0:index] + arr[index + 1 :]\n",
    "\n",
    "def print_liked_names():\n",
    "    global arr\n",
    "    length = len(arr)\n",
    "\n",
    "    time.sleep(2)\n",
    "\n",
    "    for i in range(length):\n",
    "        print(arr[i])\n",
    "\n",
    "th1 = Thread(target=delete_unliked_name, args=(3,))\n",
    "th2 = Thread(target=print_liked_names, args=())\n",
    "\n",
    "th1.start()\n",
    "th2.start()"
   ]
  },
  {
   "cell_type": "code",
   "execution_count": 2,
   "metadata": {},
   "outputs": [
    {
     "name": "stdout",
     "output_type": "stream",
     "text": [
      "스택이 비어있습니다.\n",
      "pop :  data 3\n",
      "pop :  data 2\n",
      "pop :  data 1\n",
      "스택이 비어있습니다.\n",
      "pop :  None\n"
     ]
    }
   ],
   "source": [
    "MAX_STACK_SIZE = 3\n",
    "\n",
    "class Stack:\n",
    "    def __init__(self):\n",
    "        self.arr = [None] * MAX_STACK_SIZE\n",
    "        self.top = -1\n",
    "\n",
    "    def is_full(self):\n",
    "        if self.top >= MAX_STACK_SIZE - 1:\n",
    "            return True\n",
    "        else:\n",
    "            return False\n",
    "\n",
    "    def push(self, value):\n",
    "        if self.is_full():\n",
    "            print(\"스택이 가득 찼습니다.\")\n",
    "        else:\n",
    "            self.top += 1\n",
    "            self.arr[self.top] = value\n",
    "\n",
    "    def is_empty(self):\n",
    "        if self.top < 0:\n",
    "            return True\n",
    "        else:\n",
    "            return False\n",
    "\n",
    "    def pop(self):\n",
    "        if (self.is_empty()):\n",
    "            print(\"스택이 비어있습니다.\")\n",
    "        else:\n",
    "            value = self.arr[self.top]\n",
    "            self.top -= 1\n",
    "            return value\n",
    "\n",
    "stack = Stack()\n",
    "\n",
    "stack.pop()\n",
    "\n",
    "stack.push(\"data 1\")\n",
    "stack.push(\"data 2\")\n",
    "stack.push(\"data 3\")\n",
    "\n",
    "print(\"pop : \", stack.pop())\n",
    "print(\"pop : \", stack.pop())\n",
    "print(\"pop : \", stack.pop())\n",
    "print(\"pop : \", stack.pop())"
   ]
  },
  {
   "cell_type": "markdown",
   "metadata": {},
   "source": [
    "첫째 줄에 데이터의 개수 n이 입력된다. ( n ≤ 100 )\n",
    "둘째 줄에 공백을 기준으로 n개의 데이터가 입력 된다.\n",
    "\n",
    "\n",
    "n개 데이터를 입력의 역순으로 출력해 주세요."
   ]
  },
  {
   "cell_type": "code",
   "execution_count": 7,
   "metadata": {},
   "outputs": [
    {
     "name": "stdout",
     "output_type": "stream",
     "text": [
      "13 11 9 7 6 5 3 1 "
     ]
    }
   ],
   "source": [
    "# 배열\n",
    "n = int(input())\n",
    "\n",
    "num = list(map(int, input().split()))\n",
    "\n",
    "for i in num[::-1]:\n",
    "    print(i, end=' ')"
   ]
  },
  {
   "cell_type": "markdown",
   "metadata": {},
   "source": [
    "중괄호 쌍이 아래 두 조건을 만족할 때, 우리는 유효한 중괄호 쌍이라고 불러요.\n",
    "\n",
    "1️⃣ 문자열의 처음부터 끝까지 여는 중괄호의 개수가 같거나 많아야 한다.\n",
    "\n",
    "2️⃣ 문자열이 종료되었을 때, 여는 중괄호의 개수와 닫는 중괄호의 개수가 같아야한다.\n",
    "\n",
    "예를 들어, { { } }는 여는 중괄호가 먼저 2개 나오고, 닫는 중괄호가 2개 나오므로 유효한 중괄호 쌍입니다.\n",
    "\n",
    "하지만 } { 는 여는 중괄호와 닫는 중괄호 모두 1개이므로 갯수는 올바르지만, 닫는 중괄호가 먼저 나오기 때문에 유효하지 않은 중괄호 쌍입니다.\n",
    "\n",
    "이 때, 입력 값으로 주어진 중괄호 쌍이 유효한 중괄호 쌍인지 판정하고, 결과를 출력하는 함수를 만들어 보세요!"
   ]
  },
  {
   "cell_type": "code",
   "execution_count": 15,
   "metadata": {},
   "outputs": [
    {
     "name": "stdout",
     "output_type": "stream",
     "text": [
      "유효한 중괄호 쌍입니다.\n"
     ]
    }
   ],
   "source": [
    "# my solution\n",
    "\n",
    "def validation_brace_pair(string):\n",
    "    each = [i for i in string]\n",
    "    stack_list = []\n",
    "    if each[0] == '}':\n",
    "        return print('유효하지 않은 중괄호 쌍입니다.')\n",
    "    for i, v in enumerate(each):\n",
    "        stack_list.append(v)\n",
    "        if len(stack_list)> 1 and stack_list[-2] == '{' and stack_list[-1] == '}':\n",
    "            stack_list.pop(-1)\n",
    "            stack_list.pop(-1)\n",
    "    \n",
    "    if len(stack_list) == 0:\n",
    "        return print('유효한 중괄호 쌍입니다.')\n",
    "    else:\n",
    "        return print('유효하지 않은 중괄호 쌍입니다.')\n",
    "\n",
    "validation_brace_pair('{{{}}}')"
   ]
  },
  {
   "cell_type": "code",
   "execution_count": null,
   "metadata": {},
   "outputs": [],
   "source": [
    "# other\n",
    "\n",
    "def validate_brace_pair(string):\n",
    "  check=[]\n",
    "  arr=[str(x) for x in string]\n",
    "  if arr[0]=='}':\n",
    "    return '유효하지 않은 중괄호 쌍입니다.'\n",
    "  else:\n",
    "    check.append(arr[0])\n",
    "    for i in range(1,len(arr)):\n",
    "        if arr[i]=='{':\n",
    "          check.append(arr[i])\n",
    "        else:\n",
    "          check.pop()    \n",
    "\n",
    "  if check==[]:\n",
    "    return  '유효한 중괄호 쌍입니다.'\n",
    "  else:\n",
    "    return '유효하지 않은 중괄호 쌍입니다.'"
   ]
  },
  {
   "cell_type": "code",
   "execution_count": null,
   "metadata": {},
   "outputs": [],
   "source": [
    "# other\n",
    "\n",
    "def validate_brace_pair(string):\n",
    "    stack = []\n",
    "    for idx in range(len(string)):\n",
    "        if string[idx] == '{':\n",
    "            stack.append(string[idx])\n",
    "        elif string[idx] == '}': \n",
    "            if len(stack) > 0:\n",
    "              stack.pop()\n",
    "    if len(stack) > 0:\n",
    "        print('유효하지 않은 중괄호 쌍입니다.')\n",
    "    else:\n",
    "        print('유효한 중괄호 쌍입니다.')"
   ]
  },
  {
   "cell_type": "markdown",
   "metadata": {},
   "source": [
    "10828. 정수를 저장하는 스택을 구현한 다음, 입력으로 주어지는 명령을 처리하는 프로그램을 작성하시오. 명령은 총 다섯 가지이다.\n",
    "\n",
    "push X: 정수 X를 스택에 넣는 연산이다.\n",
    "\n",
    "pop: 스택에서 가장 위에 있는 정수를 빼고, 그 수를 출력한다. 만약 스택에 들어있는 정수가 없는 경우에는 -1을 출력한다.\n",
    "\n",
    "size: 스택에 들어있는 정수의 개수를 출력한다.\n",
    "\n",
    "empty: 스택이 비어있으면 1, 아니면 0을 출력한다.\n",
    "\n",
    "top: 스택의 가장 위에 있는 정수를 출력한다. 만약 스택에 들어있는 정수가 없는 경우에는 -1을 출력한다."
   ]
  },
  {
   "cell_type": "code",
   "execution_count": 5,
   "metadata": {},
   "outputs": [
    {
     "name": "stdout",
     "output_type": "stream",
     "text": [
      "-1\n",
      "-1\n",
      "123\n",
      "123\n",
      "-1\n",
      "-1\n"
     ]
    }
   ],
   "source": [
    "# my solution - time over\n",
    "\n",
    "stack = []\n",
    "\n",
    "def push(x):\n",
    "    # global stack\n",
    "    stack.append(x)\n",
    "\n",
    "\n",
    "def pop():\n",
    "    if len(stack) == 0:\n",
    "        return print(-1)\n",
    "    else:\n",
    "        result = stack[-1]\n",
    "        stack.pop(-1)\n",
    "        return print(result)\n",
    "\n",
    "def empty():\n",
    "    if len(stack) == 0:\n",
    "        return print(1)\n",
    "    else:\n",
    "        return print(0)\n",
    "\n",
    "def top():\n",
    "    if len(stack) == 0:\n",
    "        return print(-1)\n",
    "    else:\n",
    "        return print(stack[-1])\n",
    "\n",
    "def size():\n",
    "    return print(len(stack))\n",
    "    \n",
    "n = int(input())\n",
    "\n",
    "for _ in range(n):\n",
    "    order = input().split()\n",
    "\n",
    "    if order[0] == 'push':\n",
    "        push(order[1])\n",
    "    elif order[0] == 'pop':\n",
    "        pop()\n",
    "    elif order[0] == 'empty':\n",
    "        empty()\n",
    "    elif order[0] == 'top':\n",
    "        top()\n",
    "    elif order[0] == 'size':\n",
    "        size()"
   ]
  },
  {
   "cell_type": "code",
   "execution_count": null,
   "metadata": {},
   "outputs": [],
   "source": [
    "# my solution - runtime error\n",
    "import sys\n",
    "stack = []\n",
    "  \n",
    "n = int(sys.stdin.readline().split())\n",
    "\n",
    "for _ in range(n):\n",
    "    order = input().split()\n",
    "\n",
    "    if order[0] == 'push':\n",
    "        stack.append(order[1])\n",
    "    elif order[0] == 'pop':\n",
    "        if len(stack) == 0:\n",
    "            print(-1)\n",
    "        else:\n",
    "            print(stack[-1])\n",
    "            stack.pop(-1)\n",
    "            \n",
    "    elif order[0] == 'empty':\n",
    "        if len(stack) == 0:\n",
    "            print(1)\n",
    "        else:\n",
    "            print(0)\n",
    "\n",
    "    elif order[0] == 'top':\n",
    "        if len(stack) == 0:\n",
    "            print(-1)\n",
    "        else:\n",
    "            print(stack[-1])\n",
    "\n",
    "    elif order[0] == 'size':\n",
    "        print(len(stack))"
   ]
  },
  {
   "cell_type": "code",
   "execution_count": null,
   "metadata": {},
   "outputs": [],
   "source": [
    "# other\n",
    "\n",
    "import sys\n",
    "\n",
    "def push(x):\n",
    "    stack.append(x)\n",
    "\n",
    "def pop():\n",
    "    if(not stack):\n",
    "        return -1\n",
    "    else:\n",
    "        return stack.pop()\n",
    "\n",
    "def size():\n",
    "    return len(stack)\n",
    "\n",
    "def empty():\n",
    "    return 0 if stack else 1\n",
    "\n",
    "def top():\n",
    "    return stack[-1] if stack else -1\n",
    "\n",
    "N = int(sys.stdin.readline().rstrip())\n",
    "stack = []\n",
    "\n",
    "for _ in range(N):\n",
    "    input_split = sys.stdin.readline().rstrip().split()\n",
    "\n",
    "    order = input_split[0]\n",
    "\n",
    "    if order == \"push\":\n",
    "        push(input_split[1])\n",
    "    elif order == \"pop\":\n",
    "        print(pop())\n",
    "    elif order == \"size\":\n",
    "        print(size())\n",
    "    elif order == \"empty\":\n",
    "        print(empty())\n",
    "    elif order == \"top\":\n",
    "        print(top())"
   ]
  }
 ],
 "metadata": {
  "kernelspec": {
   "display_name": "Python 3.9.12 ('base')",
   "language": "python",
   "name": "python3"
  },
  "language_info": {
   "codemirror_mode": {
    "name": "ipython",
    "version": 3
   },
   "file_extension": ".py",
   "mimetype": "text/x-python",
   "name": "python",
   "nbconvert_exporter": "python",
   "pygments_lexer": "ipython3",
   "version": "3.9.12"
  },
  "orig_nbformat": 4,
  "vscode": {
   "interpreter": {
    "hash": "a077222d77dfe082b8f1dd562ad70e458ac2ab76993a0b248ab0476e32e9e8dd"
   }
  }
 },
 "nbformat": 4,
 "nbformat_minor": 2
}
