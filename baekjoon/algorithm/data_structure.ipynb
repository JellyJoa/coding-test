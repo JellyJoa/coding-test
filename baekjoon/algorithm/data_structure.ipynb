{
 "cells": [
  {
   "cell_type": "code",
   "execution_count": 1,
   "metadata": {},
   "outputs": [
    {
     "name": "stderr",
     "output_type": "stream",
     "text": [
      "Exception in thread Thread-4:\n",
      "Traceback (most recent call last):\n",
      "  File \"c:\\Users\\user\\anaconda3\\lib\\threading.py\", line 973, in _bootstrap_inner\n",
      "    self.run()\n",
      "  File \"c:\\Users\\user\\anaconda3\\lib\\threading.py\", line 910, in run\n",
      "    self._target(*self._args, **self._kwargs)\n",
      "  File \"C:\\Users\\user\\AppData\\Local\\Temp\\ipykernel_5112\\831881673.py\", line 21, in print_liked_names\n",
      "IndexError: list index out of range\n"
     ]
    },
    {
     "name": "stdout",
     "output_type": "stream",
     "text": [
      "곰\n",
      "코뮤\n",
      "모각코\n",
      "밥\n"
     ]
    }
   ],
   "source": [
    "# 배열\n",
    "\n",
    "from threading import Thread\n",
    "import time\n",
    "\n",
    "arr = [\"곰\", \"코뮤\", \"모각코\", \"망고\", \"밥\"]\n",
    "\n",
    "def delete_unliked_name(index):\n",
    "    global arr\n",
    "    time.sleep(1)\n",
    "\n",
    "    arr = arr[0:index] + arr[index + 1 :]\n",
    "\n",
    "def print_liked_names():\n",
    "    global arr\n",
    "    length = len(arr)\n",
    "\n",
    "    time.sleep(2)\n",
    "\n",
    "    for i in range(length):\n",
    "        print(arr[i])\n",
    "\n",
    "th1 = Thread(target=delete_unliked_name, args=(3,))\n",
    "th2 = Thread(target=print_liked_names, args=())\n",
    "\n",
    "th1.start()\n",
    "th2.start()"
   ]
  },
  {
   "cell_type": "code",
   "execution_count": 2,
   "metadata": {},
   "outputs": [
    {
     "name": "stdout",
     "output_type": "stream",
     "text": [
      "스택이 비어있습니다.\n",
      "pop :  data 3\n",
      "pop :  data 2\n",
      "pop :  data 1\n",
      "스택이 비어있습니다.\n",
      "pop :  None\n"
     ]
    }
   ],
   "source": [
    "MAX_STACK_SIZE = 3\n",
    "\n",
    "class Stack:\n",
    "    def __init__(self):\n",
    "        self.arr = [None] * MAX_STACK_SIZE\n",
    "        self.top = -1\n",
    "\n",
    "    def is_full(self):\n",
    "        if self.top >= MAX_STACK_SIZE - 1:\n",
    "            return True\n",
    "        else:\n",
    "            return False\n",
    "\n",
    "    def push(self, value):\n",
    "        if self.is_full():\n",
    "            print(\"스택이 가득 찼습니다.\")\n",
    "        else:\n",
    "            self.top += 1\n",
    "            self.arr[self.top] = value\n",
    "\n",
    "    def is_empty(self):\n",
    "        if self.top < 0:\n",
    "            return True\n",
    "        else:\n",
    "            return False\n",
    "\n",
    "    def pop(self):\n",
    "        if (self.is_empty()):\n",
    "            print(\"스택이 비어있습니다.\")\n",
    "        else:\n",
    "            value = self.arr[self.top]\n",
    "            self.top -= 1\n",
    "            return value\n",
    "\n",
    "stack = Stack()\n",
    "\n",
    "stack.pop()\n",
    "\n",
    "stack.push(\"data 1\")\n",
    "stack.push(\"data 2\")\n",
    "stack.push(\"data 3\")\n",
    "\n",
    "print(\"pop : \", stack.pop())\n",
    "print(\"pop : \", stack.pop())\n",
    "print(\"pop : \", stack.pop())\n",
    "print(\"pop : \", stack.pop())"
   ]
  },
  {
   "cell_type": "markdown",
   "metadata": {},
   "source": [
    "첫째 줄에 데이터의 개수 n이 입력된다. ( n ≤ 100 )\n",
    "둘째 줄에 공백을 기준으로 n개의 데이터가 입력 된다.\n",
    "\n",
    "\n",
    "n개 데이터를 입력의 역순으로 출력해 주세요."
   ]
  },
  {
   "cell_type": "code",
   "execution_count": 7,
   "metadata": {},
   "outputs": [
    {
     "name": "stdout",
     "output_type": "stream",
     "text": [
      "13 11 9 7 6 5 3 1 "
     ]
    }
   ],
   "source": [
    "# 배열\n",
    "n = int(input())\n",
    "\n",
    "num = list(map(int, input().split()))\n",
    "\n",
    "for i in num[::-1]:\n",
    "    print(i, end=' ')"
   ]
  },
  {
   "cell_type": "code",
   "execution_count": null,
   "metadata": {},
   "outputs": [],
   "source": [
    "# stack\n"
   ]
  }
 ],
 "metadata": {
  "kernelspec": {
   "display_name": "Python 3.9.12 ('base')",
   "language": "python",
   "name": "python3"
  },
  "language_info": {
   "codemirror_mode": {
    "name": "ipython",
    "version": 3
   },
   "file_extension": ".py",
   "mimetype": "text/x-python",
   "name": "python",
   "nbconvert_exporter": "python",
   "pygments_lexer": "ipython3",
   "version": "3.9.12"
  },
  "orig_nbformat": 4,
  "vscode": {
   "interpreter": {
    "hash": "a077222d77dfe082b8f1dd562ad70e458ac2ab76993a0b248ab0476e32e9e8dd"
   }
  }
 },
 "nbformat": 4,
 "nbformat_minor": 2
}
