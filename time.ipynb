{
 "cells": [
  {
   "cell_type": "code",
   "execution_count": 3,
   "metadata": {
    "collapsed": true
   },
   "outputs": [
    {
     "name": "stdout",
     "output_type": "stream",
     "text": [
      "[1, 638968]\n",
      "수행시간 : 0.0\n"
     ]
    }
   ],
   "source": [
    "# 수행시간 측정\n",
    "import time\n",
    "start_time = time.time()\n",
    "\n",
    "# 코드입력\n",
    "def solution(n, m):\n",
    "    answer = []\n",
    "    mini = min(n, m)\n",
    "    for i in range(2, mini+1):\n",
    "        if m % i == 0 and n % i==0:\n",
    "            answer.append(i)\n",
    "            answer.append(int(m * n / i))\n",
    "            break\n",
    "    if len(answer) == 0:\n",
    "        answer.append(1)\n",
    "        answer.append(m * n)\n",
    "\n",
    "    return print(answer)\n",
    "\n",
    "n = 12056\n",
    "m = 53\n",
    "solution(n, m)\n",
    "\n",
    "\n",
    "\n",
    "end_time = time.time()\n",
    "print(f'수행시간 : {end_time - start_time}')"
   ]
  }
 ],
 "metadata": {
  "kernelspec": {
   "display_name": "Python 3",
   "language": "python",
   "name": "python3"
  },
  "language_info": {
   "codemirror_mode": {
    "name": "ipython",
    "version": 2
   },
   "file_extension": ".py",
   "mimetype": "text/x-python",
   "name": "python",
   "nbconvert_exporter": "python",
   "pygments_lexer": "ipython2",
   "version": "2.7.6"
  }
 },
 "nbformat": 4,
 "nbformat_minor": 0
}